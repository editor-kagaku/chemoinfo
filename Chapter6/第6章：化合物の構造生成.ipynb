{
  "cells": [
    {
      "cell_type": "markdown",
      "id": "74fe8c4e-d20f-4a29-99f1-34642c57972f",
      "metadata": {
        "id": "74fe8c4e-d20f-4a29-99f1-34642c57972f"
      },
      "source": [
        "# 第6章 化合物の構造生成"
      ]
    },
    {
      "cell_type": "markdown",
      "id": "896c33a0-5045-4b98-b142-adb672691ceb",
      "metadata": {
        "id": "896c33a0-5045-4b98-b142-adb672691ceb"
      },
      "source": [
        "## 6. 1 逆解析"
      ]
    },
    {
      "cell_type": "markdown",
      "source": [
        "## 6. 2 SMILESの生成"
      ],
      "metadata": {
        "id": "6GwW3WHAnBMz"
      },
      "id": "6GwW3WHAnBMz"
    },
    {
      "cell_type": "markdown",
      "source": [
        "### 6. 2. 1 LSTMを使った構造生成"
      ],
      "metadata": {
        "id": "4OI7jyA8nIp4"
      },
      "id": "4OI7jyA8nIp4"
    },
    {
      "cell_type": "markdown",
      "id": "85igpjTVQYq0",
      "metadata": {
        "id": "85igpjTVQYq0"
      },
      "source": [
        "rdkitのインストール"
      ]
    },
    {
      "cell_type": "code",
      "execution_count": 1,
      "id": "2iuDxEK87VkD",
      "metadata": {
        "colab": {
          "base_uri": "https://localhost:8080/"
        },
        "id": "2iuDxEK87VkD",
        "outputId": "9f2bc6a8-3d3f-4198-ba76-07c77f2f12f2"
      },
      "outputs": [
        {
          "output_type": "stream",
          "name": "stdout",
          "text": [
            "Collecting rdkit\n",
            "  Downloading rdkit-2025.3.2-cp311-cp311-manylinux_2_28_x86_64.whl.metadata (4.0 kB)\n",
            "Requirement already satisfied: numpy in /usr/local/lib/python3.11/dist-packages (from rdkit) (2.0.2)\n",
            "Requirement already satisfied: Pillow in /usr/local/lib/python3.11/dist-packages (from rdkit) (11.2.1)\n",
            "Downloading rdkit-2025.3.2-cp311-cp311-manylinux_2_28_x86_64.whl (35.2 MB)\n",
            "\u001b[2K   \u001b[90m━━━━━━━━━━━━━━━━━━━━━━━━━━━━━━━━━━━━━━━━\u001b[0m \u001b[32m35.2/35.2 MB\u001b[0m \u001b[31m12.0 MB/s\u001b[0m eta \u001b[36m0:00:00\u001b[0m\n",
            "\u001b[?25hInstalling collected packages: rdkit\n",
            "Successfully installed rdkit-2025.3.2\n"
          ]
        }
      ],
      "source": [
        "pip install rdkit"
      ]
    },
    {
      "cell_type": "markdown",
      "id": "41a6cce5-e3ab-4933-930c-4fac3ed6fdee",
      "metadata": {
        "id": "41a6cce5-e3ab-4933-930c-4fac3ed6fdee"
      },
      "source": [
        "モジュールのインポート"
      ]
    },
    {
      "cell_type": "code",
      "execution_count": 2,
      "id": "ab7da5b5-ba86-43e3-9085-c69fda04b764",
      "metadata": {
        "id": "ab7da5b5-ba86-43e3-9085-c69fda04b764"
      },
      "outputs": [],
      "source": [
        "import numpy as np\n",
        "import pandas as pd\n",
        "import matplotlib.pyplot as plt\n",
        "import rdkit\n",
        "import sklearn\n",
        "from tqdm.notebook import tqdm"
      ]
    },
    {
      "cell_type": "code",
      "execution_count": 3,
      "id": "865a3c60-1697-49d0-8602-114f91c480a3",
      "metadata": {
        "colab": {
          "base_uri": "https://localhost:8080/"
        },
        "id": "865a3c60-1697-49d0-8602-114f91c480a3",
        "outputId": "adbe3e6c-6ef2-48ee-bb3c-e5157d847d18"
      },
      "outputs": [
        {
          "output_type": "stream",
          "name": "stdout",
          "text": [
            "2.6.0+cu124\n",
            "cuda:0\n"
          ]
        }
      ],
      "source": [
        "import torch\n",
        "print(torch.__version__)\n",
        "from torch import nn\n",
        "\n",
        "device = torch.device(\"cuda:0\") if torch.cuda.is_available() else torch.device(\"cpu\")\n",
        "print(device)"
      ]
    },
    {
      "cell_type": "markdown",
      "id": "EIgMkcpzQion",
      "metadata": {
        "id": "EIgMkcpzQion"
      },
      "source": [
        "Google Driveのマウント"
      ]
    },
    {
      "cell_type": "code",
      "execution_count": 4,
      "id": "GzKYbwCK7PlN",
      "metadata": {
        "colab": {
          "base_uri": "https://localhost:8080/"
        },
        "id": "GzKYbwCK7PlN",
        "outputId": "17967a01-d5f0-4a19-f1bb-312c9616252e"
      },
      "outputs": [
        {
          "output_type": "stream",
          "name": "stdout",
          "text": [
            "Mounted at /content/drive\n",
            "/content/drive/MyDrive/Cheminformatics\n"
          ]
        }
      ],
      "source": [
        "from google.colab import drive\n",
        "drive.mount(\"/content/drive\")\n",
        "\n",
        "import os\n",
        "os.chdir(\"/content/drive/MyDrive/Cheminformatics\")\n",
        "print(os.getcwd())"
      ]
    },
    {
      "cell_type": "markdown",
      "source": [
        "学習用データの取り込み"
      ],
      "metadata": {
        "id": "7r8QgsOE2qMI"
      },
      "id": "7r8QgsOE2qMI"
    },
    {
      "cell_type": "code",
      "execution_count": 5,
      "id": "ef384d10-1dd4-4292-9d2f-78ad795c7443",
      "metadata": {
        "colab": {
          "base_uri": "https://localhost:8080/",
          "height": 224
        },
        "id": "ef384d10-1dd4-4292-9d2f-78ad795c7443",
        "outputId": "b08c7b80-96ce-4360-a96d-7d288590eae9"
      },
      "outputs": [
        {
          "output_type": "stream",
          "name": "stdout",
          "text": [
            "(1273104, 1)\n"
          ]
        },
        {
          "output_type": "execute_result",
          "data": {
            "text/plain": [
              "                                                 smi\n",
              "0                                        CCC(C)(C)Br\n",
              "1  CCCN(CCc1cccc(-c2ccccc2)c1)C(=O)C1OC(C(=O)O)=C...\n",
              "2        Oc1ccc(C2CC(c3ccccc3)=NN2C(=S)Nc2ccccc2)cc1\n",
              "3      CC1(C)OCC2OC3(C4OC(C)(C)OC4CO)OC(C)(C)OC3C2O1\n",
              "4  COC(=O)c1cc(C(=CCCCC(=O)SC)c2cc(Cl)c(OC)c(C(=O..."
            ],
            "text/html": [
              "\n",
              "  <div id=\"df-7ef0f10d-bb93-472a-be50-cb9316e4098a\" class=\"colab-df-container\">\n",
              "    <div>\n",
              "<style scoped>\n",
              "    .dataframe tbody tr th:only-of-type {\n",
              "        vertical-align: middle;\n",
              "    }\n",
              "\n",
              "    .dataframe tbody tr th {\n",
              "        vertical-align: top;\n",
              "    }\n",
              "\n",
              "    .dataframe thead th {\n",
              "        text-align: right;\n",
              "    }\n",
              "</style>\n",
              "<table border=\"1\" class=\"dataframe\">\n",
              "  <thead>\n",
              "    <tr style=\"text-align: right;\">\n",
              "      <th></th>\n",
              "      <th>smi</th>\n",
              "    </tr>\n",
              "  </thead>\n",
              "  <tbody>\n",
              "    <tr>\n",
              "      <th>0</th>\n",
              "      <td>CCC(C)(C)Br</td>\n",
              "    </tr>\n",
              "    <tr>\n",
              "      <th>1</th>\n",
              "      <td>CCCN(CCc1cccc(-c2ccccc2)c1)C(=O)C1OC(C(=O)O)=C...</td>\n",
              "    </tr>\n",
              "    <tr>\n",
              "      <th>2</th>\n",
              "      <td>Oc1ccc(C2CC(c3ccccc3)=NN2C(=S)Nc2ccccc2)cc1</td>\n",
              "    </tr>\n",
              "    <tr>\n",
              "      <th>3</th>\n",
              "      <td>CC1(C)OCC2OC3(C4OC(C)(C)OC4CO)OC(C)(C)OC3C2O1</td>\n",
              "    </tr>\n",
              "    <tr>\n",
              "      <th>4</th>\n",
              "      <td>COC(=O)c1cc(C(=CCCCC(=O)SC)c2cc(Cl)c(OC)c(C(=O...</td>\n",
              "    </tr>\n",
              "  </tbody>\n",
              "</table>\n",
              "</div>\n",
              "    <div class=\"colab-df-buttons\">\n",
              "\n",
              "  <div class=\"colab-df-container\">\n",
              "    <button class=\"colab-df-convert\" onclick=\"convertToInteractive('df-7ef0f10d-bb93-472a-be50-cb9316e4098a')\"\n",
              "            title=\"Convert this dataframe to an interactive table.\"\n",
              "            style=\"display:none;\">\n",
              "\n",
              "  <svg xmlns=\"http://www.w3.org/2000/svg\" height=\"24px\" viewBox=\"0 -960 960 960\">\n",
              "    <path d=\"M120-120v-720h720v720H120Zm60-500h600v-160H180v160Zm220 220h160v-160H400v160Zm0 220h160v-160H400v160ZM180-400h160v-160H180v160Zm440 0h160v-160H620v160ZM180-180h160v-160H180v160Zm440 0h160v-160H620v160Z\"/>\n",
              "  </svg>\n",
              "    </button>\n",
              "\n",
              "  <style>\n",
              "    .colab-df-container {\n",
              "      display:flex;\n",
              "      gap: 12px;\n",
              "    }\n",
              "\n",
              "    .colab-df-convert {\n",
              "      background-color: #E8F0FE;\n",
              "      border: none;\n",
              "      border-radius: 50%;\n",
              "      cursor: pointer;\n",
              "      display: none;\n",
              "      fill: #1967D2;\n",
              "      height: 32px;\n",
              "      padding: 0 0 0 0;\n",
              "      width: 32px;\n",
              "    }\n",
              "\n",
              "    .colab-df-convert:hover {\n",
              "      background-color: #E2EBFA;\n",
              "      box-shadow: 0px 1px 2px rgba(60, 64, 67, 0.3), 0px 1px 3px 1px rgba(60, 64, 67, 0.15);\n",
              "      fill: #174EA6;\n",
              "    }\n",
              "\n",
              "    .colab-df-buttons div {\n",
              "      margin-bottom: 4px;\n",
              "    }\n",
              "\n",
              "    [theme=dark] .colab-df-convert {\n",
              "      background-color: #3B4455;\n",
              "      fill: #D2E3FC;\n",
              "    }\n",
              "\n",
              "    [theme=dark] .colab-df-convert:hover {\n",
              "      background-color: #434B5C;\n",
              "      box-shadow: 0px 1px 3px 1px rgba(0, 0, 0, 0.15);\n",
              "      filter: drop-shadow(0px 1px 2px rgba(0, 0, 0, 0.3));\n",
              "      fill: #FFFFFF;\n",
              "    }\n",
              "  </style>\n",
              "\n",
              "    <script>\n",
              "      const buttonEl =\n",
              "        document.querySelector('#df-7ef0f10d-bb93-472a-be50-cb9316e4098a button.colab-df-convert');\n",
              "      buttonEl.style.display =\n",
              "        google.colab.kernel.accessAllowed ? 'block' : 'none';\n",
              "\n",
              "      async function convertToInteractive(key) {\n",
              "        const element = document.querySelector('#df-7ef0f10d-bb93-472a-be50-cb9316e4098a');\n",
              "        const dataTable =\n",
              "          await google.colab.kernel.invokeFunction('convertToInteractive',\n",
              "                                                    [key], {});\n",
              "        if (!dataTable) return;\n",
              "\n",
              "        const docLinkHtml = 'Like what you see? Visit the ' +\n",
              "          '<a target=\"_blank\" href=https://colab.research.google.com/notebooks/data_table.ipynb>data table notebook</a>'\n",
              "          + ' to learn more about interactive tables.';\n",
              "        element.innerHTML = '';\n",
              "        dataTable['output_type'] = 'display_data';\n",
              "        await google.colab.output.renderOutput(dataTable, element);\n",
              "        const docLink = document.createElement('div');\n",
              "        docLink.innerHTML = docLinkHtml;\n",
              "        element.appendChild(docLink);\n",
              "      }\n",
              "    </script>\n",
              "  </div>\n",
              "\n",
              "\n",
              "    <div id=\"df-4ba6bea7-0fd4-4dd7-9a22-8ed2ba11e6e1\">\n",
              "      <button class=\"colab-df-quickchart\" onclick=\"quickchart('df-4ba6bea7-0fd4-4dd7-9a22-8ed2ba11e6e1')\"\n",
              "                title=\"Suggest charts\"\n",
              "                style=\"display:none;\">\n",
              "\n",
              "<svg xmlns=\"http://www.w3.org/2000/svg\" height=\"24px\"viewBox=\"0 0 24 24\"\n",
              "     width=\"24px\">\n",
              "    <g>\n",
              "        <path d=\"M19 3H5c-1.1 0-2 .9-2 2v14c0 1.1.9 2 2 2h14c1.1 0 2-.9 2-2V5c0-1.1-.9-2-2-2zM9 17H7v-7h2v7zm4 0h-2V7h2v10zm4 0h-2v-4h2v4z\"/>\n",
              "    </g>\n",
              "</svg>\n",
              "      </button>\n",
              "\n",
              "<style>\n",
              "  .colab-df-quickchart {\n",
              "      --bg-color: #E8F0FE;\n",
              "      --fill-color: #1967D2;\n",
              "      --hover-bg-color: #E2EBFA;\n",
              "      --hover-fill-color: #174EA6;\n",
              "      --disabled-fill-color: #AAA;\n",
              "      --disabled-bg-color: #DDD;\n",
              "  }\n",
              "\n",
              "  [theme=dark] .colab-df-quickchart {\n",
              "      --bg-color: #3B4455;\n",
              "      --fill-color: #D2E3FC;\n",
              "      --hover-bg-color: #434B5C;\n",
              "      --hover-fill-color: #FFFFFF;\n",
              "      --disabled-bg-color: #3B4455;\n",
              "      --disabled-fill-color: #666;\n",
              "  }\n",
              "\n",
              "  .colab-df-quickchart {\n",
              "    background-color: var(--bg-color);\n",
              "    border: none;\n",
              "    border-radius: 50%;\n",
              "    cursor: pointer;\n",
              "    display: none;\n",
              "    fill: var(--fill-color);\n",
              "    height: 32px;\n",
              "    padding: 0;\n",
              "    width: 32px;\n",
              "  }\n",
              "\n",
              "  .colab-df-quickchart:hover {\n",
              "    background-color: var(--hover-bg-color);\n",
              "    box-shadow: 0 1px 2px rgba(60, 64, 67, 0.3), 0 1px 3px 1px rgba(60, 64, 67, 0.15);\n",
              "    fill: var(--button-hover-fill-color);\n",
              "  }\n",
              "\n",
              "  .colab-df-quickchart-complete:disabled,\n",
              "  .colab-df-quickchart-complete:disabled:hover {\n",
              "    background-color: var(--disabled-bg-color);\n",
              "    fill: var(--disabled-fill-color);\n",
              "    box-shadow: none;\n",
              "  }\n",
              "\n",
              "  .colab-df-spinner {\n",
              "    border: 2px solid var(--fill-color);\n",
              "    border-color: transparent;\n",
              "    border-bottom-color: var(--fill-color);\n",
              "    animation:\n",
              "      spin 1s steps(1) infinite;\n",
              "  }\n",
              "\n",
              "  @keyframes spin {\n",
              "    0% {\n",
              "      border-color: transparent;\n",
              "      border-bottom-color: var(--fill-color);\n",
              "      border-left-color: var(--fill-color);\n",
              "    }\n",
              "    20% {\n",
              "      border-color: transparent;\n",
              "      border-left-color: var(--fill-color);\n",
              "      border-top-color: var(--fill-color);\n",
              "    }\n",
              "    30% {\n",
              "      border-color: transparent;\n",
              "      border-left-color: var(--fill-color);\n",
              "      border-top-color: var(--fill-color);\n",
              "      border-right-color: var(--fill-color);\n",
              "    }\n",
              "    40% {\n",
              "      border-color: transparent;\n",
              "      border-right-color: var(--fill-color);\n",
              "      border-top-color: var(--fill-color);\n",
              "    }\n",
              "    60% {\n",
              "      border-color: transparent;\n",
              "      border-right-color: var(--fill-color);\n",
              "    }\n",
              "    80% {\n",
              "      border-color: transparent;\n",
              "      border-right-color: var(--fill-color);\n",
              "      border-bottom-color: var(--fill-color);\n",
              "    }\n",
              "    90% {\n",
              "      border-color: transparent;\n",
              "      border-bottom-color: var(--fill-color);\n",
              "    }\n",
              "  }\n",
              "</style>\n",
              "\n",
              "      <script>\n",
              "        async function quickchart(key) {\n",
              "          const quickchartButtonEl =\n",
              "            document.querySelector('#' + key + ' button');\n",
              "          quickchartButtonEl.disabled = true;  // To prevent multiple clicks.\n",
              "          quickchartButtonEl.classList.add('colab-df-spinner');\n",
              "          try {\n",
              "            const charts = await google.colab.kernel.invokeFunction(\n",
              "                'suggestCharts', [key], {});\n",
              "          } catch (error) {\n",
              "            console.error('Error during call to suggestCharts:', error);\n",
              "          }\n",
              "          quickchartButtonEl.classList.remove('colab-df-spinner');\n",
              "          quickchartButtonEl.classList.add('colab-df-quickchart-complete');\n",
              "        }\n",
              "        (() => {\n",
              "          let quickchartButtonEl =\n",
              "            document.querySelector('#df-4ba6bea7-0fd4-4dd7-9a22-8ed2ba11e6e1 button');\n",
              "          quickchartButtonEl.style.display =\n",
              "            google.colab.kernel.accessAllowed ? 'block' : 'none';\n",
              "        })();\n",
              "      </script>\n",
              "    </div>\n",
              "\n",
              "    </div>\n",
              "  </div>\n"
            ],
            "application/vnd.google.colaboratory.intrinsic+json": {
              "type": "dataframe",
              "variable_name": "df"
            }
          },
          "metadata": {},
          "execution_count": 5
        }
      ],
      "source": [
        "df = pd.read_table(\"guacamol_v1_train.smiles\", header=None)\n",
        "df.columns = [\"smi\"]\n",
        "\n",
        "print(df.shape)\n",
        "df.head()"
      ]
    },
    {
      "cell_type": "markdown",
      "id": "810ceed4-864e-4b0f-a412-78372d049dc8",
      "metadata": {
        "id": "810ceed4-864e-4b0f-a412-78372d049dc8"
      },
      "source": [
        "#### SMILESの取り出し"
      ]
    },
    {
      "cell_type": "code",
      "execution_count": 6,
      "id": "e310dc1b-66a4-440a-9ed0-68b71351762e",
      "metadata": {
        "colab": {
          "base_uri": "https://localhost:8080/"
        },
        "id": "e310dc1b-66a4-440a-9ed0-68b71351762e",
        "outputId": "367ea2c4-6ad4-49cf-85dc-eaf44473f541"
      },
      "outputs": [
        {
          "output_type": "execute_result",
          "data": {
            "text/plain": [
              "['CCC(C)(C)Br',\n",
              " 'CCCN(CCc1cccc(-c2ccccc2)c1)C(=O)C1OC(C(=O)O)=CC(N)C1NC(C)=O',\n",
              " 'Oc1ccc(C2CC(c3ccccc3)=NN2C(=S)Nc2ccccc2)cc1',\n",
              " 'CC1(C)OCC2OC3(C4OC(C)(C)OC4CO)OC(C)(C)OC3C2O1',\n",
              " 'COC(=O)c1cc(C(=CCCCC(=O)SC)c2cc(Cl)c(OC)c(C(=O)OC)c2)cc(Cl)c1OC']"
            ]
          },
          "metadata": {},
          "execution_count": 6
        }
      ],
      "source": [
        "smiles = df[\"smi\"].tolist()\n",
        "smiles[:5]"
      ]
    },
    {
      "cell_type": "markdown",
      "id": "0080871f-ac02-4df0-8232-9d05ecec4b55",
      "metadata": {
        "id": "0080871f-ac02-4df0-8232-9d05ecec4b55"
      },
      "source": [
        "スタート文字（G）と終了文字（E）を配置"
      ]
    },
    {
      "cell_type": "code",
      "execution_count": 7,
      "id": "89c20558-9fbf-456f-ac78-06c316d5bba4",
      "metadata": {
        "colab": {
          "base_uri": "https://localhost:8080/"
        },
        "id": "89c20558-9fbf-456f-ac78-06c316d5bba4",
        "outputId": "272741f1-b420-4f9f-f44b-0d3b04c1b0d5"
      },
      "outputs": [
        {
          "output_type": "execute_result",
          "data": {
            "text/plain": [
              "['GCCC(C)(C)BrE',\n",
              " 'GCCCN(CCc1cccc(-c2ccccc2)c1)C(=O)C1OC(C(=O)O)=CC(N)C1NC(C)=OE',\n",
              " 'GOc1ccc(C2CC(c3ccccc3)=NN2C(=S)Nc2ccccc2)cc1E',\n",
              " 'GCC1(C)OCC2OC3(C4OC(C)(C)OC4CO)OC(C)(C)OC3C2O1E',\n",
              " 'GCOC(=O)c1cc(C(=CCCCC(=O)SC)c2cc(Cl)c(OC)c(C(=O)OC)c2)cc(Cl)c1OCE']"
            ]
          },
          "metadata": {},
          "execution_count": 7
        }
      ],
      "source": [
        "smiles = [\"G\"+smi+\"E\" for smi in smiles]\n",
        "smiles[:5]"
      ]
    },
    {
      "cell_type": "markdown",
      "id": "19335341-28b4-49b8-b635-32e960ffbd9e",
      "metadata": {
        "id": "19335341-28b4-49b8-b635-32e960ffbd9e"
      },
      "source": [
        "単語リストを作成"
      ]
    },
    {
      "cell_type": "code",
      "execution_count": 8,
      "id": "384424fc-dcb6-40d5-b493-8b0b57e065c9",
      "metadata": {
        "colab": {
          "base_uri": "https://localhost:8080/"
        },
        "id": "384424fc-dcb6-40d5-b493-8b0b57e065c9",
        "outputId": "1fa83189-f614-454e-d989-98b41181db9d"
      },
      "outputs": [
        {
          "output_type": "stream",
          "name": "stdout",
          "text": [
            "['#' '%' '(' ')' '+' '-' '0' '1' '2' '3' '4' '5' '6' '7' '8' '9' '=' 'B'\n",
            " 'C' 'E' 'F' 'G' 'H' 'I' 'N' 'O' 'P' 'S' '[' ']' 'b' 'c' 'e' 'i' 'l' 'n'\n",
            " 'o' 'p' 'r' 's']\n"
          ]
        }
      ],
      "source": [
        "smiles_join = \"\".join(smiles)\n",
        "\n",
        "unique_chars = list(set(smiles_join))\n",
        "unique_chars = np.sort(unique_chars)\n",
        "print(unique_chars)"
      ]
    },
    {
      "cell_type": "markdown",
      "id": "4c41a709-d3ff-42ea-89a2-1f71f1442013",
      "metadata": {
        "id": "4c41a709-d3ff-42ea-89a2-1f71f1442013"
      },
      "source": [
        "単語と番号を対応づける辞書を作成"
      ]
    },
    {
      "cell_type": "code",
      "execution_count": 9,
      "id": "4634b9d7-d1a3-450d-81e7-6762abf27591",
      "metadata": {
        "colab": {
          "base_uri": "https://localhost:8080/"
        },
        "id": "4634b9d7-d1a3-450d-81e7-6762abf27591",
        "outputId": "99af65ff-bd46-489c-c242-d9e4d9a8d509"
      },
      "outputs": [
        {
          "output_type": "stream",
          "name": "stdout",
          "text": [
            "{np.str_('#'): 0, np.str_('%'): 1, np.str_('('): 2, np.str_(')'): 3, np.str_('+'): 4, np.str_('-'): 5, np.str_('0'): 6, np.str_('1'): 7, np.str_('2'): 8, np.str_('3'): 9, np.str_('4'): 10, np.str_('5'): 11, np.str_('6'): 12, np.str_('7'): 13, np.str_('8'): 14, np.str_('9'): 15, np.str_('='): 16, np.str_('B'): 17, np.str_('C'): 18, np.str_('E'): 19, np.str_('F'): 20, np.str_('G'): 21, np.str_('H'): 22, np.str_('I'): 23, np.str_('N'): 24, np.str_('O'): 25, np.str_('P'): 26, np.str_('S'): 27, np.str_('['): 28, np.str_(']'): 29, np.str_('b'): 30, np.str_('c'): 31, np.str_('e'): 32, np.str_('i'): 33, np.str_('l'): 34, np.str_('n'): 35, np.str_('o'): 36, np.str_('p'): 37, np.str_('r'): 38, np.str_('s'): 39}\n"
          ]
        }
      ],
      "source": [
        "# character to int\n",
        "chr2int = dict((c, i) for i, c in enumerate(unique_chars))\n",
        "print(chr2int)"
      ]
    },
    {
      "cell_type": "code",
      "execution_count": 10,
      "id": "740d9af3-8cc4-4695-a04e-e45638aeee99",
      "metadata": {
        "colab": {
          "base_uri": "https://localhost:8080/"
        },
        "id": "740d9af3-8cc4-4695-a04e-e45638aeee99",
        "outputId": "108ce462-e1e5-49fa-8215-bf405db0cf86"
      },
      "outputs": [
        {
          "output_type": "stream",
          "name": "stdout",
          "text": [
            "{0: np.str_('#'), 1: np.str_('%'), 2: np.str_('('), 3: np.str_(')'), 4: np.str_('+'), 5: np.str_('-'), 6: np.str_('0'), 7: np.str_('1'), 8: np.str_('2'), 9: np.str_('3'), 10: np.str_('4'), 11: np.str_('5'), 12: np.str_('6'), 13: np.str_('7'), 14: np.str_('8'), 15: np.str_('9'), 16: np.str_('='), 17: np.str_('B'), 18: np.str_('C'), 19: np.str_('E'), 20: np.str_('F'), 21: np.str_('G'), 22: np.str_('H'), 23: np.str_('I'), 24: np.str_('N'), 25: np.str_('O'), 26: np.str_('P'), 27: np.str_('S'), 28: np.str_('['), 29: np.str_(']'), 30: np.str_('b'), 31: np.str_('c'), 32: np.str_('e'), 33: np.str_('i'), 34: np.str_('l'), 35: np.str_('n'), 36: np.str_('o'), 37: np.str_('p'), 38: np.str_('r'), 39: np.str_('s')}\n"
          ]
        }
      ],
      "source": [
        "# int to character\n",
        "int2chr = dict((i, c) for i, c in enumerate(unique_chars))\n",
        "print(int2chr)"
      ]
    },
    {
      "cell_type": "markdown",
      "id": "436d9671-58a9-41bd-9993-2004ce986d76",
      "metadata": {
        "id": "436d9671-58a9-41bd-9993-2004ce986d76"
      },
      "source": [
        "SMILESを数値化する"
      ]
    },
    {
      "cell_type": "code",
      "execution_count": 11,
      "id": "08c70d94-8c8e-4d3d-a8b6-13e382f434ee",
      "metadata": {
        "colab": {
          "base_uri": "https://localhost:8080/"
        },
        "id": "08c70d94-8c8e-4d3d-a8b6-13e382f434ee",
        "outputId": "f3973b80-0aaa-4564-da26-ac47bdb58131"
      },
      "outputs": [
        {
          "output_type": "stream",
          "name": "stdout",
          "text": [
            "GCCC(C)(C)BrE\n",
            "[21, 18, 18, 18, 2, 18, 3, 2, 18, 3, 17, 38, 19]\n"
          ]
        }
      ],
      "source": [
        "smiles_int = []\n",
        "\n",
        "for i, smi in enumerate(smiles):\n",
        "    smi_tmp = []\n",
        "    for j, s in enumerate(smi):\n",
        "        smi_tmp.append(chr2int[s])\n",
        "    smiles_int.append(smi_tmp)\n",
        "\n",
        "print(smiles[0])\n",
        "print(smiles_int[0])"
      ]
    },
    {
      "cell_type": "code",
      "execution_count": 12,
      "id": "f88a7426-579a-4026-93eb-7fa840537c76",
      "metadata": {
        "id": "f88a7426-579a-4026-93eb-7fa840537c76"
      },
      "outputs": [],
      "source": [
        "X = []\n",
        "Y = []\n",
        "\n",
        "for smi_int in smiles_int:\n",
        "    X.append(torch.tensor(smi_int[:-1]))\n",
        "    Y.append(torch.tensor(smi_int[1:]))"
      ]
    },
    {
      "cell_type": "markdown",
      "id": "db685082-efb8-4a34-ad43-d7fde4027648",
      "metadata": {
        "id": "db685082-efb8-4a34-ad43-d7fde4027648"
      },
      "source": [
        "データをPyTorch用に変換"
      ]
    },
    {
      "cell_type": "code",
      "execution_count": 18,
      "id": "6fb5d092-b038-4d5b-b201-2b0b16de521d",
      "metadata": {
        "id": "6fb5d092-b038-4d5b-b201-2b0b16de521d",
        "colab": {
          "base_uri": "https://localhost:8080/"
        },
        "outputId": "d5dd7ab2-43a1-4bbb-fdb6-61b18c97475e"
      },
      "outputs": [
        {
          "output_type": "stream",
          "name": "stdout",
          "text": [
            "tensor([21, 18, 18, 18,  2, 18,  3,  2, 18,  3, 17, 38])\n",
            "tensor([21, 18, 18, 18,  2, 18,  3,  2, 18,  3, 17, 38, 19, 19, 19, 19, 19, 19,\n",
            "        19, 19, 19, 19, 19, 19, 19, 19, 19, 19, 19, 19, 19, 19, 19, 19, 19, 19,\n",
            "        19, 19, 19, 19, 19, 19, 19, 19, 19, 19, 19, 19, 19, 19, 19, 19, 19, 19,\n",
            "        19, 19, 19, 19, 19, 19, 19, 19, 19, 19, 19, 19, 19, 19, 19, 19, 19, 19,\n",
            "        19, 19, 19, 19, 19, 19, 19, 19, 19, 19, 19, 19, 19, 19, 19, 19, 19, 19,\n",
            "        19, 19, 19, 19, 19, 19, 19, 19, 19, 19, 19])\n"
          ]
        }
      ],
      "source": [
        "import torch.nn.utils.rnn as rnn\n",
        "\n",
        "X_train = rnn.pad_sequence(X, batch_first=True, padding_value=chr2int[\"E\"])\n",
        "Y_train = rnn.pad_sequence(Y, batch_first=True, padding_value=chr2int[\"E\"])\n",
        "\n",
        "print(X[0])\n",
        "print(X_train[0])"
      ]
    },
    {
      "cell_type": "code",
      "source": [
        "batch_size = 128\n",
        "\n",
        "train_dataset = torch.utils.data.TensorDataset(X_train, Y_train)\n",
        "train_loader = torch.utils.data.DataLoader(train_dataset, batch_size=batch_size, shuffle=True)"
      ],
      "metadata": {
        "id": "6D7lOp2OP5IQ"
      },
      "id": "6D7lOp2OP5IQ",
      "execution_count": 19,
      "outputs": []
    },
    {
      "cell_type": "code",
      "execution_count": 20,
      "id": "lA8qHiB-vXny",
      "metadata": {
        "id": "lA8qHiB-vXny"
      },
      "outputs": [],
      "source": [
        "# 検証用SMILESを読み込む\n",
        "df_valid = pd.read_table(\"guacamol_v1_valid.smiles\", header=None)\n",
        "df_valid.columns = [\"smi\"]\n",
        "smiles_valid = df_valid[\"smi\"].tolist()\n",
        "\n",
        "# スタート文字（G）と終了文字（E）を配置\n",
        "smiles_valid = [\"G\"+smi+\"E\" for smi in smiles_valid]\n",
        "\n",
        "# SMILESを数値化する\n",
        "smiles_valid_int = []\n",
        "\n",
        "for i, smi in enumerate(smiles_valid):\n",
        "    smi_tmp = []\n",
        "    for j, s in enumerate(smi):\n",
        "        smi_tmp.append(chr2int[s])\n",
        "    smiles_valid_int.append(smi_tmp)\n",
        "\n",
        "# データをPytorch用に変換\n",
        "X_valid = []\n",
        "Y_valid = []\n",
        "\n",
        "for smi_valid_int in smiles_valid_int:\n",
        "    X_valid.append(torch.tensor(smi_valid_int[:-1]))\n",
        "    Y_valid.append(torch.tensor(smi_valid_int[1:]))\n",
        "\n",
        "X_valid = rnn.pad_sequence(X_valid, batch_first=True, padding_value=chr2int[\"E\"])\n",
        "Y_valid = rnn.pad_sequence(Y_valid, batch_first=True, padding_value=chr2int[\"E\"])\n",
        "\n",
        "valid_dataset = torch.utils.data.TensorDataset(X_valid, Y_valid)\n",
        "valid_loader = torch.utils.data.DataLoader(valid_dataset, batch_size=batch_size, shuffle=True)"
      ]
    },
    {
      "cell_type": "markdown",
      "id": "747c0c4f-b853-4c16-b233-5233bb64717a",
      "metadata": {
        "id": "747c0c4f-b853-4c16-b233-5233bb64717a"
      },
      "source": [
        "構造の作成"
      ]
    },
    {
      "cell_type": "code",
      "execution_count": 21,
      "id": "2cc47f39-eec1-4257-b976-72e005386931",
      "metadata": {
        "colab": {
          "base_uri": "https://localhost:8080/"
        },
        "id": "2cc47f39-eec1-4257-b976-72e005386931",
        "outputId": "f80ea20f-ed4e-49e2-8678-3676b24c1d91"
      },
      "outputs": [
        {
          "output_type": "stream",
          "name": "stdout",
          "text": [
            "MyNet(\n",
            "  (embd): Embedding(40, 512)\n",
            "  (lstm): LSTM(512, 512, num_layers=3)\n",
            "  (dropout): Dropout(p=0.5, inplace=False)\n",
            "  (linear): Linear(in_features=512, out_features=40, bias=True)\n",
            ")\n"
          ]
        }
      ],
      "source": [
        "class MyNet(nn.Module):\n",
        "    def __init__(self):\n",
        "        super(MyNet, self).__init__()\n",
        "        self.embd    = nn.Embedding(len(chr2int), 512)\n",
        "        self.lstm    = nn.LSTM(512, 512, 3)\n",
        "        self.dropout = nn.Dropout(0.5)\n",
        "        self.linear  = nn.Linear(512, len(chr2int))\n",
        "\n",
        "    def forward(self, x):\n",
        "        x    = self.embd(x)\n",
        "        x, _ = self.lstm(x)\n",
        "        x    = self.dropout(x)\n",
        "        x    = self.linear(x)\n",
        "        return x\n",
        "\n",
        "print(MyNet())"
      ]
    },
    {
      "cell_type": "code",
      "source": [
        "from torch import optim\n",
        "\n",
        "model = MyNet()\n",
        "optimizer = optim.Adam(model.parameters(), lr=0.0001)\n",
        "loss_fn = nn.CrossEntropyLoss()\n",
        "model.train()\n",
        "model.to(device)\n",
        "\n",
        "train_loss_list = []\n",
        "valid_loss_list = []\n",
        "\n",
        "train_loss = 0\n",
        "train_size = 0\n",
        "batch_idx = 1\n",
        "n_epoch = 1"
      ],
      "metadata": {
        "id": "NkJZTkPQkR_G"
      },
      "id": "NkJZTkPQkR_G",
      "execution_count": null,
      "outputs": []
    },
    {
      "cell_type": "markdown",
      "id": "b88feb6d-32d6-490d-a34b-eb09a8c316c7",
      "metadata": {
        "id": "b88feb6d-32d6-490d-a34b-eb09a8c316c7"
      },
      "source": [
        "学習開始"
      ]
    },
    {
      "cell_type": "code",
      "execution_count": 22,
      "id": "9d8776e2-b393-40f3-b7eb-442524d2567c",
      "metadata": {
        "colab": {
          "base_uri": "https://localhost:8080/",
          "height": 49,
          "referenced_widgets": [
            "32bf84f44cdd428d89eed56ef98e169f",
            "b3d7a28a3d374821970220e889422c11",
            "36fc6859a36a4c1bb2e51a85709d1ca8",
            "ef9010cd09a7497b97357f06d2dc894c",
            "ffab95d4481445b99df82bcc07faf0d7",
            "d13b361a1d664f0e8f33d2b3b7154bf3",
            "2946f3cbcbb54f3ca301936e3500a8c5",
            "bce35bc8c09e4a8ea3df0e6dece3aa8a",
            "273336e53e6445d6ad79abc0c3e565db",
            "fc5924c7c2e34c979345c2c6d7df94e1",
            "6917563214b64bf29122cfe464349c60"
          ]
        },
        "id": "9d8776e2-b393-40f3-b7eb-442524d2567c",
        "outputId": "0d9d5597-edfc-4710-9b69-062a60a10971"
      },
      "outputs": [
        {
          "output_type": "display_data",
          "data": {
            "text/plain": [
              "Training:   0%|          | 0/9947 [00:00<?, ?it/s]"
            ],
            "application/vnd.jupyter.widget-view+json": {
              "version_major": 2,
              "version_minor": 0,
              "model_id": "32bf84f44cdd428d89eed56ef98e169f"
            }
          },
          "metadata": {}
        }
      ],
      "source": [
        "for epoch in range(n_epoch):\n",
        "    for train_inputs, train_targets in tqdm(train_loader, desc=\"Training\"):\n",
        "      optimizer.zero_grad()\n",
        "      # 学習データで精度の評価\n",
        "      train_outputs = model(train_inputs.to(device))\n",
        "      each_train_loss = loss_fn(train_outputs.permute(0, 2, 1), train_targets.to(device))\n",
        "      each_train_loss = each_train_loss.mean()\n",
        "      train_loss += each_train_loss.item()\n",
        "      train_size += len(train_inputs)\n",
        "      each_train_loss.backward()\n",
        "      optimizer.step()\n",
        "      # 検証データで精度の評価\n",
        "      if batch_idx % 100 == 0:\n",
        "        train_loss_list.append((batch_idx, train_loss/train_size))\n",
        "        train_loss = 0\n",
        "        train_size = 0\n",
        "        if batch_idx % 1000 == 0:\n",
        "          valid_loss = 0\n",
        "          with torch.no_grad():\n",
        "            for valid_inputs, valid_targets in valid_loader:\n",
        "              valid_outputs = model(valid_inputs.to(device))\n",
        "              each_valid_loss = loss_fn(valid_outputs.permute(0, 2, 1), valid_targets.to(device))\n",
        "              each_valid_loss = each_valid_loss.mean()\n",
        "              valid_loss += each_valid_loss.item()\n",
        "            valid_loss_list.append((batch_idx, valid_loss/len(valid_dataset)))\n",
        "      batch_idx += 1"
      ]
    },
    {
      "cell_type": "code",
      "execution_count": 32,
      "id": "c825598e-f551-485b-ab11-af2d3cddd703",
      "metadata": {
        "id": "c825598e-f551-485b-ab11-af2d3cddd703",
        "scrolled": true,
        "colab": {
          "base_uri": "https://localhost:8080/",
          "height": 311
        },
        "outputId": "daba9f31-71e0-49ee-a977-213529775692"
      },
      "outputs": [
        {
          "output_type": "display_data",
          "data": {
            "text/plain": [
              "<Figure size 500x300 with 1 Axes>"
            ],
            "image/png": "[encoded data removed]"
          },
          "metadata": {}
        }
      ],
      "source": [
        "fig = plt.figure(figsize=(5, 3))\n",
        "\n",
        "plt.plot(*list(zip(*train_loss_list)), label=\"Training Loss\", linestyle=\"--\")\n",
        "plt.plot(*list(zip(*valid_loss_list)), label=\"Validation Loss\")\n",
        "plt.grid()\n",
        "plt.xlabel(\"Number of training\")\n",
        "plt.ylabel(\"Loss function\")\n",
        "plt.legend()\n",
        "plt.show()"
      ]
    },
    {
      "cell_type": "markdown",
      "id": "41f5475c-05e2-480e-8dab-17f39079f8de",
      "metadata": {
        "id": "41f5475c-05e2-480e-8dab-17f39079f8de"
      },
      "source": [
        "モデルの評価"
      ]
    },
    {
      "cell_type": "code",
      "execution_count": 30,
      "id": "e8a6950d-16a8-40be-9287-fa82c41d0b3e",
      "metadata": {
        "id": "e8a6950d-16a8-40be-9287-fa82c41d0b3e"
      },
      "outputs": [],
      "source": [
        "def comp_gen(max_len_smi=100):\n",
        "  model.eval()\n",
        "  gen_smiles = []\n",
        "\n",
        "  start_tensor = torch.tensor(chr2int[\"G\"], dtype=torch.int64).to(device)\n",
        "  # LSTMに通して出力と新しい内部情報を得る\n",
        "  x0 = start_tensor.unsqueeze(0)\n",
        "  o = model(start_tensor.reshape(1, -1))\n",
        "  out_dist = o[:, -1].view(-1).exp()\n",
        "  top_i = torch.multinomial(out_dist, 1)[0]\n",
        "  gen_smiles.append(top_i.item())\n",
        "\n",
        "  # 生成された結果を次々とモデルに入力していく\n",
        "  with torch.no_grad():\n",
        "    for i in range(max_len_smi):\n",
        "      inp = torch.tensor([[top_i]], dtype=torch.int64).to(device)\n",
        "      o = model(inp)\n",
        "      out_dist = o.view(-1).exp()\n",
        "      top_i = torch.multinomial(out_dist, 1)[0]\n",
        "      gen_smiles.append(top_i.item())\n",
        "\n",
        "  generated_seq = \"\".join([int2chr[s] for s in gen_smiles])\n",
        "  return generated_seq.replace(\"E\", \"\")"
      ]
    },
    {
      "cell_type": "code",
      "execution_count": 31,
      "id": "iI21ccb3oRTD",
      "metadata": {
        "colab": {
          "base_uri": "https://localhost:8080/"
        },
        "id": "iI21ccb3oRTD",
        "outputId": "74a50711-75dc-4af1-a6a4-3afa96ad2dd2"
      },
      "outputs": [
        {
          "output_type": "stream",
          "name": "stdout",
          "text": [
            "Cc1c2c2)NCCCc1\n",
            "N\n",
            "CCCC2cc(N(=N2ccccc(N=OCCC(C(C(=O)CC=O)c(=Occ24)cc2)C(=O)c(F)CC(CS(O)c1\n",
            "O\n",
            "O=C(-](C4c2c1CNS(C2c(SCN(-c4)C(=Oc(CC13cccc2\n",
            "CC(CCC)c3C1)c3)c(F)c1NCC(ccc(=O)c2c(C(F)N(C)ccc1\n",
            "CN(C(=O)CC(C=OC(C1c2ccc1C(CNC2\n",
            "C(N4CC)CNC(S2c3)(C(=CCC1C1c3)c1c2cc1cc12c1\n",
            "C(=CC(C(CCOC)c(F)CCc3c1CC2cn(=O)CO)(=O)ccc2cc3c(F)Nc(=O)CO)N3)c2S(O)C)CCCC(Cnnc(=O)COCCCN3cc3c3c(Nccc\n",
            "CC)c1ccccc1c2c2c(O)(O)N(OC(CCC(N#CC\n"
          ]
        }
      ],
      "source": [
        "for i in range(10):\n",
        "  print(comp_gen(max_len_smi=100))"
      ]
    },
    {
      "cell_type": "markdown",
      "source": [
        "### 6. 2. 2 AEを使った構造生成"
      ],
      "metadata": {
        "id": "TfH4p1Hi29rj"
      },
      "id": "TfH4p1Hi29rj"
    },
    {
      "cell_type": "markdown",
      "source": [
        "### 6. 2. 3 その他の構想生成"
      ],
      "metadata": {
        "id": "kpHBwVnx3Eli"
      },
      "id": "kpHBwVnx3Eli"
    },
    {
      "cell_type": "markdown",
      "source": [
        "### 6. 2. 4 SELFIES：化合物の柔軟な表記方法"
      ],
      "metadata": {
        "id": "d9rCr_6s3Mbg"
      },
      "id": "d9rCr_6s3Mbg"
    }
  ],
  "metadata": {
    "accelerator": "GPU",
    "colab": {
      "gpuType": "T4",
      "provenance": []
    },
    "kernelspec": {
      "display_name": "Python 3",
      "name": "python3"
    },
    "language_info": {
      "name": "python"
    },
    "widgets": {
      "application/vnd.jupyter.widget-state+json": {
        "32bf84f44cdd428d89eed56ef98e169f": {
          "model_module": "@jupyter-widgets/controls",
          "model_name": "HBoxModel",
          "model_module_version": "1.5.0",
          "state": {
            "_dom_classes": [],
            "_model_module": "@jupyter-widgets/controls",
            "_model_module_version": "1.5.0",
            "_model_name": "HBoxModel",
            "_view_count": null,
            "_view_module": "@jupyter-widgets/controls",
            "_view_module_version": "1.5.0",
            "_view_name": "HBoxView",
            "box_style": "",
            "children": [
              "IPY_MODEL_b3d7a28a3d374821970220e889422c11",
              "IPY_MODEL_36fc6859a36a4c1bb2e51a85709d1ca8",
              "IPY_MODEL_ef9010cd09a7497b97357f06d2dc894c"
            ],
            "layout": "IPY_MODEL_ffab95d4481445b99df82bcc07faf0d7"
          }
        },
        "b3d7a28a3d374821970220e889422c11": {
          "model_module": "@jupyter-widgets/controls",
          "model_name": "HTMLModel",
          "model_module_version": "1.5.0",
          "state": {
            "_dom_classes": [],
            "_model_module": "@jupyter-widgets/controls",
            "_model_module_version": "1.5.0",
            "_model_name": "HTMLModel",
            "_view_count": null,
            "_view_module": "@jupyter-widgets/controls",
            "_view_module_version": "1.5.0",
            "_view_name": "HTMLView",
            "description": "",
            "description_tooltip": null,
            "layout": "IPY_MODEL_d13b361a1d664f0e8f33d2b3b7154bf3",
            "placeholder": "​",
            "style": "IPY_MODEL_2946f3cbcbb54f3ca301936e3500a8c5",
            "value": "Training: 100%"
          }
        },
        "36fc6859a36a4c1bb2e51a85709d1ca8": {
          "model_module": "@jupyter-widgets/controls",
          "model_name": "FloatProgressModel",
          "model_module_version": "1.5.0",
          "state": {
            "_dom_classes": [],
            "_model_module": "@jupyter-widgets/controls",
            "_model_module_version": "1.5.0",
            "_model_name": "FloatProgressModel",
            "_view_count": null,
            "_view_module": "@jupyter-widgets/controls",
            "_view_module_version": "1.5.0",
            "_view_name": "ProgressView",
            "bar_style": "success",
            "description": "",
            "description_tooltip": null,
            "layout": "IPY_MODEL_bce35bc8c09e4a8ea3df0e6dece3aa8a",
            "max": 9947,
            "min": 0,
            "orientation": "horizontal",
            "style": "IPY_MODEL_273336e53e6445d6ad79abc0c3e565db",
            "value": 9947
          }
        },
        "ef9010cd09a7497b97357f06d2dc894c": {
          "model_module": "@jupyter-widgets/controls",
          "model_name": "HTMLModel",
          "model_module_version": "1.5.0",
          "state": {
            "_dom_classes": [],
            "_model_module": "@jupyter-widgets/controls",
            "_model_module_version": "1.5.0",
            "_model_name": "HTMLModel",
            "_view_count": null,
            "_view_module": "@jupyter-widgets/controls",
            "_view_module_version": "1.5.0",
            "_view_name": "HTMLView",
            "description": "",
            "description_tooltip": null,
            "layout": "IPY_MODEL_fc5924c7c2e34c979345c2c6d7df94e1",
            "placeholder": "​",
            "style": "IPY_MODEL_6917563214b64bf29122cfe464349c60",
            "value": " 9947/9947 [41:34&lt;00:00,  5.20it/s]"
          }
        },
        "ffab95d4481445b99df82bcc07faf0d7": {
          "model_module": "@jupyter-widgets/base",
          "model_name": "LayoutModel",
          "model_module_version": "1.2.0",
          "state": {
            "_model_module": "@jupyter-widgets/base",
            "_model_module_version": "1.2.0",
            "_model_name": "LayoutModel",
            "_view_count": null,
            "_view_module": "@jupyter-widgets/base",
            "_view_module_version": "1.2.0",
            "_view_name": "LayoutView",
            "align_content": null,
            "align_items": null,
            "align_self": null,
            "border": null,
            "bottom": null,
            "display": null,
            "flex": null,
            "flex_flow": null,
            "grid_area": null,
            "grid_auto_columns": null,
            "grid_auto_flow": null,
            "grid_auto_rows": null,
            "grid_column": null,
            "grid_gap": null,
            "grid_row": null,
            "grid_template_areas": null,
            "grid_template_columns": null,
            "grid_template_rows": null,
            "height": null,
            "justify_content": null,
            "justify_items": null,
            "left": null,
            "margin": null,
            "max_height": null,
            "max_width": null,
            "min_height": null,
            "min_width": null,
            "object_fit": null,
            "object_position": null,
            "order": null,
            "overflow": null,
            "overflow_x": null,
            "overflow_y": null,
            "padding": null,
            "right": null,
            "top": null,
            "visibility": null,
            "width": null
          }
        },
        "d13b361a1d664f0e8f33d2b3b7154bf3": {
          "model_module": "@jupyter-widgets/base",
          "model_name": "LayoutModel",
          "model_module_version": "1.2.0",
          "state": {
            "_model_module": "@jupyter-widgets/base",
            "_model_module_version": "1.2.0",
            "_model_name": "LayoutModel",
            "_view_count": null,
            "_view_module": "@jupyter-widgets/base",
            "_view_module_version": "1.2.0",
            "_view_name": "LayoutView",
            "align_content": null,
            "align_items": null,
            "align_self": null,
            "border": null,
            "bottom": null,
            "display": null,
            "flex": null,
            "flex_flow": null,
            "grid_area": null,
            "grid_auto_columns": null,
            "grid_auto_flow": null,
            "grid_auto_rows": null,
            "grid_column": null,
            "grid_gap": null,
            "grid_row": null,
            "grid_template_areas": null,
            "grid_template_columns": null,
            "grid_template_rows": null,
            "height": null,
            "justify_content": null,
            "justify_items": null,
            "left": null,
            "margin": null,
            "max_height": null,
            "max_width": null,
            "min_height": null,
            "min_width": null,
            "object_fit": null,
            "object_position": null,
            "order": null,
            "overflow": null,
            "overflow_x": null,
            "overflow_y": null,
            "padding": null,
            "right": null,
            "top": null,
            "visibility": null,
            "width": null
          }
        },
        "2946f3cbcbb54f3ca301936e3500a8c5": {
          "model_module": "@jupyter-widgets/controls",
          "model_name": "DescriptionStyleModel",
          "model_module_version": "1.5.0",
          "state": {
            "_model_module": "@jupyter-widgets/controls",
            "_model_module_version": "1.5.0",
            "_model_name": "DescriptionStyleModel",
            "_view_count": null,
            "_view_module": "@jupyter-widgets/base",
            "_view_module_version": "1.2.0",
            "_view_name": "StyleView",
            "description_width": ""
          }
        },
        "bce35bc8c09e4a8ea3df0e6dece3aa8a": {
          "model_module": "@jupyter-widgets/base",
          "model_name": "LayoutModel",
          "model_module_version": "1.2.0",
          "state": {
            "_model_module": "@jupyter-widgets/base",
            "_model_module_version": "1.2.0",
            "_model_name": "LayoutModel",
            "_view_count": null,
            "_view_module": "@jupyter-widgets/base",
            "_view_module_version": "1.2.0",
            "_view_name": "LayoutView",
            "align_content": null,
            "align_items": null,
            "align_self": null,
            "border": null,
            "bottom": null,
            "display": null,
            "flex": null,
            "flex_flow": null,
            "grid_area": null,
            "grid_auto_columns": null,
            "grid_auto_flow": null,
            "grid_auto_rows": null,
            "grid_column": null,
            "grid_gap": null,
            "grid_row": null,
            "grid_template_areas": null,
            "grid_template_columns": null,
            "grid_template_rows": null,
            "height": null,
            "justify_content": null,
            "justify_items": null,
            "left": null,
            "margin": null,
            "max_height": null,
            "max_width": null,
            "min_height": null,
            "min_width": null,
            "object_fit": null,
            "object_position": null,
            "order": null,
            "overflow": null,
            "overflow_x": null,
            "overflow_y": null,
            "padding": null,
            "right": null,
            "top": null,
            "visibility": null,
            "width": null
          }
        },
        "273336e53e6445d6ad79abc0c3e565db": {
          "model_module": "@jupyter-widgets/controls",
          "model_name": "ProgressStyleModel",
          "model_module_version": "1.5.0",
          "state": {
            "_model_module": "@jupyter-widgets/controls",
            "_model_module_version": "1.5.0",
            "_model_name": "ProgressStyleModel",
            "_view_count": null,
            "_view_module": "@jupyter-widgets/base",
            "_view_module_version": "1.2.0",
            "_view_name": "StyleView",
            "bar_color": null,
            "description_width": ""
          }
        },
        "fc5924c7c2e34c979345c2c6d7df94e1": {
          "model_module": "@jupyter-widgets/base",
          "model_name": "LayoutModel",
          "model_module_version": "1.2.0",
          "state": {
            "_model_module": "@jupyter-widgets/base",
            "_model_module_version": "1.2.0",
            "_model_name": "LayoutModel",
            "_view_count": null,
            "_view_module": "@jupyter-widgets/base",
            "_view_module_version": "1.2.0",
            "_view_name": "LayoutView",
            "align_content": null,
            "align_items": null,
            "align_self": null,
            "border": null,
            "bottom": null,
            "display": null,
            "flex": null,
            "flex_flow": null,
            "grid_area": null,
            "grid_auto_columns": null,
            "grid_auto_flow": null,
            "grid_auto_rows": null,
            "grid_column": null,
            "grid_gap": null,
            "grid_row": null,
            "grid_template_areas": null,
            "grid_template_columns": null,
            "grid_template_rows": null,
            "height": null,
            "justify_content": null,
            "justify_items": null,
            "left": null,
            "margin": null,
            "max_height": null,
            "max_width": null,
            "min_height": null,
            "min_width": null,
            "object_fit": null,
            "object_position": null,
            "order": null,
            "overflow": null,
            "overflow_x": null,
            "overflow_y": null,
            "padding": null,
            "right": null,
            "top": null,
            "visibility": null,
            "width": null
          }
        },
        "6917563214b64bf29122cfe464349c60": {
          "model_module": "@jupyter-widgets/controls",
          "model_name": "DescriptionStyleModel",
          "model_module_version": "1.5.0",
          "state": {
            "_model_module": "@jupyter-widgets/controls",
            "_model_module_version": "1.5.0",
            "_model_name": "DescriptionStyleModel",
            "_view_count": null,
            "_view_module": "@jupyter-widgets/base",
            "_view_module_version": "1.2.0",
            "_view_name": "StyleView",
            "description_width": ""
          }
        }
      }
    }
  },
  "nbformat": 4,
  "nbformat_minor": 5
}