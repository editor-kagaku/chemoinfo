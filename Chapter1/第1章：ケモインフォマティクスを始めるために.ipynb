{
  "cells": [
    {
      "cell_type": "markdown",
      "id": "apart-vacuum",
      "metadata": {
        "id": "apart-vacuum"
      },
      "source": [
        "# 第1章　ケモインフォマティクスを始めるために"
      ]
    },
    {
      "cell_type": "markdown",
      "source": [
        "## 1. 1 化学分野におけるケモインフォマティクス"
      ],
      "metadata": {
        "id": "b7h2mH5Tuu9X"
      },
      "id": "b7h2mH5Tuu9X"
    },
    {
      "cell_type": "markdown",
      "source": [
        "### 1. 1. 1 従来の化学分野における研究と課題"
      ],
      "metadata": {
        "id": "2hIV0U3Gu1-3"
      },
      "id": "2hIV0U3Gu1-3"
    },
    {
      "cell_type": "markdown",
      "source": [
        "### 1. 1. 2 ケモインフォマティクスの実際"
      ],
      "metadata": {
        "id": "oJMcWkKRu12i"
      },
      "id": "oJMcWkKRu12i"
    },
    {
      "cell_type": "markdown",
      "source": [
        "### 1. 1. 3 ケモインフォマティクスを活用した材料開発の支援に向けて"
      ],
      "metadata": {
        "id": "h87vbgndu1xS"
      },
      "id": "h87vbgndu1xS"
    },
    {
      "cell_type": "markdown",
      "source": [
        "# 1. 2 Google Colabの使い方"
      ],
      "metadata": {
        "id": "pE2qNMeUIazP"
      },
      "id": "pE2qNMeUIazP"
    },
    {
      "cell_type": "markdown",
      "id": "described-simpson",
      "metadata": {
        "id": "described-simpson"
      },
      "source": [
        "## 1. 2. 1 環境構築"
      ]
    },
    {
      "cell_type": "markdown",
      "source": [
        "Google Driveとの連携として、/content/drive にマウントする"
      ],
      "metadata": {
        "id": "P7jUfyFMktwh"
      },
      "id": "P7jUfyFMktwh"
    },
    {
      "cell_type": "code",
      "source": [
        "from google.colab import drive\n",
        "drive.mount(\"/content/drive\")"
      ],
      "metadata": {
        "id": "ql2XuXHgnK0T",
        "colab": {
          "base_uri": "https://localhost:8080/"
        },
        "outputId": "ac53a628-d4c1-4a8b-c936-64df0aad3f5a"
      },
      "id": "ql2XuXHgnK0T",
      "execution_count": null,
      "outputs": [
        {
          "output_type": "stream",
          "name": "stdout",
          "text": [
            "Mounted at /content/drive\n"
          ]
        }
      ]
    },
    {
      "cell_type": "markdown",
      "source": [
        "解析を行いたいフォルダ（MyDrive/Cheminformatics）に移る"
      ],
      "metadata": {
        "id": "KoESn_DAnfT0"
      },
      "id": "KoESn_DAnfT0"
    },
    {
      "cell_type": "code",
      "source": [
        "import os\n",
        "os.chdir(\"/content/drive/MyDrive/Cheminformatics\")\n",
        "print(os.getcwd())"
      ],
      "metadata": {
        "id": "5LxZGrtSngaa",
        "colab": {
          "base_uri": "https://localhost:8080/"
        },
        "outputId": "8f095ca7-fad5-4dc6-9433-c041852c9906"
      },
      "id": "5LxZGrtSngaa",
      "execution_count": null,
      "outputs": [
        {
          "output_type": "stream",
          "name": "stdout",
          "text": [
            "/content/drive/MyDrive/Cheminformatics\n"
          ]
        }
      ]
    },
    {
      "cell_type": "markdown",
      "id": "canadian-client",
      "metadata": {
        "id": "canadian-client"
      },
      "source": [
        "## 1. 2. 2 簡単な計算"
      ]
    },
    {
      "cell_type": "markdown",
      "id": "f61ea401",
      "metadata": {
        "id": "f61ea401"
      },
      "source": [
        "| 記号 | 演算 |\n",
        "| :- | :- |\n",
        "| + | 和算 |\n",
        "| - | 減算 |\n",
        "| * | 積算 |\n",
        "| / | 徐算 |\n",
        "| ** | べき乗 |\n",
        "| // | 整数除算（徐算の整数部） |\n",
        "| \\% | 余り |"
      ]
    },
    {
      "cell_type": "code",
      "execution_count": null,
      "id": "add64816",
      "metadata": {
        "id": "add64816",
        "colab": {
          "base_uri": "https://localhost:8080/"
        },
        "outputId": "69aaf859-33ba-4d2c-81ca-d3ef898bc6ce"
      },
      "outputs": [
        {
          "output_type": "execute_result",
          "data": {
            "text/plain": [
              "1"
            ]
          },
          "metadata": {},
          "execution_count": 3
        }
      ],
      "source": [
        "# 和算\n",
        "1 + 2\n",
        "\n",
        "# 除算\n",
        "5 - 3\n",
        "\n",
        "# 積算\n",
        "2 * 4\n",
        "\n",
        "# 除算\n",
        "10 / 2\n",
        "\n",
        "# べき乗\n",
        "3 ** 2\n",
        "\n",
        "# 整数除算\n",
        "10 // 3\n",
        "\n",
        "# 余り\n",
        "10 % 3"
      ]
    },
    {
      "cell_type": "markdown",
      "id": "danish-internet",
      "metadata": {
        "id": "danish-internet"
      },
      "source": [
        "## 1. 2. 3 変数の型\n",
        "\n",
        "| データ型 | 分類 |\n",
        "| :- | :- |\n",
        "| int | 数値（整数型） |\n",
        "| float | 数値（浮動小数点型） |\n",
        "| str | 文字列型 |\n",
        "| bool | ブール型 |"
      ]
    },
    {
      "cell_type": "code",
      "execution_count": null,
      "id": "previous-whole",
      "metadata": {
        "id": "previous-whole",
        "colab": {
          "base_uri": "https://localhost:8080/"
        },
        "outputId": "2a60e64f-1df1-467e-8cb6-0d9d67f8e4cd"
      },
      "outputs": [
        {
          "output_type": "stream",
          "name": "stdout",
          "text": [
            "<class 'str'>\n",
            "<class 'int'>\n",
            "<class 'float'>\n"
          ]
        }
      ],
      "source": [
        "string = \"Hello world!\"\n",
        "num1 = 20\n",
        "num2 = 20.01\n",
        "\n",
        "print(type(string))\n",
        "print(type(num1))\n",
        "print(type(num2))"
      ]
    },
    {
      "cell_type": "markdown",
      "id": "legendary-sacrifice",
      "metadata": {
        "id": "legendary-sacrifice"
      },
      "source": [
        "### 1. 2. 4 データ構造"
      ]
    },
    {
      "cell_type": "markdown",
      "id": "theoretical-explanation",
      "metadata": {
        "id": "theoretical-explanation"
      },
      "source": [
        "#### 1. 2. 4. (1) リスト"
      ]
    },
    {
      "cell_type": "code",
      "execution_count": null,
      "id": "rental-discount",
      "metadata": {
        "id": "rental-discount"
      },
      "outputs": [],
      "source": [
        "# 2つの空のリストを用意\n",
        "list1 = []\n",
        "list2 = []\n",
        "\n",
        "# 2つのリストに数値を格納\n",
        "list1 = [10, 20, 30]\n",
        "list2 = [15, 25, 35]"
      ]
    },
    {
      "cell_type": "markdown",
      "id": "brief-adams",
      "metadata": {
        "id": "brief-adams"
      },
      "source": [
        "range関数を使うことで、連続した整数のリストを作成することができます。"
      ]
    },
    {
      "cell_type": "code",
      "execution_count": null,
      "id": "reserved-listing",
      "metadata": {
        "id": "reserved-listing",
        "colab": {
          "base_uri": "https://localhost:8080/"
        },
        "outputId": "24e7c8fa-187e-402b-c864-f66cfae841c9"
      },
      "outputs": [
        {
          "output_type": "execute_result",
          "data": {
            "text/plain": [
              "[0, 1, 2, 3, 4]"
            ]
          },
          "metadata": {},
          "execution_count": 6
        }
      ],
      "source": [
        "# 0から4までの5つの数字が入ったリストを作成\n",
        "list(range(5))"
      ]
    },
    {
      "cell_type": "code",
      "execution_count": null,
      "id": "bfa17fc7",
      "metadata": {
        "id": "bfa17fc7",
        "colab": {
          "base_uri": "https://localhost:8080/"
        },
        "outputId": "09acc4ca-71c2-45a9-929e-6b37b9e1bc57"
      },
      "outputs": [
        {
          "output_type": "execute_result",
          "data": {
            "text/plain": [
              "[0, 1, 2, 3, 4, 5, 6, 7, 8, 9]"
            ]
          },
          "metadata": {},
          "execution_count": 7
        }
      ],
      "source": [
        "# 0から9までの10の数字が入ったリストを作成\n",
        "list(range(10))"
      ]
    },
    {
      "cell_type": "code",
      "execution_count": null,
      "id": "d467f308",
      "metadata": {
        "id": "d467f308",
        "colab": {
          "base_uri": "https://localhost:8080/"
        },
        "outputId": "a79fa20f-610a-40e2-e2e5-2ae318cfa549"
      },
      "outputs": [
        {
          "output_type": "execute_result",
          "data": {
            "text/plain": [
              "[1, 2, 3, 4]"
            ]
          },
          "metadata": {},
          "execution_count": 8
        }
      ],
      "source": [
        "# 1から5までの5つの数字が入ったリストを作成\n",
        "list(range(1,5))"
      ]
    },
    {
      "cell_type": "code",
      "execution_count": null,
      "id": "87ba71f8",
      "metadata": {
        "id": "87ba71f8",
        "colab": {
          "base_uri": "https://localhost:8080/"
        },
        "outputId": "865245ee-a354-4c2a-a7af-cadc58d3cc0f"
      },
      "outputs": [
        {
          "output_type": "execute_result",
          "data": {
            "text/plain": [
              "[0, 2, 4, 6, 8]"
            ]
          },
          "metadata": {},
          "execution_count": 9
        }
      ],
      "source": [
        "# 0から9まで1つ飛ばしで5つの数字が入ったリストを作成\n",
        "list(range(0, 10, 2))"
      ]
    },
    {
      "cell_type": "markdown",
      "id": "corresponding-produce",
      "metadata": {
        "id": "corresponding-produce"
      },
      "source": [
        "リストの大きさ（要素の数）を確認するためには、len関数を使用します。"
      ]
    },
    {
      "cell_type": "code",
      "execution_count": null,
      "id": "boring-kenya",
      "metadata": {
        "id": "boring-kenya",
        "colab": {
          "base_uri": "https://localhost:8080/"
        },
        "outputId": "a4ecbc5b-b48f-4be7-a6fe-12b88f15ade7"
      },
      "outputs": [
        {
          "output_type": "execute_result",
          "data": {
            "text/plain": [
              "3"
            ]
          },
          "metadata": {},
          "execution_count": 10
        }
      ],
      "source": [
        "# リストdata1の長さを確認\n",
        "len(list1)"
      ]
    },
    {
      "cell_type": "code",
      "execution_count": null,
      "id": "90640703",
      "metadata": {
        "id": "90640703",
        "colab": {
          "base_uri": "https://localhost:8080/"
        },
        "outputId": "d0657115-eea3-4036-ceb3-f319f1b0b402"
      },
      "outputs": [
        {
          "output_type": "execute_result",
          "data": {
            "text/plain": [
              "4"
            ]
          },
          "metadata": {},
          "execution_count": 11
        }
      ],
      "source": [
        "# range関数によって作成されたリストの長さを確認\n",
        "len(list(range(1,5)))"
      ]
    },
    {
      "cell_type": "markdown",
      "id": "intelligent-thesaurus",
      "metadata": {
        "id": "intelligent-thesaurus"
      },
      "source": [
        "これらの要素にアクセスするためには、要素のインデックスを指定することが必要となります。Pythonにおけるインデックスは、要素の番号を表すもので、0から始まる非負の整数で表現されます。"
      ]
    },
    {
      "cell_type": "code",
      "execution_count": null,
      "id": "weird-sweden",
      "metadata": {
        "id": "weird-sweden",
        "colab": {
          "base_uri": "https://localhost:8080/"
        },
        "outputId": "7b6182d3-7a38-4a90-f4d3-99bdd0458dd2"
      },
      "outputs": [
        {
          "output_type": "execute_result",
          "data": {
            "text/plain": [
              "20"
            ]
          },
          "metadata": {},
          "execution_count": 12
        }
      ],
      "source": [
        "list1[0]\n",
        "list1[1]"
      ]
    },
    {
      "cell_type": "markdown",
      "id": "sunset-gospel",
      "metadata": {
        "id": "sunset-gospel"
      },
      "source": [
        "作成したリストに、新しく要素を追加することもできます。その際には、append関数を使います。"
      ]
    },
    {
      "cell_type": "code",
      "execution_count": null,
      "id": "electoral-automation",
      "metadata": {
        "id": "electoral-automation",
        "colab": {
          "base_uri": "https://localhost:8080/"
        },
        "outputId": "088defc9-41a2-4d7a-e83b-38d588401c11"
      },
      "outputs": [
        {
          "output_type": "execute_result",
          "data": {
            "text/plain": [
              "[10, 20, 30, 10]"
            ]
          },
          "metadata": {},
          "execution_count": 13
        }
      ],
      "source": [
        "# list1の新しい要素に、10を追加\n",
        "list1.append(10)\n",
        "list1"
      ]
    },
    {
      "cell_type": "markdown",
      "id": "gorgeous-glossary",
      "metadata": {
        "id": "gorgeous-glossary"
      },
      "source": [
        "### 1. 2. 4. (2) Numpy ndarray"
      ]
    },
    {
      "cell_type": "code",
      "execution_count": null,
      "id": "historic-grave",
      "metadata": {
        "id": "historic-grave"
      },
      "outputs": [],
      "source": [
        "import numpy as np"
      ]
    },
    {
      "cell_type": "code",
      "execution_count": null,
      "id": "cordless-hardware",
      "metadata": {
        "id": "cordless-hardware",
        "colab": {
          "base_uri": "https://localhost:8080/"
        },
        "outputId": "3735460b-9fec-4e55-93f4-95dcaeacda12"
      },
      "outputs": [
        {
          "output_type": "stream",
          "name": "stdout",
          "text": [
            "int64\n",
            "float64\n"
          ]
        }
      ],
      "source": [
        "array1 = np.array([[2, 4], [5, 8]])\n",
        "array2 = np.array([[2, 4], [5, 8.0]])\n",
        "\n",
        "# データの構造を確認\n",
        "print(array1.dtype)\n",
        "print(array2.dtype)"
      ]
    },
    {
      "cell_type": "code",
      "execution_count": null,
      "id": "democratic-theta",
      "metadata": {
        "id": "democratic-theta",
        "colab": {
          "base_uri": "https://localhost:8080/"
        },
        "outputId": "892cb3e5-be38-4226-a0c1-a5e6ef909da2"
      },
      "outputs": [
        {
          "output_type": "stream",
          "name": "stdout",
          "text": [
            "(2, 2)\n",
            "(2, 2)\n"
          ]
        }
      ],
      "source": [
        "print(array1.shape)\n",
        "print(array2.shape)"
      ]
    },
    {
      "cell_type": "markdown",
      "id": "outdoor-amateur",
      "metadata": {
        "id": "outdoor-amateur"
      },
      "source": [
        "reshapeで型を変えます。"
      ]
    },
    {
      "cell_type": "code",
      "execution_count": null,
      "id": "charged-vaccine",
      "metadata": {
        "id": "charged-vaccine",
        "colab": {
          "base_uri": "https://localhost:8080/"
        },
        "outputId": "baddb288-dc8a-4e6c-87f0-d0f8fcb0ce7b"
      },
      "outputs": [
        {
          "output_type": "execute_result",
          "data": {
            "text/plain": [
              "array([[2., 4., 5., 8.]])"
            ]
          },
          "metadata": {},
          "execution_count": 17
        }
      ],
      "source": [
        "# 4行1列に変型\n",
        "np.reshape(array2, [4,1])\n",
        "\n",
        "# 1行4列に変型\n",
        "np.reshape(array2, [1,4])\n",
        "\n",
        "# 1行4列に変型（列数は自動的に決定）\n",
        "np.reshape(array2, [1,-1])"
      ]
    },
    {
      "cell_type": "code",
      "execution_count": null,
      "id": "headed-department",
      "metadata": {
        "id": "headed-department",
        "colab": {
          "base_uri": "https://localhost:8080/"
        },
        "outputId": "56fc068d-7be1-4c98-8d2e-295fd64164a9"
      },
      "outputs": [
        {
          "output_type": "stream",
          "name": "stdout",
          "text": [
            "[2 4]\n",
            "5\n",
            "[[2 4]\n",
            " [5 8]]\n"
          ]
        }
      ],
      "source": [
        "print(array1[0])\n",
        "print(array1[1,0])\n",
        "print(array1[0:])"
      ]
    },
    {
      "cell_type": "markdown",
      "id": "premium-silver",
      "metadata": {
        "id": "premium-silver"
      },
      "source": [
        "2次元以上のndarray同士を結合する際には、どの方向に結合するかが重要となります。関数内でaxis=0とすると縦に結合、axis=1とすると横に結合ができます。"
      ]
    },
    {
      "cell_type": "code",
      "execution_count": null,
      "id": "greek-association",
      "metadata": {
        "id": "greek-association",
        "colab": {
          "base_uri": "https://localhost:8080/"
        },
        "outputId": "8632dcc3-6138-4edc-f0e6-6230c087a097"
      },
      "outputs": [
        {
          "output_type": "stream",
          "name": "stdout",
          "text": [
            "縦に結合（axis=0で結合）\n",
            "[[100 200 300]\n",
            " [150 250 350]]\n",
            "横に結合（axis=1で結合）\n",
            "[[100 200 300 150 250 350]]\n"
          ]
        }
      ],
      "source": [
        "array1 = np.array([[100, 200, 300]])\n",
        "array2 = np.array([[150, 250, 350]])\n",
        "\n",
        "print(\"縦に結合（axis=0で結合）\")\n",
        "print(np.concatenate([array1, array2], axis=0))\n",
        "\n",
        "print(\"横に結合（axis=1で結合）\")\n",
        "print(np.concatenate([array1, array2], axis=1))"
      ]
    },
    {
      "cell_type": "markdown",
      "id": "chronic-government",
      "metadata": {
        "id": "chronic-government"
      },
      "source": [
        "計算用の関数"
      ]
    },
    {
      "cell_type": "markdown",
      "source": [
        "| 関数 | 計算 |\n",
        "| :- | :- |\n",
        "| np.sum() | 和 |\n",
        "| np.sqrt() | 平方根 |\n",
        "| np.square() | 2乗 |\n",
        "| np.mean() | 平均 |\n",
        "| np.var() | 分散 |\n",
        "| np.std() | 標準偏差 |\n",
        "| np.min() | 最小値 |\n",
        "| np.max() | 最大値 |\n",
        "| np.agrmin() | 最小値のインデックス |\n",
        "| np.argmax() | 最大値のインデックス |\n",
        "| np.sin() | sin関数 |\n",
        "| np.cos() | cos関数 |\n",
        "| np.exp() | 指数関数 |"
      ],
      "metadata": {
        "id": "Nkluo6dlS6qH"
      },
      "id": "Nkluo6dlS6qH"
    },
    {
      "cell_type": "code",
      "execution_count": null,
      "id": "roman-green",
      "metadata": {
        "id": "roman-green",
        "colab": {
          "base_uri": "https://localhost:8080/"
        },
        "outputId": "b447f4ac-a1fe-4d4c-9388-2409b418994c"
      },
      "outputs": [
        {
          "output_type": "stream",
          "name": "stdout",
          "text": [
            "817\n",
            "[12.4498996  12.76714533 12.60952021 13.11487705 12.9614814 ]\n",
            "[24025 26569 25281 29584 28224]\n",
            "163.4\n",
            "37.040000000000006\n",
            "6.086049621881176\n",
            "155\n",
            "172\n",
            "0\n",
            "3\n",
            "[-0.87331198 -0.35491018  0.93951973  0.70865914 -0.99717329]\n",
            "[-0.87331198 -0.35491018  0.93951973  0.70865914 -0.99717329]\n",
            "[2.06844842e+67 6.16595783e+70 1.12933457e+69 4.99632738e+74\n",
            " 9.15109281e+72]\n"
          ]
        }
      ],
      "source": [
        "array1 = np.array([155, 163, 159, 172, 168])\n",
        "\n",
        "# 和\n",
        "print(np.sum(array1))\n",
        "\n",
        "# 平方根\n",
        "print(np.sqrt(array1))\n",
        "\n",
        "# 二乗\n",
        "print(np.square(array1))\n",
        "\n",
        "# 平均\n",
        "print(np.mean(array1))\n",
        "\n",
        "# 分散\n",
        "print(np.var(array1))\n",
        "\n",
        "# 標準偏差\n",
        "print(np.std(array1))\n",
        "\n",
        "# 最小値\n",
        "print(np.min(array1))\n",
        "\n",
        "# 最大値\n",
        "print(np.max(array1))\n",
        "\n",
        "# 最小値のインデックス\n",
        "print(np.argmin(array1))\n",
        "\n",
        "# 最大値のインデックス\n",
        "print(np.argmax(array1))\n",
        "\n",
        "# sin関数\n",
        "print(np.sin(array1))\n",
        "\n",
        "# cos関数\n",
        "print(np.sin(array1))\n",
        "\n",
        "# 指数関数\n",
        "print(np.exp(array1))"
      ]
    },
    {
      "cell_type": "markdown",
      "id": "stainless-enzyme",
      "metadata": {
        "id": "stainless-enzyme"
      },
      "source": [
        "### 1. 2. 4. (3) Pandas DataFrame"
      ]
    },
    {
      "cell_type": "code",
      "execution_count": null,
      "id": "brazilian-antarctica",
      "metadata": {
        "id": "brazilian-antarctica"
      },
      "outputs": [],
      "source": [
        "import pandas as pd"
      ]
    },
    {
      "cell_type": "markdown",
      "source": [
        "実習用のトレーニングデータ（logS_train.csv）の読み込み\n",
        "\n"
      ],
      "metadata": {
        "id": "_O9N6VVB6OWi"
      },
      "id": "_O9N6VVB6OWi"
    },
    {
      "cell_type": "code",
      "execution_count": null,
      "id": "decimal-courtesy",
      "metadata": {
        "id": "decimal-courtesy",
        "colab": {
          "base_uri": "https://localhost:8080/"
        },
        "outputId": "7bee7646-18d7-4f59-a481-8a500f18052c"
      },
      "outputs": [
        {
          "output_type": "execute_result",
          "data": {
            "text/plain": [
              "(658, 212)"
            ]
          },
          "metadata": {},
          "execution_count": 23
        }
      ],
      "source": [
        "df = pd.read_csv(\"logS_train.csv\")\n",
        "df.shape"
      ]
    },
    {
      "cell_type": "code",
      "execution_count": null,
      "id": "divided-electricity",
      "metadata": {
        "id": "divided-electricity",
        "colab": {
          "base_uri": "https://localhost:8080/",
          "height": 290
        },
        "outputId": "16bf87b3-e0da-4d74-c4b7-00370e889c7d"
      },
      "outputs": [
        {
          "output_type": "execute_result",
          "data": {
            "text/plain": [
              "   TRAINING SET INDEX  LogS(mols/L)  MaxAbsEStateIndex  MaxEStateIndex  \\\n",
              "0                   1        -6.237           5.614081        5.614081   \n",
              "1                   2        -3.800          11.942019       11.942019   \n",
              "2                   3        -4.630           2.248843        2.248843   \n",
              "3                   4        -3.960           2.178241        2.178241   \n",
              "4                   5         0.540          11.169907       11.169907   \n",
              "\n",
              "   MinAbsEStateIndex  MinEStateIndex       qed        SPS    MolWt  \\\n",
              "0           0.597236       -2.726796  0.327494  12.074074  466.479   \n",
              "1           0.161193       -0.588430  0.760294  41.318182  302.458   \n",
              "2           1.232824        1.232824  0.546961  14.000000  154.212   \n",
              "3           1.342593        1.342593  0.463217  12.666667  152.196   \n",
              "4           0.347654       -2.920139  0.633379  16.000000  183.169   \n",
              "\n",
              "   HeavyAtomMolWt  ...  fr_sulfide  fr_sulfonamd  fr_sulfone  \\\n",
              "0         446.319  ...           0             0           0   \n",
              "1         272.218  ...           0             0           0   \n",
              "2         144.132  ...           0             0           0   \n",
              "3         144.132  ...           0             0           0   \n",
              "4         173.089  ...           0             0           0   \n",
              "\n",
              "   fr_term_acetylene  fr_tetrazole  fr_thiazole  fr_thiocyan  fr_thiophene  \\\n",
              "0                  0             0            0            0             0   \n",
              "1                  0             0            0            0             0   \n",
              "2                  0             0            0            0             0   \n",
              "3                  0             0            0            0             0   \n",
              "4                  0             0            0            0             0   \n",
              "\n",
              "   fr_unbrch_alkane  fr_urea  \n",
              "0                 0        0  \n",
              "1                 0        0  \n",
              "2                 0        0  \n",
              "3                 0        0  \n",
              "4                 0        0  \n",
              "\n",
              "[5 rows x 212 columns]"
            ],
            "text/html": [
              "\n",
              "  <div id=\"df-690cd382-6faa-4c68-9e21-8877e9363e18\" class=\"colab-df-container\">\n",
              "    <div>\n",
              "<style scoped>\n",
              "    .dataframe tbody tr th:only-of-type {\n",
              "        vertical-align: middle;\n",
              "    }\n",
              "\n",
              "    .dataframe tbody tr th {\n",
              "        vertical-align: top;\n",
              "    }\n",
              "\n",
              "    .dataframe thead th {\n",
              "        text-align: right;\n",
              "    }\n",
              "</style>\n",
              "<table border=\"1\" class=\"dataframe\">\n",
              "  <thead>\n",
              "    <tr style=\"text-align: right;\">\n",
              "      <th></th>\n",
              "      <th>TRAINING SET INDEX</th>\n",
              "      <th>LogS(mols/L)</th>\n",
              "      <th>MaxAbsEStateIndex</th>\n",
              "      <th>MaxEStateIndex</th>\n",
              "      <th>MinAbsEStateIndex</th>\n",
              "      <th>MinEStateIndex</th>\n",
              "      <th>qed</th>\n",
              "      <th>SPS</th>\n",
              "      <th>MolWt</th>\n",
              "      <th>HeavyAtomMolWt</th>\n",
              "      <th>...</th>\n",
              "      <th>fr_sulfide</th>\n",
              "      <th>fr_sulfonamd</th>\n",
              "      <th>fr_sulfone</th>\n",
              "      <th>fr_term_acetylene</th>\n",
              "      <th>fr_tetrazole</th>\n",
              "      <th>fr_thiazole</th>\n",
              "      <th>fr_thiocyan</th>\n",
              "      <th>fr_thiophene</th>\n",
              "      <th>fr_unbrch_alkane</th>\n",
              "      <th>fr_urea</th>\n",
              "    </tr>\n",
              "  </thead>\n",
              "  <tbody>\n",
              "    <tr>\n",
              "      <th>0</th>\n",
              "      <td>1</td>\n",
              "      <td>-6.237</td>\n",
              "      <td>5.614081</td>\n",
              "      <td>5.614081</td>\n",
              "      <td>0.597236</td>\n",
              "      <td>-2.726796</td>\n",
              "      <td>0.327494</td>\n",
              "      <td>12.074074</td>\n",
              "      <td>466.479</td>\n",
              "      <td>446.319</td>\n",
              "      <td>...</td>\n",
              "      <td>0</td>\n",
              "      <td>0</td>\n",
              "      <td>0</td>\n",
              "      <td>0</td>\n",
              "      <td>0</td>\n",
              "      <td>0</td>\n",
              "      <td>0</td>\n",
              "      <td>0</td>\n",
              "      <td>0</td>\n",
              "      <td>0</td>\n",
              "    </tr>\n",
              "    <tr>\n",
              "      <th>1</th>\n",
              "      <td>2</td>\n",
              "      <td>-3.800</td>\n",
              "      <td>11.942019</td>\n",
              "      <td>11.942019</td>\n",
              "      <td>0.161193</td>\n",
              "      <td>-0.588430</td>\n",
              "      <td>0.760294</td>\n",
              "      <td>41.318182</td>\n",
              "      <td>302.458</td>\n",
              "      <td>272.218</td>\n",
              "      <td>...</td>\n",
              "      <td>0</td>\n",
              "      <td>0</td>\n",
              "      <td>0</td>\n",
              "      <td>0</td>\n",
              "      <td>0</td>\n",
              "      <td>0</td>\n",
              "      <td>0</td>\n",
              "      <td>0</td>\n",
              "      <td>0</td>\n",
              "      <td>0</td>\n",
              "    </tr>\n",
              "    <tr>\n",
              "      <th>2</th>\n",
              "      <td>3</td>\n",
              "      <td>-4.630</td>\n",
              "      <td>2.248843</td>\n",
              "      <td>2.248843</td>\n",
              "      <td>1.232824</td>\n",
              "      <td>1.232824</td>\n",
              "      <td>0.546961</td>\n",
              "      <td>14.000000</td>\n",
              "      <td>154.212</td>\n",
              "      <td>144.132</td>\n",
              "      <td>...</td>\n",
              "      <td>0</td>\n",
              "      <td>0</td>\n",
              "      <td>0</td>\n",
              "      <td>0</td>\n",
              "      <td>0</td>\n",
              "      <td>0</td>\n",
              "      <td>0</td>\n",
              "      <td>0</td>\n",
              "      <td>0</td>\n",
              "      <td>0</td>\n",
              "    </tr>\n",
              "    <tr>\n",
              "      <th>3</th>\n",
              "      <td>4</td>\n",
              "      <td>-3.960</td>\n",
              "      <td>2.178241</td>\n",
              "      <td>2.178241</td>\n",
              "      <td>1.342593</td>\n",
              "      <td>1.342593</td>\n",
              "      <td>0.463217</td>\n",
              "      <td>12.666667</td>\n",
              "      <td>152.196</td>\n",
              "      <td>144.132</td>\n",
              "      <td>...</td>\n",
              "      <td>0</td>\n",
              "      <td>0</td>\n",
              "      <td>0</td>\n",
              "      <td>0</td>\n",
              "      <td>0</td>\n",
              "      <td>0</td>\n",
              "      <td>0</td>\n",
              "      <td>0</td>\n",
              "      <td>0</td>\n",
              "      <td>0</td>\n",
              "    </tr>\n",
              "    <tr>\n",
              "      <th>4</th>\n",
              "      <td>5</td>\n",
              "      <td>0.540</td>\n",
              "      <td>11.169907</td>\n",
              "      <td>11.169907</td>\n",
              "      <td>0.347654</td>\n",
              "      <td>-2.920139</td>\n",
              "      <td>0.633379</td>\n",
              "      <td>16.000000</td>\n",
              "      <td>183.169</td>\n",
              "      <td>173.089</td>\n",
              "      <td>...</td>\n",
              "      <td>0</td>\n",
              "      <td>0</td>\n",
              "      <td>0</td>\n",
              "      <td>0</td>\n",
              "      <td>0</td>\n",
              "      <td>0</td>\n",
              "      <td>0</td>\n",
              "      <td>0</td>\n",
              "      <td>0</td>\n",
              "      <td>0</td>\n",
              "    </tr>\n",
              "  </tbody>\n",
              "</table>\n",
              "<p>5 rows × 212 columns</p>\n",
              "</div>\n",
              "    <div class=\"colab-df-buttons\">\n",
              "\n",
              "  <div class=\"colab-df-container\">\n",
              "    <button class=\"colab-df-convert\" onclick=\"convertToInteractive('df-690cd382-6faa-4c68-9e21-8877e9363e18')\"\n",
              "            title=\"Convert this dataframe to an interactive table.\"\n",
              "            style=\"display:none;\">\n",
              "\n",
              "  <svg xmlns=\"http://www.w3.org/2000/svg\" height=\"24px\" viewBox=\"0 -960 960 960\">\n",
              "    <path d=\"M120-120v-720h720v720H120Zm60-500h600v-160H180v160Zm220 220h160v-160H400v160Zm0 220h160v-160H400v160ZM180-400h160v-160H180v160Zm440 0h160v-160H620v160ZM180-180h160v-160H180v160Zm440 0h160v-160H620v160Z\"/>\n",
              "  </svg>\n",
              "    </button>\n",
              "\n",
              "  <style>\n",
              "    .colab-df-container {\n",
              "      display:flex;\n",
              "      gap: 12px;\n",
              "    }\n",
              "\n",
              "    .colab-df-convert {\n",
              "      background-color: #E8F0FE;\n",
              "      border: none;\n",
              "      border-radius: 50%;\n",
              "      cursor: pointer;\n",
              "      display: none;\n",
              "      fill: #1967D2;\n",
              "      height: 32px;\n",
              "      padding: 0 0 0 0;\n",
              "      width: 32px;\n",
              "    }\n",
              "\n",
              "    .colab-df-convert:hover {\n",
              "      background-color: #E2EBFA;\n",
              "      box-shadow: 0px 1px 2px rgba(60, 64, 67, 0.3), 0px 1px 3px 1px rgba(60, 64, 67, 0.15);\n",
              "      fill: #174EA6;\n",
              "    }\n",
              "\n",
              "    .colab-df-buttons div {\n",
              "      margin-bottom: 4px;\n",
              "    }\n",
              "\n",
              "    [theme=dark] .colab-df-convert {\n",
              "      background-color: #3B4455;\n",
              "      fill: #D2E3FC;\n",
              "    }\n",
              "\n",
              "    [theme=dark] .colab-df-convert:hover {\n",
              "      background-color: #434B5C;\n",
              "      box-shadow: 0px 1px 3px 1px rgba(0, 0, 0, 0.15);\n",
              "      filter: drop-shadow(0px 1px 2px rgba(0, 0, 0, 0.3));\n",
              "      fill: #FFFFFF;\n",
              "    }\n",
              "  </style>\n",
              "\n",
              "    <script>\n",
              "      const buttonEl =\n",
              "        document.querySelector('#df-690cd382-6faa-4c68-9e21-8877e9363e18 button.colab-df-convert');\n",
              "      buttonEl.style.display =\n",
              "        google.colab.kernel.accessAllowed ? 'block' : 'none';\n",
              "\n",
              "      async function convertToInteractive(key) {\n",
              "        const element = document.querySelector('#df-690cd382-6faa-4c68-9e21-8877e9363e18');\n",
              "        const dataTable =\n",
              "          await google.colab.kernel.invokeFunction('convertToInteractive',\n",
              "                                                    [key], {});\n",
              "        if (!dataTable) return;\n",
              "\n",
              "        const docLinkHtml = 'Like what you see? Visit the ' +\n",
              "          '<a target=\"_blank\" href=https://colab.research.google.com/notebooks/data_table.ipynb>data table notebook</a>'\n",
              "          + ' to learn more about interactive tables.';\n",
              "        element.innerHTML = '';\n",
              "        dataTable['output_type'] = 'display_data';\n",
              "        await google.colab.output.renderOutput(dataTable, element);\n",
              "        const docLink = document.createElement('div');\n",
              "        docLink.innerHTML = docLinkHtml;\n",
              "        element.appendChild(docLink);\n",
              "      }\n",
              "    </script>\n",
              "  </div>\n",
              "\n",
              "\n",
              "<div id=\"df-c7498e25-1fb1-4dc0-b511-1b940b6a1949\">\n",
              "  <button class=\"colab-df-quickchart\" onclick=\"quickchart('df-c7498e25-1fb1-4dc0-b511-1b940b6a1949')\"\n",
              "            title=\"Suggest charts\"\n",
              "            style=\"display:none;\">\n",
              "\n",
              "<svg xmlns=\"http://www.w3.org/2000/svg\" height=\"24px\"viewBox=\"0 0 24 24\"\n",
              "     width=\"24px\">\n",
              "    <g>\n",
              "        <path d=\"M19 3H5c-1.1 0-2 .9-2 2v14c0 1.1.9 2 2 2h14c1.1 0 2-.9 2-2V5c0-1.1-.9-2-2-2zM9 17H7v-7h2v7zm4 0h-2V7h2v10zm4 0h-2v-4h2v4z\"/>\n",
              "    </g>\n",
              "</svg>\n",
              "  </button>\n",
              "\n",
              "<style>\n",
              "  .colab-df-quickchart {\n",
              "      --bg-color: #E8F0FE;\n",
              "      --fill-color: #1967D2;\n",
              "      --hover-bg-color: #E2EBFA;\n",
              "      --hover-fill-color: #174EA6;\n",
              "      --disabled-fill-color: #AAA;\n",
              "      --disabled-bg-color: #DDD;\n",
              "  }\n",
              "\n",
              "  [theme=dark] .colab-df-quickchart {\n",
              "      --bg-color: #3B4455;\n",
              "      --fill-color: #D2E3FC;\n",
              "      --hover-bg-color: #434B5C;\n",
              "      --hover-fill-color: #FFFFFF;\n",
              "      --disabled-bg-color: #3B4455;\n",
              "      --disabled-fill-color: #666;\n",
              "  }\n",
              "\n",
              "  .colab-df-quickchart {\n",
              "    background-color: var(--bg-color);\n",
              "    border: none;\n",
              "    border-radius: 50%;\n",
              "    cursor: pointer;\n",
              "    display: none;\n",
              "    fill: var(--fill-color);\n",
              "    height: 32px;\n",
              "    padding: 0;\n",
              "    width: 32px;\n",
              "  }\n",
              "\n",
              "  .colab-df-quickchart:hover {\n",
              "    background-color: var(--hover-bg-color);\n",
              "    box-shadow: 0 1px 2px rgba(60, 64, 67, 0.3), 0 1px 3px 1px rgba(60, 64, 67, 0.15);\n",
              "    fill: var(--button-hover-fill-color);\n",
              "  }\n",
              "\n",
              "  .colab-df-quickchart-complete:disabled,\n",
              "  .colab-df-quickchart-complete:disabled:hover {\n",
              "    background-color: var(--disabled-bg-color);\n",
              "    fill: var(--disabled-fill-color);\n",
              "    box-shadow: none;\n",
              "  }\n",
              "\n",
              "  .colab-df-spinner {\n",
              "    border: 2px solid var(--fill-color);\n",
              "    border-color: transparent;\n",
              "    border-bottom-color: var(--fill-color);\n",
              "    animation:\n",
              "      spin 1s steps(1) infinite;\n",
              "  }\n",
              "\n",
              "  @keyframes spin {\n",
              "    0% {\n",
              "      border-color: transparent;\n",
              "      border-bottom-color: var(--fill-color);\n",
              "      border-left-color: var(--fill-color);\n",
              "    }\n",
              "    20% {\n",
              "      border-color: transparent;\n",
              "      border-left-color: var(--fill-color);\n",
              "      border-top-color: var(--fill-color);\n",
              "    }\n",
              "    30% {\n",
              "      border-color: transparent;\n",
              "      border-left-color: var(--fill-color);\n",
              "      border-top-color: var(--fill-color);\n",
              "      border-right-color: var(--fill-color);\n",
              "    }\n",
              "    40% {\n",
              "      border-color: transparent;\n",
              "      border-right-color: var(--fill-color);\n",
              "      border-top-color: var(--fill-color);\n",
              "    }\n",
              "    60% {\n",
              "      border-color: transparent;\n",
              "      border-right-color: var(--fill-color);\n",
              "    }\n",
              "    80% {\n",
              "      border-color: transparent;\n",
              "      border-right-color: var(--fill-color);\n",
              "      border-bottom-color: var(--fill-color);\n",
              "    }\n",
              "    90% {\n",
              "      border-color: transparent;\n",
              "      border-bottom-color: var(--fill-color);\n",
              "    }\n",
              "  }\n",
              "</style>\n",
              "\n",
              "  <script>\n",
              "    async function quickchart(key) {\n",
              "      const quickchartButtonEl =\n",
              "        document.querySelector('#' + key + ' button');\n",
              "      quickchartButtonEl.disabled = true;  // To prevent multiple clicks.\n",
              "      quickchartButtonEl.classList.add('colab-df-spinner');\n",
              "      try {\n",
              "        const charts = await google.colab.kernel.invokeFunction(\n",
              "            'suggestCharts', [key], {});\n",
              "      } catch (error) {\n",
              "        console.error('Error during call to suggestCharts:', error);\n",
              "      }\n",
              "      quickchartButtonEl.classList.remove('colab-df-spinner');\n",
              "      quickchartButtonEl.classList.add('colab-df-quickchart-complete');\n",
              "    }\n",
              "    (() => {\n",
              "      let quickchartButtonEl =\n",
              "        document.querySelector('#df-c7498e25-1fb1-4dc0-b511-1b940b6a1949 button');\n",
              "      quickchartButtonEl.style.display =\n",
              "        google.colab.kernel.accessAllowed ? 'block' : 'none';\n",
              "    })();\n",
              "  </script>\n",
              "</div>\n",
              "\n",
              "    </div>\n",
              "  </div>\n"
            ],
            "application/vnd.google.colaboratory.intrinsic+json": {
              "type": "dataframe",
              "variable_name": "df"
            }
          },
          "metadata": {},
          "execution_count": 24
        }
      ],
      "source": [
        "df.head()"
      ]
    },
    {
      "cell_type": "markdown",
      "id": "cordless-bouquet",
      "metadata": {
        "id": "cordless-bouquet"
      },
      "source": [
        "読み込んだデータのカラム（項目）とインデックスの一覧の確認"
      ]
    },
    {
      "cell_type": "code",
      "execution_count": null,
      "id": "weird-architecture",
      "metadata": {
        "id": "weird-architecture",
        "colab": {
          "base_uri": "https://localhost:8080/"
        },
        "outputId": "6b8f0239-cdc7-4646-b0c0-ae97508379f0"
      },
      "outputs": [
        {
          "output_type": "stream",
          "name": "stdout",
          "text": [
            "Index(['TRAINING SET INDEX', 'LogS(mols/L)', 'MaxAbsEStateIndex',\n",
            "       'MaxEStateIndex', 'MinAbsEStateIndex', 'MinEStateIndex', 'qed', 'SPS',\n",
            "       'MolWt', 'HeavyAtomMolWt',\n",
            "       ...\n",
            "       'fr_sulfide', 'fr_sulfonamd', 'fr_sulfone', 'fr_term_acetylene',\n",
            "       'fr_tetrazole', 'fr_thiazole', 'fr_thiocyan', 'fr_thiophene',\n",
            "       'fr_unbrch_alkane', 'fr_urea'],\n",
            "      dtype='object', length=212)\n",
            "RangeIndex(start=0, stop=658, step=1)\n"
          ]
        }
      ],
      "source": [
        "# カラム（列名）の一覧を確認\n",
        "print(df.columns)\n",
        "\n",
        "# インデックス（行名）の一覧を確認\n",
        "print(df.index)"
      ]
    },
    {
      "cell_type": "code",
      "source": [
        "# 0列目\n",
        "df.iloc[0]"
      ],
      "metadata": {
        "colab": {
          "base_uri": "https://localhost:8080/",
          "height": 458
        },
        "id": "6Ous5rQE_LSb",
        "outputId": "0984bbda-4938-49c9-924d-74c5150aaaaa"
      },
      "id": "6Ous5rQE_LSb",
      "execution_count": null,
      "outputs": [
        {
          "output_type": "execute_result",
          "data": {
            "text/plain": [
              "TRAINING SET INDEX    1.000000\n",
              "LogS(mols/L)         -6.237000\n",
              "MaxAbsEStateIndex     5.614081\n",
              "MaxEStateIndex        5.614081\n",
              "MinAbsEStateIndex     0.597236\n",
              "                        ...   \n",
              "fr_thiazole           0.000000\n",
              "fr_thiocyan           0.000000\n",
              "fr_thiophene          0.000000\n",
              "fr_unbrch_alkane      0.000000\n",
              "fr_urea               0.000000\n",
              "Name: 0, Length: 212, dtype: float64"
            ],
            "text/html": [
              "<div>\n",
              "<style scoped>\n",
              "    .dataframe tbody tr th:only-of-type {\n",
              "        vertical-align: middle;\n",
              "    }\n",
              "\n",
              "    .dataframe tbody tr th {\n",
              "        vertical-align: top;\n",
              "    }\n",
              "\n",
              "    .dataframe thead th {\n",
              "        text-align: right;\n",
              "    }\n",
              "</style>\n",
              "<table border=\"1\" class=\"dataframe\">\n",
              "  <thead>\n",
              "    <tr style=\"text-align: right;\">\n",
              "      <th></th>\n",
              "      <th>0</th>\n",
              "    </tr>\n",
              "  </thead>\n",
              "  <tbody>\n",
              "    <tr>\n",
              "      <th>TRAINING SET INDEX</th>\n",
              "      <td>1.000000</td>\n",
              "    </tr>\n",
              "    <tr>\n",
              "      <th>LogS(mols/L)</th>\n",
              "      <td>-6.237000</td>\n",
              "    </tr>\n",
              "    <tr>\n",
              "      <th>MaxAbsEStateIndex</th>\n",
              "      <td>5.614081</td>\n",
              "    </tr>\n",
              "    <tr>\n",
              "      <th>MaxEStateIndex</th>\n",
              "      <td>5.614081</td>\n",
              "    </tr>\n",
              "    <tr>\n",
              "      <th>MinAbsEStateIndex</th>\n",
              "      <td>0.597236</td>\n",
              "    </tr>\n",
              "    <tr>\n",
              "      <th>...</th>\n",
              "      <td>...</td>\n",
              "    </tr>\n",
              "    <tr>\n",
              "      <th>fr_thiazole</th>\n",
              "      <td>0.000000</td>\n",
              "    </tr>\n",
              "    <tr>\n",
              "      <th>fr_thiocyan</th>\n",
              "      <td>0.000000</td>\n",
              "    </tr>\n",
              "    <tr>\n",
              "      <th>fr_thiophene</th>\n",
              "      <td>0.000000</td>\n",
              "    </tr>\n",
              "    <tr>\n",
              "      <th>fr_unbrch_alkane</th>\n",
              "      <td>0.000000</td>\n",
              "    </tr>\n",
              "    <tr>\n",
              "      <th>fr_urea</th>\n",
              "      <td>0.000000</td>\n",
              "    </tr>\n",
              "  </tbody>\n",
              "</table>\n",
              "<p>212 rows × 1 columns</p>\n",
              "</div><br><label><b>dtype:</b> float64</label>"
            ]
          },
          "metadata": {},
          "execution_count": 26
        }
      ]
    },
    {
      "cell_type": "code",
      "source": [
        "# 1行目で0列目のデータ\n",
        "df.iloc[1, 0]"
      ],
      "metadata": {
        "colab": {
          "base_uri": "https://localhost:8080/"
        },
        "id": "ruyMsAPi_LHb",
        "outputId": "4752bc1c-fbb4-4d66-ed9d-dcf98194f531"
      },
      "id": "ruyMsAPi_LHb",
      "execution_count": null,
      "outputs": [
        {
          "output_type": "execute_result",
          "data": {
            "text/plain": [
              "2"
            ]
          },
          "metadata": {},
          "execution_count": 27
        }
      ]
    },
    {
      "cell_type": "code",
      "source": [
        "# 0-4行、0-4列のデータ\n",
        "df.iloc[:5, :5]"
      ],
      "metadata": {
        "colab": {
          "base_uri": "https://localhost:8080/",
          "height": 206
        },
        "id": "NVTy7ZjrrZaL",
        "outputId": "f51d9767-bfd7-452b-d654-09ce67d47efb"
      },
      "id": "NVTy7ZjrrZaL",
      "execution_count": null,
      "outputs": [
        {
          "output_type": "execute_result",
          "data": {
            "text/plain": [
              "   TRAINING SET INDEX  LogS(mols/L)  MaxAbsEStateIndex  MaxEStateIndex  \\\n",
              "0                   1        -6.237           5.614081        5.614081   \n",
              "1                   2        -3.800          11.942019       11.942019   \n",
              "2                   3        -4.630           2.248843        2.248843   \n",
              "3                   4        -3.960           2.178241        2.178241   \n",
              "4                   5         0.540          11.169907       11.169907   \n",
              "\n",
              "   MinAbsEStateIndex  \n",
              "0           0.597236  \n",
              "1           0.161193  \n",
              "2           1.232824  \n",
              "3           1.342593  \n",
              "4           0.347654  "
            ],
            "text/html": [
              "\n",
              "  <div id=\"df-bde648e5-1048-4454-a391-007e9c1a4eb6\" class=\"colab-df-container\">\n",
              "    <div>\n",
              "<style scoped>\n",
              "    .dataframe tbody tr th:only-of-type {\n",
              "        vertical-align: middle;\n",
              "    }\n",
              "\n",
              "    .dataframe tbody tr th {\n",
              "        vertical-align: top;\n",
              "    }\n",
              "\n",
              "    .dataframe thead th {\n",
              "        text-align: right;\n",
              "    }\n",
              "</style>\n",
              "<table border=\"1\" class=\"dataframe\">\n",
              "  <thead>\n",
              "    <tr style=\"text-align: right;\">\n",
              "      <th></th>\n",
              "      <th>TRAINING SET INDEX</th>\n",
              "      <th>LogS(mols/L)</th>\n",
              "      <th>MaxAbsEStateIndex</th>\n",
              "      <th>MaxEStateIndex</th>\n",
              "      <th>MinAbsEStateIndex</th>\n",
              "    </tr>\n",
              "  </thead>\n",
              "  <tbody>\n",
              "    <tr>\n",
              "      <th>0</th>\n",
              "      <td>1</td>\n",
              "      <td>-6.237</td>\n",
              "      <td>5.614081</td>\n",
              "      <td>5.614081</td>\n",
              "      <td>0.597236</td>\n",
              "    </tr>\n",
              "    <tr>\n",
              "      <th>1</th>\n",
              "      <td>2</td>\n",
              "      <td>-3.800</td>\n",
              "      <td>11.942019</td>\n",
              "      <td>11.942019</td>\n",
              "      <td>0.161193</td>\n",
              "    </tr>\n",
              "    <tr>\n",
              "      <th>2</th>\n",
              "      <td>3</td>\n",
              "      <td>-4.630</td>\n",
              "      <td>2.248843</td>\n",
              "      <td>2.248843</td>\n",
              "      <td>1.232824</td>\n",
              "    </tr>\n",
              "    <tr>\n",
              "      <th>3</th>\n",
              "      <td>4</td>\n",
              "      <td>-3.960</td>\n",
              "      <td>2.178241</td>\n",
              "      <td>2.178241</td>\n",
              "      <td>1.342593</td>\n",
              "    </tr>\n",
              "    <tr>\n",
              "      <th>4</th>\n",
              "      <td>5</td>\n",
              "      <td>0.540</td>\n",
              "      <td>11.169907</td>\n",
              "      <td>11.169907</td>\n",
              "      <td>0.347654</td>\n",
              "    </tr>\n",
              "  </tbody>\n",
              "</table>\n",
              "</div>\n",
              "    <div class=\"colab-df-buttons\">\n",
              "\n",
              "  <div class=\"colab-df-container\">\n",
              "    <button class=\"colab-df-convert\" onclick=\"convertToInteractive('df-bde648e5-1048-4454-a391-007e9c1a4eb6')\"\n",
              "            title=\"Convert this dataframe to an interactive table.\"\n",
              "            style=\"display:none;\">\n",
              "\n",
              "  <svg xmlns=\"http://www.w3.org/2000/svg\" height=\"24px\" viewBox=\"0 -960 960 960\">\n",
              "    <path d=\"M120-120v-720h720v720H120Zm60-500h600v-160H180v160Zm220 220h160v-160H400v160Zm0 220h160v-160H400v160ZM180-400h160v-160H180v160Zm440 0h160v-160H620v160ZM180-180h160v-160H180v160Zm440 0h160v-160H620v160Z\"/>\n",
              "  </svg>\n",
              "    </button>\n",
              "\n",
              "  <style>\n",
              "    .colab-df-container {\n",
              "      display:flex;\n",
              "      gap: 12px;\n",
              "    }\n",
              "\n",
              "    .colab-df-convert {\n",
              "      background-color: #E8F0FE;\n",
              "      border: none;\n",
              "      border-radius: 50%;\n",
              "      cursor: pointer;\n",
              "      display: none;\n",
              "      fill: #1967D2;\n",
              "      height: 32px;\n",
              "      padding: 0 0 0 0;\n",
              "      width: 32px;\n",
              "    }\n",
              "\n",
              "    .colab-df-convert:hover {\n",
              "      background-color: #E2EBFA;\n",
              "      box-shadow: 0px 1px 2px rgba(60, 64, 67, 0.3), 0px 1px 3px 1px rgba(60, 64, 67, 0.15);\n",
              "      fill: #174EA6;\n",
              "    }\n",
              "\n",
              "    .colab-df-buttons div {\n",
              "      margin-bottom: 4px;\n",
              "    }\n",
              "\n",
              "    [theme=dark] .colab-df-convert {\n",
              "      background-color: #3B4455;\n",
              "      fill: #D2E3FC;\n",
              "    }\n",
              "\n",
              "    [theme=dark] .colab-df-convert:hover {\n",
              "      background-color: #434B5C;\n",
              "      box-shadow: 0px 1px 3px 1px rgba(0, 0, 0, 0.15);\n",
              "      filter: drop-shadow(0px 1px 2px rgba(0, 0, 0, 0.3));\n",
              "      fill: #FFFFFF;\n",
              "    }\n",
              "  </style>\n",
              "\n",
              "    <script>\n",
              "      const buttonEl =\n",
              "        document.querySelector('#df-bde648e5-1048-4454-a391-007e9c1a4eb6 button.colab-df-convert');\n",
              "      buttonEl.style.display =\n",
              "        google.colab.kernel.accessAllowed ? 'block' : 'none';\n",
              "\n",
              "      async function convertToInteractive(key) {\n",
              "        const element = document.querySelector('#df-bde648e5-1048-4454-a391-007e9c1a4eb6');\n",
              "        const dataTable =\n",
              "          await google.colab.kernel.invokeFunction('convertToInteractive',\n",
              "                                                    [key], {});\n",
              "        if (!dataTable) return;\n",
              "\n",
              "        const docLinkHtml = 'Like what you see? Visit the ' +\n",
              "          '<a target=\"_blank\" href=https://colab.research.google.com/notebooks/data_table.ipynb>data table notebook</a>'\n",
              "          + ' to learn more about interactive tables.';\n",
              "        element.innerHTML = '';\n",
              "        dataTable['output_type'] = 'display_data';\n",
              "        await google.colab.output.renderOutput(dataTable, element);\n",
              "        const docLink = document.createElement('div');\n",
              "        docLink.innerHTML = docLinkHtml;\n",
              "        element.appendChild(docLink);\n",
              "      }\n",
              "    </script>\n",
              "  </div>\n",
              "\n",
              "\n",
              "<div id=\"df-d501ffcd-fb73-411f-ab1e-0f4d4797fb77\">\n",
              "  <button class=\"colab-df-quickchart\" onclick=\"quickchart('df-d501ffcd-fb73-411f-ab1e-0f4d4797fb77')\"\n",
              "            title=\"Suggest charts\"\n",
              "            style=\"display:none;\">\n",
              "\n",
              "<svg xmlns=\"http://www.w3.org/2000/svg\" height=\"24px\"viewBox=\"0 0 24 24\"\n",
              "     width=\"24px\">\n",
              "    <g>\n",
              "        <path d=\"M19 3H5c-1.1 0-2 .9-2 2v14c0 1.1.9 2 2 2h14c1.1 0 2-.9 2-2V5c0-1.1-.9-2-2-2zM9 17H7v-7h2v7zm4 0h-2V7h2v10zm4 0h-2v-4h2v4z\"/>\n",
              "    </g>\n",
              "</svg>\n",
              "  </button>\n",
              "\n",
              "<style>\n",
              "  .colab-df-quickchart {\n",
              "      --bg-color: #E8F0FE;\n",
              "      --fill-color: #1967D2;\n",
              "      --hover-bg-color: #E2EBFA;\n",
              "      --hover-fill-color: #174EA6;\n",
              "      --disabled-fill-color: #AAA;\n",
              "      --disabled-bg-color: #DDD;\n",
              "  }\n",
              "\n",
              "  [theme=dark] .colab-df-quickchart {\n",
              "      --bg-color: #3B4455;\n",
              "      --fill-color: #D2E3FC;\n",
              "      --hover-bg-color: #434B5C;\n",
              "      --hover-fill-color: #FFFFFF;\n",
              "      --disabled-bg-color: #3B4455;\n",
              "      --disabled-fill-color: #666;\n",
              "  }\n",
              "\n",
              "  .colab-df-quickchart {\n",
              "    background-color: var(--bg-color);\n",
              "    border: none;\n",
              "    border-radius: 50%;\n",
              "    cursor: pointer;\n",
              "    display: none;\n",
              "    fill: var(--fill-color);\n",
              "    height: 32px;\n",
              "    padding: 0;\n",
              "    width: 32px;\n",
              "  }\n",
              "\n",
              "  .colab-df-quickchart:hover {\n",
              "    background-color: var(--hover-bg-color);\n",
              "    box-shadow: 0 1px 2px rgba(60, 64, 67, 0.3), 0 1px 3px 1px rgba(60, 64, 67, 0.15);\n",
              "    fill: var(--button-hover-fill-color);\n",
              "  }\n",
              "\n",
              "  .colab-df-quickchart-complete:disabled,\n",
              "  .colab-df-quickchart-complete:disabled:hover {\n",
              "    background-color: var(--disabled-bg-color);\n",
              "    fill: var(--disabled-fill-color);\n",
              "    box-shadow: none;\n",
              "  }\n",
              "\n",
              "  .colab-df-spinner {\n",
              "    border: 2px solid var(--fill-color);\n",
              "    border-color: transparent;\n",
              "    border-bottom-color: var(--fill-color);\n",
              "    animation:\n",
              "      spin 1s steps(1) infinite;\n",
              "  }\n",
              "\n",
              "  @keyframes spin {\n",
              "    0% {\n",
              "      border-color: transparent;\n",
              "      border-bottom-color: var(--fill-color);\n",
              "      border-left-color: var(--fill-color);\n",
              "    }\n",
              "    20% {\n",
              "      border-color: transparent;\n",
              "      border-left-color: var(--fill-color);\n",
              "      border-top-color: var(--fill-color);\n",
              "    }\n",
              "    30% {\n",
              "      border-color: transparent;\n",
              "      border-left-color: var(--fill-color);\n",
              "      border-top-color: var(--fill-color);\n",
              "      border-right-color: var(--fill-color);\n",
              "    }\n",
              "    40% {\n",
              "      border-color: transparent;\n",
              "      border-right-color: var(--fill-color);\n",
              "      border-top-color: var(--fill-color);\n",
              "    }\n",
              "    60% {\n",
              "      border-color: transparent;\n",
              "      border-right-color: var(--fill-color);\n",
              "    }\n",
              "    80% {\n",
              "      border-color: transparent;\n",
              "      border-right-color: var(--fill-color);\n",
              "      border-bottom-color: var(--fill-color);\n",
              "    }\n",
              "    90% {\n",
              "      border-color: transparent;\n",
              "      border-bottom-color: var(--fill-color);\n",
              "    }\n",
              "  }\n",
              "</style>\n",
              "\n",
              "  <script>\n",
              "    async function quickchart(key) {\n",
              "      const quickchartButtonEl =\n",
              "        document.querySelector('#' + key + ' button');\n",
              "      quickchartButtonEl.disabled = true;  // To prevent multiple clicks.\n",
              "      quickchartButtonEl.classList.add('colab-df-spinner');\n",
              "      try {\n",
              "        const charts = await google.colab.kernel.invokeFunction(\n",
              "            'suggestCharts', [key], {});\n",
              "      } catch (error) {\n",
              "        console.error('Error during call to suggestCharts:', error);\n",
              "      }\n",
              "      quickchartButtonEl.classList.remove('colab-df-spinner');\n",
              "      quickchartButtonEl.classList.add('colab-df-quickchart-complete');\n",
              "    }\n",
              "    (() => {\n",
              "      let quickchartButtonEl =\n",
              "        document.querySelector('#df-d501ffcd-fb73-411f-ab1e-0f4d4797fb77 button');\n",
              "      quickchartButtonEl.style.display =\n",
              "        google.colab.kernel.accessAllowed ? 'block' : 'none';\n",
              "    })();\n",
              "  </script>\n",
              "</div>\n",
              "\n",
              "    </div>\n",
              "  </div>\n"
            ],
            "application/vnd.google.colaboratory.intrinsic+json": {
              "type": "dataframe",
              "summary": "{\n  \"name\": \"df\",\n  \"rows\": 5,\n  \"fields\": [\n    {\n      \"column\": \"TRAINING SET INDEX\",\n      \"properties\": {\n        \"dtype\": \"number\",\n        \"std\": 1,\n        \"min\": 1,\n        \"max\": 5,\n        \"num_unique_values\": 5,\n        \"samples\": [\n          2,\n          5,\n          3\n        ],\n        \"semantic_type\": \"\",\n        \"description\": \"\"\n      }\n    },\n    {\n      \"column\": \"LogS(mols/L)\",\n      \"properties\": {\n        \"dtype\": \"number\",\n        \"std\": 2.5160661358557332,\n        \"min\": -6.237,\n        \"max\": 0.54,\n        \"num_unique_values\": 5,\n        \"samples\": [\n          -3.8,\n          0.54,\n          -4.63\n        ],\n        \"semantic_type\": \"\",\n        \"description\": \"\"\n      }\n    },\n    {\n      \"column\": \"MaxAbsEStateIndex\",\n      \"properties\": {\n        \"dtype\": \"number\",\n        \"std\": 4.713626370809694,\n        \"min\": 2.1782407407407405,\n        \"max\": 11.942018814502129,\n        \"num_unique_values\": 5,\n        \"samples\": [\n          11.942018814502129,\n          11.169907407407408,\n          2.248842592592593\n        ],\n        \"semantic_type\": \"\",\n        \"description\": \"\"\n      }\n    },\n    {\n      \"column\": \"MaxEStateIndex\",\n      \"properties\": {\n        \"dtype\": \"number\",\n        \"std\": 4.713626370809694,\n        \"min\": 2.1782407407407405,\n        \"max\": 11.942018814502129,\n        \"num_unique_values\": 5,\n        \"samples\": [\n          11.942018814502129,\n          11.169907407407408,\n          2.248842592592593\n        ],\n        \"semantic_type\": \"\",\n        \"description\": \"\"\n      }\n    },\n    {\n      \"column\": \"MinAbsEStateIndex\",\n      \"properties\": {\n        \"dtype\": \"number\",\n        \"std\": 0.5280290673640574,\n        \"min\": 0.1611933106575962,\n        \"max\": 1.3425925925925928,\n        \"num_unique_values\": 5,\n        \"samples\": [\n          0.1611933106575962,\n          0.3476543209876539,\n          1.232824074074074\n        ],\n        \"semantic_type\": \"\",\n        \"description\": \"\"\n      }\n    }\n  ]\n}"
            }
          },
          "metadata": {},
          "execution_count": 28
        }
      ]
    },
    {
      "cell_type": "code",
      "source": [
        "# LogS(mols/L)の列\n",
        "df[\"LogS(mols/L)\"]"
      ],
      "metadata": {
        "colab": {
          "base_uri": "https://localhost:8080/",
          "height": 458
        },
        "id": "VOFho2v-_Xcv",
        "outputId": "f5d08cca-7e61-4c6a-a81d-95021b0cfadb"
      },
      "id": "VOFho2v-_Xcv",
      "execution_count": null,
      "outputs": [
        {
          "output_type": "execute_result",
          "data": {
            "text/plain": [
              "0     -6.237\n",
              "1     -3.800\n",
              "2     -4.630\n",
              "3     -3.960\n",
              "4      0.540\n",
              "       ...  \n",
              "653   -2.160\n",
              "654   -7.020\n",
              "655   -2.420\n",
              "656   -6.570\n",
              "657   -5.890\n",
              "Name: LogS(mols/L), Length: 658, dtype: float64"
            ],
            "text/html": [
              "<div>\n",
              "<style scoped>\n",
              "    .dataframe tbody tr th:only-of-type {\n",
              "        vertical-align: middle;\n",
              "    }\n",
              "\n",
              "    .dataframe tbody tr th {\n",
              "        vertical-align: top;\n",
              "    }\n",
              "\n",
              "    .dataframe thead th {\n",
              "        text-align: right;\n",
              "    }\n",
              "</style>\n",
              "<table border=\"1\" class=\"dataframe\">\n",
              "  <thead>\n",
              "    <tr style=\"text-align: right;\">\n",
              "      <th></th>\n",
              "      <th>LogS(mols/L)</th>\n",
              "    </tr>\n",
              "  </thead>\n",
              "  <tbody>\n",
              "    <tr>\n",
              "      <th>0</th>\n",
              "      <td>-6.237</td>\n",
              "    </tr>\n",
              "    <tr>\n",
              "      <th>1</th>\n",
              "      <td>-3.800</td>\n",
              "    </tr>\n",
              "    <tr>\n",
              "      <th>2</th>\n",
              "      <td>-4.630</td>\n",
              "    </tr>\n",
              "    <tr>\n",
              "      <th>3</th>\n",
              "      <td>-3.960</td>\n",
              "    </tr>\n",
              "    <tr>\n",
              "      <th>4</th>\n",
              "      <td>0.540</td>\n",
              "    </tr>\n",
              "    <tr>\n",
              "      <th>...</th>\n",
              "      <td>...</td>\n",
              "    </tr>\n",
              "    <tr>\n",
              "      <th>653</th>\n",
              "      <td>-2.160</td>\n",
              "    </tr>\n",
              "    <tr>\n",
              "      <th>654</th>\n",
              "      <td>-7.020</td>\n",
              "    </tr>\n",
              "    <tr>\n",
              "      <th>655</th>\n",
              "      <td>-2.420</td>\n",
              "    </tr>\n",
              "    <tr>\n",
              "      <th>656</th>\n",
              "      <td>-6.570</td>\n",
              "    </tr>\n",
              "    <tr>\n",
              "      <th>657</th>\n",
              "      <td>-5.890</td>\n",
              "    </tr>\n",
              "  </tbody>\n",
              "</table>\n",
              "<p>658 rows × 1 columns</p>\n",
              "</div><br><label><b>dtype:</b> float64</label>"
            ]
          },
          "metadata": {},
          "execution_count": 29
        }
      ]
    },
    {
      "cell_type": "code",
      "source": [
        "# LogS(mols/L)の列\n",
        "df.loc[:, \"LogS(mols/L)\"]"
      ],
      "metadata": {
        "colab": {
          "base_uri": "https://localhost:8080/",
          "height": 458
        },
        "id": "SS5Hy0sjrL0g",
        "outputId": "a76c132a-5632-442f-e824-0a15bb92f2d3"
      },
      "id": "SS5Hy0sjrL0g",
      "execution_count": null,
      "outputs": [
        {
          "output_type": "execute_result",
          "data": {
            "text/plain": [
              "0     -6.237\n",
              "1     -3.800\n",
              "2     -4.630\n",
              "3     -3.960\n",
              "4      0.540\n",
              "       ...  \n",
              "653   -2.160\n",
              "654   -7.020\n",
              "655   -2.420\n",
              "656   -6.570\n",
              "657   -5.890\n",
              "Name: LogS(mols/L), Length: 658, dtype: float64"
            ],
            "text/html": [
              "<div>\n",
              "<style scoped>\n",
              "    .dataframe tbody tr th:only-of-type {\n",
              "        vertical-align: middle;\n",
              "    }\n",
              "\n",
              "    .dataframe tbody tr th {\n",
              "        vertical-align: top;\n",
              "    }\n",
              "\n",
              "    .dataframe thead th {\n",
              "        text-align: right;\n",
              "    }\n",
              "</style>\n",
              "<table border=\"1\" class=\"dataframe\">\n",
              "  <thead>\n",
              "    <tr style=\"text-align: right;\">\n",
              "      <th></th>\n",
              "      <th>LogS(mols/L)</th>\n",
              "    </tr>\n",
              "  </thead>\n",
              "  <tbody>\n",
              "    <tr>\n",
              "      <th>0</th>\n",
              "      <td>-6.237</td>\n",
              "    </tr>\n",
              "    <tr>\n",
              "      <th>1</th>\n",
              "      <td>-3.800</td>\n",
              "    </tr>\n",
              "    <tr>\n",
              "      <th>2</th>\n",
              "      <td>-4.630</td>\n",
              "    </tr>\n",
              "    <tr>\n",
              "      <th>3</th>\n",
              "      <td>-3.960</td>\n",
              "    </tr>\n",
              "    <tr>\n",
              "      <th>4</th>\n",
              "      <td>0.540</td>\n",
              "    </tr>\n",
              "    <tr>\n",
              "      <th>...</th>\n",
              "      <td>...</td>\n",
              "    </tr>\n",
              "    <tr>\n",
              "      <th>653</th>\n",
              "      <td>-2.160</td>\n",
              "    </tr>\n",
              "    <tr>\n",
              "      <th>654</th>\n",
              "      <td>-7.020</td>\n",
              "    </tr>\n",
              "    <tr>\n",
              "      <th>655</th>\n",
              "      <td>-2.420</td>\n",
              "    </tr>\n",
              "    <tr>\n",
              "      <th>656</th>\n",
              "      <td>-6.570</td>\n",
              "    </tr>\n",
              "    <tr>\n",
              "      <th>657</th>\n",
              "      <td>-5.890</td>\n",
              "    </tr>\n",
              "  </tbody>\n",
              "</table>\n",
              "<p>658 rows × 1 columns</p>\n",
              "</div><br><label><b>dtype:</b> float64</label>"
            ]
          },
          "metadata": {},
          "execution_count": 30
        }
      ]
    },
    {
      "cell_type": "markdown",
      "source": [
        "データフレームの結合（numpy.array()と同じデータで確認）"
      ],
      "metadata": {
        "id": "bwNScQkdBbgB"
      },
      "id": "bwNScQkdBbgB"
    },
    {
      "cell_type": "code",
      "execution_count": null,
      "id": "interested-brand",
      "metadata": {
        "id": "interested-brand",
        "colab": {
          "base_uri": "https://localhost:8080/",
          "height": 112
        },
        "outputId": "d44f7565-c270-4344-f3af-e250e9ebcdd6"
      },
      "outputs": [
        {
          "output_type": "execute_result",
          "data": {
            "text/plain": [
              "     0    1    2\n",
              "0  100  200  300\n",
              "0  150  250  350"
            ],
            "text/html": [
              "\n",
              "  <div id=\"df-9c60dd4f-72db-4e0f-a72a-80090dafd477\" class=\"colab-df-container\">\n",
              "    <div>\n",
              "<style scoped>\n",
              "    .dataframe tbody tr th:only-of-type {\n",
              "        vertical-align: middle;\n",
              "    }\n",
              "\n",
              "    .dataframe tbody tr th {\n",
              "        vertical-align: top;\n",
              "    }\n",
              "\n",
              "    .dataframe thead th {\n",
              "        text-align: right;\n",
              "    }\n",
              "</style>\n",
              "<table border=\"1\" class=\"dataframe\">\n",
              "  <thead>\n",
              "    <tr style=\"text-align: right;\">\n",
              "      <th></th>\n",
              "      <th>0</th>\n",
              "      <th>1</th>\n",
              "      <th>2</th>\n",
              "    </tr>\n",
              "  </thead>\n",
              "  <tbody>\n",
              "    <tr>\n",
              "      <th>0</th>\n",
              "      <td>100</td>\n",
              "      <td>200</td>\n",
              "      <td>300</td>\n",
              "    </tr>\n",
              "    <tr>\n",
              "      <th>0</th>\n",
              "      <td>150</td>\n",
              "      <td>250</td>\n",
              "      <td>350</td>\n",
              "    </tr>\n",
              "  </tbody>\n",
              "</table>\n",
              "</div>\n",
              "    <div class=\"colab-df-buttons\">\n",
              "\n",
              "  <div class=\"colab-df-container\">\n",
              "    <button class=\"colab-df-convert\" onclick=\"convertToInteractive('df-9c60dd4f-72db-4e0f-a72a-80090dafd477')\"\n",
              "            title=\"Convert this dataframe to an interactive table.\"\n",
              "            style=\"display:none;\">\n",
              "\n",
              "  <svg xmlns=\"http://www.w3.org/2000/svg\" height=\"24px\" viewBox=\"0 -960 960 960\">\n",
              "    <path d=\"M120-120v-720h720v720H120Zm60-500h600v-160H180v160Zm220 220h160v-160H400v160Zm0 220h160v-160H400v160ZM180-400h160v-160H180v160Zm440 0h160v-160H620v160ZM180-180h160v-160H180v160Zm440 0h160v-160H620v160Z\"/>\n",
              "  </svg>\n",
              "    </button>\n",
              "\n",
              "  <style>\n",
              "    .colab-df-container {\n",
              "      display:flex;\n",
              "      gap: 12px;\n",
              "    }\n",
              "\n",
              "    .colab-df-convert {\n",
              "      background-color: #E8F0FE;\n",
              "      border: none;\n",
              "      border-radius: 50%;\n",
              "      cursor: pointer;\n",
              "      display: none;\n",
              "      fill: #1967D2;\n",
              "      height: 32px;\n",
              "      padding: 0 0 0 0;\n",
              "      width: 32px;\n",
              "    }\n",
              "\n",
              "    .colab-df-convert:hover {\n",
              "      background-color: #E2EBFA;\n",
              "      box-shadow: 0px 1px 2px rgba(60, 64, 67, 0.3), 0px 1px 3px 1px rgba(60, 64, 67, 0.15);\n",
              "      fill: #174EA6;\n",
              "    }\n",
              "\n",
              "    .colab-df-buttons div {\n",
              "      margin-bottom: 4px;\n",
              "    }\n",
              "\n",
              "    [theme=dark] .colab-df-convert {\n",
              "      background-color: #3B4455;\n",
              "      fill: #D2E3FC;\n",
              "    }\n",
              "\n",
              "    [theme=dark] .colab-df-convert:hover {\n",
              "      background-color: #434B5C;\n",
              "      box-shadow: 0px 1px 3px 1px rgba(0, 0, 0, 0.15);\n",
              "      filter: drop-shadow(0px 1px 2px rgba(0, 0, 0, 0.3));\n",
              "      fill: #FFFFFF;\n",
              "    }\n",
              "  </style>\n",
              "\n",
              "    <script>\n",
              "      const buttonEl =\n",
              "        document.querySelector('#df-9c60dd4f-72db-4e0f-a72a-80090dafd477 button.colab-df-convert');\n",
              "      buttonEl.style.display =\n",
              "        google.colab.kernel.accessAllowed ? 'block' : 'none';\n",
              "\n",
              "      async function convertToInteractive(key) {\n",
              "        const element = document.querySelector('#df-9c60dd4f-72db-4e0f-a72a-80090dafd477');\n",
              "        const dataTable =\n",
              "          await google.colab.kernel.invokeFunction('convertToInteractive',\n",
              "                                                    [key], {});\n",
              "        if (!dataTable) return;\n",
              "\n",
              "        const docLinkHtml = 'Like what you see? Visit the ' +\n",
              "          '<a target=\"_blank\" href=https://colab.research.google.com/notebooks/data_table.ipynb>data table notebook</a>'\n",
              "          + ' to learn more about interactive tables.';\n",
              "        element.innerHTML = '';\n",
              "        dataTable['output_type'] = 'display_data';\n",
              "        await google.colab.output.renderOutput(dataTable, element);\n",
              "        const docLink = document.createElement('div');\n",
              "        docLink.innerHTML = docLinkHtml;\n",
              "        element.appendChild(docLink);\n",
              "      }\n",
              "    </script>\n",
              "  </div>\n",
              "\n",
              "\n",
              "<div id=\"df-1053cb26-c7c0-4547-9224-52e3ada44aeb\">\n",
              "  <button class=\"colab-df-quickchart\" onclick=\"quickchart('df-1053cb26-c7c0-4547-9224-52e3ada44aeb')\"\n",
              "            title=\"Suggest charts\"\n",
              "            style=\"display:none;\">\n",
              "\n",
              "<svg xmlns=\"http://www.w3.org/2000/svg\" height=\"24px\"viewBox=\"0 0 24 24\"\n",
              "     width=\"24px\">\n",
              "    <g>\n",
              "        <path d=\"M19 3H5c-1.1 0-2 .9-2 2v14c0 1.1.9 2 2 2h14c1.1 0 2-.9 2-2V5c0-1.1-.9-2-2-2zM9 17H7v-7h2v7zm4 0h-2V7h2v10zm4 0h-2v-4h2v4z\"/>\n",
              "    </g>\n",
              "</svg>\n",
              "  </button>\n",
              "\n",
              "<style>\n",
              "  .colab-df-quickchart {\n",
              "      --bg-color: #E8F0FE;\n",
              "      --fill-color: #1967D2;\n",
              "      --hover-bg-color: #E2EBFA;\n",
              "      --hover-fill-color: #174EA6;\n",
              "      --disabled-fill-color: #AAA;\n",
              "      --disabled-bg-color: #DDD;\n",
              "  }\n",
              "\n",
              "  [theme=dark] .colab-df-quickchart {\n",
              "      --bg-color: #3B4455;\n",
              "      --fill-color: #D2E3FC;\n",
              "      --hover-bg-color: #434B5C;\n",
              "      --hover-fill-color: #FFFFFF;\n",
              "      --disabled-bg-color: #3B4455;\n",
              "      --disabled-fill-color: #666;\n",
              "  }\n",
              "\n",
              "  .colab-df-quickchart {\n",
              "    background-color: var(--bg-color);\n",
              "    border: none;\n",
              "    border-radius: 50%;\n",
              "    cursor: pointer;\n",
              "    display: none;\n",
              "    fill: var(--fill-color);\n",
              "    height: 32px;\n",
              "    padding: 0;\n",
              "    width: 32px;\n",
              "  }\n",
              "\n",
              "  .colab-df-quickchart:hover {\n",
              "    background-color: var(--hover-bg-color);\n",
              "    box-shadow: 0 1px 2px rgba(60, 64, 67, 0.3), 0 1px 3px 1px rgba(60, 64, 67, 0.15);\n",
              "    fill: var(--button-hover-fill-color);\n",
              "  }\n",
              "\n",
              "  .colab-df-quickchart-complete:disabled,\n",
              "  .colab-df-quickchart-complete:disabled:hover {\n",
              "    background-color: var(--disabled-bg-color);\n",
              "    fill: var(--disabled-fill-color);\n",
              "    box-shadow: none;\n",
              "  }\n",
              "\n",
              "  .colab-df-spinner {\n",
              "    border: 2px solid var(--fill-color);\n",
              "    border-color: transparent;\n",
              "    border-bottom-color: var(--fill-color);\n",
              "    animation:\n",
              "      spin 1s steps(1) infinite;\n",
              "  }\n",
              "\n",
              "  @keyframes spin {\n",
              "    0% {\n",
              "      border-color: transparent;\n",
              "      border-bottom-color: var(--fill-color);\n",
              "      border-left-color: var(--fill-color);\n",
              "    }\n",
              "    20% {\n",
              "      border-color: transparent;\n",
              "      border-left-color: var(--fill-color);\n",
              "      border-top-color: var(--fill-color);\n",
              "    }\n",
              "    30% {\n",
              "      border-color: transparent;\n",
              "      border-left-color: var(--fill-color);\n",
              "      border-top-color: var(--fill-color);\n",
              "      border-right-color: var(--fill-color);\n",
              "    }\n",
              "    40% {\n",
              "      border-color: transparent;\n",
              "      border-right-color: var(--fill-color);\n",
              "      border-top-color: var(--fill-color);\n",
              "    }\n",
              "    60% {\n",
              "      border-color: transparent;\n",
              "      border-right-color: var(--fill-color);\n",
              "    }\n",
              "    80% {\n",
              "      border-color: transparent;\n",
              "      border-right-color: var(--fill-color);\n",
              "      border-bottom-color: var(--fill-color);\n",
              "    }\n",
              "    90% {\n",
              "      border-color: transparent;\n",
              "      border-bottom-color: var(--fill-color);\n",
              "    }\n",
              "  }\n",
              "</style>\n",
              "\n",
              "  <script>\n",
              "    async function quickchart(key) {\n",
              "      const quickchartButtonEl =\n",
              "        document.querySelector('#' + key + ' button');\n",
              "      quickchartButtonEl.disabled = true;  // To prevent multiple clicks.\n",
              "      quickchartButtonEl.classList.add('colab-df-spinner');\n",
              "      try {\n",
              "        const charts = await google.colab.kernel.invokeFunction(\n",
              "            'suggestCharts', [key], {});\n",
              "      } catch (error) {\n",
              "        console.error('Error during call to suggestCharts:', error);\n",
              "      }\n",
              "      quickchartButtonEl.classList.remove('colab-df-spinner');\n",
              "      quickchartButtonEl.classList.add('colab-df-quickchart-complete');\n",
              "    }\n",
              "    (() => {\n",
              "      let quickchartButtonEl =\n",
              "        document.querySelector('#df-1053cb26-c7c0-4547-9224-52e3ada44aeb button');\n",
              "      quickchartButtonEl.style.display =\n",
              "        google.colab.kernel.accessAllowed ? 'block' : 'none';\n",
              "    })();\n",
              "  </script>\n",
              "</div>\n",
              "\n",
              "    </div>\n",
              "  </div>\n"
            ],
            "application/vnd.google.colaboratory.intrinsic+json": {
              "type": "dataframe",
              "summary": "{\n  \"name\": \"pd\",\n  \"rows\": 2,\n  \"fields\": [\n    {\n      \"column\": 0,\n      \"properties\": {\n        \"dtype\": \"number\",\n        \"std\": 35,\n        \"min\": 100,\n        \"max\": 150,\n        \"num_unique_values\": 2,\n        \"samples\": [\n          150,\n          100\n        ],\n        \"semantic_type\": \"\",\n        \"description\": \"\"\n      }\n    },\n    {\n      \"column\": 1,\n      \"properties\": {\n        \"dtype\": \"number\",\n        \"std\": 35,\n        \"min\": 200,\n        \"max\": 250,\n        \"num_unique_values\": 2,\n        \"samples\": [\n          250,\n          200\n        ],\n        \"semantic_type\": \"\",\n        \"description\": \"\"\n      }\n    },\n    {\n      \"column\": 2,\n      \"properties\": {\n        \"dtype\": \"number\",\n        \"std\": 35,\n        \"min\": 300,\n        \"max\": 350,\n        \"num_unique_values\": 2,\n        \"samples\": [\n          350,\n          300\n        ],\n        \"semantic_type\": \"\",\n        \"description\": \"\"\n      }\n    }\n  ]\n}"
            }
          },
          "metadata": {},
          "execution_count": 31
        }
      ],
      "source": [
        "df1 = pd.DataFrame([[100, 200, 300]])\n",
        "df2 = pd.DataFrame([[150, 250, 350]])\n",
        "\n",
        "# 縦に結合（axis=0で結合）\n",
        "pd.concat([df1, df2], axis=0)"
      ]
    },
    {
      "cell_type": "code",
      "source": [
        "# 横に結合（axis=1で結合）\n",
        "pd.concat([df1, df2], axis=1)"
      ],
      "metadata": {
        "colab": {
          "base_uri": "https://localhost:8080/",
          "height": 81
        },
        "id": "XeEPc7wf_cVR",
        "outputId": "27ee3cac-cafe-40d9-b17d-a26c404c1068"
      },
      "id": "XeEPc7wf_cVR",
      "execution_count": null,
      "outputs": [
        {
          "output_type": "execute_result",
          "data": {
            "text/plain": [
              "     0    1    2    0    1    2\n",
              "0  100  200  300  150  250  350"
            ],
            "text/html": [
              "\n",
              "  <div id=\"df-0a302bb1-2b92-4244-b008-76178aa13ed3\" class=\"colab-df-container\">\n",
              "    <div>\n",
              "<style scoped>\n",
              "    .dataframe tbody tr th:only-of-type {\n",
              "        vertical-align: middle;\n",
              "    }\n",
              "\n",
              "    .dataframe tbody tr th {\n",
              "        vertical-align: top;\n",
              "    }\n",
              "\n",
              "    .dataframe thead th {\n",
              "        text-align: right;\n",
              "    }\n",
              "</style>\n",
              "<table border=\"1\" class=\"dataframe\">\n",
              "  <thead>\n",
              "    <tr style=\"text-align: right;\">\n",
              "      <th></th>\n",
              "      <th>0</th>\n",
              "      <th>1</th>\n",
              "      <th>2</th>\n",
              "      <th>0</th>\n",
              "      <th>1</th>\n",
              "      <th>2</th>\n",
              "    </tr>\n",
              "  </thead>\n",
              "  <tbody>\n",
              "    <tr>\n",
              "      <th>0</th>\n",
              "      <td>100</td>\n",
              "      <td>200</td>\n",
              "      <td>300</td>\n",
              "      <td>150</td>\n",
              "      <td>250</td>\n",
              "      <td>350</td>\n",
              "    </tr>\n",
              "  </tbody>\n",
              "</table>\n",
              "</div>\n",
              "    <div class=\"colab-df-buttons\">\n",
              "\n",
              "  <div class=\"colab-df-container\">\n",
              "    <button class=\"colab-df-convert\" onclick=\"convertToInteractive('df-0a302bb1-2b92-4244-b008-76178aa13ed3')\"\n",
              "            title=\"Convert this dataframe to an interactive table.\"\n",
              "            style=\"display:none;\">\n",
              "\n",
              "  <svg xmlns=\"http://www.w3.org/2000/svg\" height=\"24px\" viewBox=\"0 -960 960 960\">\n",
              "    <path d=\"M120-120v-720h720v720H120Zm60-500h600v-160H180v160Zm220 220h160v-160H400v160Zm0 220h160v-160H400v160ZM180-400h160v-160H180v160Zm440 0h160v-160H620v160ZM180-180h160v-160H180v160Zm440 0h160v-160H620v160Z\"/>\n",
              "  </svg>\n",
              "    </button>\n",
              "\n",
              "  <style>\n",
              "    .colab-df-container {\n",
              "      display:flex;\n",
              "      gap: 12px;\n",
              "    }\n",
              "\n",
              "    .colab-df-convert {\n",
              "      background-color: #E8F0FE;\n",
              "      border: none;\n",
              "      border-radius: 50%;\n",
              "      cursor: pointer;\n",
              "      display: none;\n",
              "      fill: #1967D2;\n",
              "      height: 32px;\n",
              "      padding: 0 0 0 0;\n",
              "      width: 32px;\n",
              "    }\n",
              "\n",
              "    .colab-df-convert:hover {\n",
              "      background-color: #E2EBFA;\n",
              "      box-shadow: 0px 1px 2px rgba(60, 64, 67, 0.3), 0px 1px 3px 1px rgba(60, 64, 67, 0.15);\n",
              "      fill: #174EA6;\n",
              "    }\n",
              "\n",
              "    .colab-df-buttons div {\n",
              "      margin-bottom: 4px;\n",
              "    }\n",
              "\n",
              "    [theme=dark] .colab-df-convert {\n",
              "      background-color: #3B4455;\n",
              "      fill: #D2E3FC;\n",
              "    }\n",
              "\n",
              "    [theme=dark] .colab-df-convert:hover {\n",
              "      background-color: #434B5C;\n",
              "      box-shadow: 0px 1px 3px 1px rgba(0, 0, 0, 0.15);\n",
              "      filter: drop-shadow(0px 1px 2px rgba(0, 0, 0, 0.3));\n",
              "      fill: #FFFFFF;\n",
              "    }\n",
              "  </style>\n",
              "\n",
              "    <script>\n",
              "      const buttonEl =\n",
              "        document.querySelector('#df-0a302bb1-2b92-4244-b008-76178aa13ed3 button.colab-df-convert');\n",
              "      buttonEl.style.display =\n",
              "        google.colab.kernel.accessAllowed ? 'block' : 'none';\n",
              "\n",
              "      async function convertToInteractive(key) {\n",
              "        const element = document.querySelector('#df-0a302bb1-2b92-4244-b008-76178aa13ed3');\n",
              "        const dataTable =\n",
              "          await google.colab.kernel.invokeFunction('convertToInteractive',\n",
              "                                                    [key], {});\n",
              "        if (!dataTable) return;\n",
              "\n",
              "        const docLinkHtml = 'Like what you see? Visit the ' +\n",
              "          '<a target=\"_blank\" href=https://colab.research.google.com/notebooks/data_table.ipynb>data table notebook</a>'\n",
              "          + ' to learn more about interactive tables.';\n",
              "        element.innerHTML = '';\n",
              "        dataTable['output_type'] = 'display_data';\n",
              "        await google.colab.output.renderOutput(dataTable, element);\n",
              "        const docLink = document.createElement('div');\n",
              "        docLink.innerHTML = docLinkHtml;\n",
              "        element.appendChild(docLink);\n",
              "      }\n",
              "    </script>\n",
              "  </div>\n",
              "\n",
              "\n",
              "    </div>\n",
              "  </div>\n"
            ],
            "application/vnd.google.colaboratory.intrinsic+json": {
              "type": "dataframe",
              "summary": "{\n  \"name\": \"pd\",\n  \"rows\": 1,\n  \"fields\": [\n    {\n      \"column\": 0,\n      \"properties\": {\n        \"dtype\": \"number\",\n        \"std\": null,\n        \"min\": 100,\n        \"max\": 100,\n        \"num_unique_values\": 1,\n        \"samples\": [\n          100\n        ],\n        \"semantic_type\": \"\",\n        \"description\": \"\"\n      }\n    },\n    {\n      \"column\": 1,\n      \"properties\": {\n        \"dtype\": \"number\",\n        \"std\": null,\n        \"min\": 200,\n        \"max\": 200,\n        \"num_unique_values\": 1,\n        \"samples\": [\n          200\n        ],\n        \"semantic_type\": \"\",\n        \"description\": \"\"\n      }\n    },\n    {\n      \"column\": 2,\n      \"properties\": {\n        \"dtype\": \"number\",\n        \"std\": null,\n        \"min\": 300,\n        \"max\": 300,\n        \"num_unique_values\": 1,\n        \"samples\": [\n          300\n        ],\n        \"semantic_type\": \"\",\n        \"description\": \"\"\n      }\n    },\n    {\n      \"column\": 0,\n      \"properties\": {\n        \"dtype\": \"number\",\n        \"std\": null,\n        \"min\": 150,\n        \"max\": 150,\n        \"num_unique_values\": 1,\n        \"samples\": [\n          150\n        ],\n        \"semantic_type\": \"\",\n        \"description\": \"\"\n      }\n    },\n    {\n      \"column\": 1,\n      \"properties\": {\n        \"dtype\": \"number\",\n        \"std\": null,\n        \"min\": 250,\n        \"max\": 250,\n        \"num_unique_values\": 1,\n        \"samples\": [\n          250\n        ],\n        \"semantic_type\": \"\",\n        \"description\": \"\"\n      }\n    },\n    {\n      \"column\": 2,\n      \"properties\": {\n        \"dtype\": \"number\",\n        \"std\": null,\n        \"min\": 350,\n        \"max\": 350,\n        \"num_unique_values\": 1,\n        \"samples\": [\n          350\n        ],\n        \"semantic_type\": \"\",\n        \"description\": \"\"\n      }\n    }\n  ]\n}"
            }
          },
          "metadata": {},
          "execution_count": 32
        }
      ]
    },
    {
      "cell_type": "markdown",
      "id": "rotary-hierarchy",
      "metadata": {
        "id": "rotary-hierarchy"
      },
      "source": [
        "describe関数を使った基本統計量の出力"
      ]
    },
    {
      "cell_type": "code",
      "execution_count": null,
      "id": "dental-nickname",
      "metadata": {
        "id": "dental-nickname",
        "colab": {
          "base_uri": "https://localhost:8080/",
          "height": 367
        },
        "outputId": "f4872e7f-db6f-49bc-b5c4-776f92802c35"
      },
      "outputs": [
        {
          "output_type": "execute_result",
          "data": {
            "text/plain": [
              "       TRAINING SET INDEX  LogS(mols/L)  MaxAbsEStateIndex  MaxEStateIndex  \\\n",
              "count          658.000000    658.000000         658.000000      658.000000   \n",
              "mean           329.500000     -3.406044           9.578249        9.578249   \n",
              "std            190.092521      2.133705           3.172725        3.172725   \n",
              "min              1.000000    -10.410000           2.120370        2.120370   \n",
              "25%            165.250000     -4.625250           8.394375        8.394375   \n",
              "50%            329.500000     -3.150000          10.550718       10.550718   \n",
              "75%            493.750000     -1.942500          11.862212       11.862212   \n",
              "max            658.000000      1.580000          17.262020       17.262020   \n",
              "\n",
              "       MinAbsEStateIndex  MinEStateIndex         qed         SPS       MolWt  \\\n",
              "count       6.580000e+02      658.000000  658.000000  658.000000  658.000000   \n",
              "mean        3.256019e-01       -0.696203    0.608217   16.355005  244.207695   \n",
              "std         3.478872e-01        1.376509    0.161888   11.957976   89.941580   \n",
              "min         2.220446e-16       -5.573220    0.181540    6.000000   59.068000   \n",
              "25%         7.708709e-02       -1.106538    0.488680   10.000000  170.241500   \n",
              "50%         2.011100e-01       -0.462334    0.607288   11.269697  239.294500   \n",
              "75%         4.145602e-01        0.169408    0.745902   15.920569  300.186000   \n",
              "max         1.407963e+00        1.407963    0.942938   80.952381  511.581000   \n",
              "\n",
              "       HeavyAtomMolWt  ...  fr_sulfide  fr_sulfonamd  fr_sulfone  \\\n",
              "count      658.000000  ...  658.000000    658.000000  658.000000   \n",
              "mean       231.175695  ...    0.019757      0.060790    0.007599   \n",
              "std         86.436180  ...    0.139269      0.257515    0.086905   \n",
              "min         54.028000  ...    0.000000      0.000000    0.000000   \n",
              "25%        162.080000  ...    0.000000      0.000000    0.000000   \n",
              "50%        226.125000  ...    0.000000      0.000000    0.000000   \n",
              "75%        285.944000  ...    0.000000      0.000000    0.000000   \n",
              "max        490.639000  ...    1.000000      2.000000    1.000000   \n",
              "\n",
              "       fr_term_acetylene  fr_tetrazole  fr_thiazole  fr_thiocyan  \\\n",
              "count         658.000000         658.0   658.000000        658.0   \n",
              "mean            0.009119           0.0     0.012158          0.0   \n",
              "std             0.095127           0.0     0.109675          0.0   \n",
              "min             0.000000           0.0     0.000000          0.0   \n",
              "25%             0.000000           0.0     0.000000          0.0   \n",
              "50%             0.000000           0.0     0.000000          0.0   \n",
              "75%             0.000000           0.0     0.000000          0.0   \n",
              "max             1.000000           0.0     1.000000          0.0   \n",
              "\n",
              "       fr_thiophene  fr_unbrch_alkane     fr_urea  \n",
              "count    658.000000        658.000000  658.000000  \n",
              "mean       0.004559          0.156535    0.091185  \n",
              "std        0.067420          0.995329    0.293327  \n",
              "min        0.000000          0.000000    0.000000  \n",
              "25%        0.000000          0.000000    0.000000  \n",
              "50%        0.000000          0.000000    0.000000  \n",
              "75%        0.000000          0.000000    0.000000  \n",
              "max        1.000000         12.000000    2.000000  \n",
              "\n",
              "[8 rows x 212 columns]"
            ],
            "text/html": [
              "\n",
              "  <div id=\"df-c9478130-c954-418b-a8e3-abb9fe29ec9d\" class=\"colab-df-container\">\n",
              "    <div>\n",
              "<style scoped>\n",
              "    .dataframe tbody tr th:only-of-type {\n",
              "        vertical-align: middle;\n",
              "    }\n",
              "\n",
              "    .dataframe tbody tr th {\n",
              "        vertical-align: top;\n",
              "    }\n",
              "\n",
              "    .dataframe thead th {\n",
              "        text-align: right;\n",
              "    }\n",
              "</style>\n",
              "<table border=\"1\" class=\"dataframe\">\n",
              "  <thead>\n",
              "    <tr style=\"text-align: right;\">\n",
              "      <th></th>\n",
              "      <th>TRAINING SET INDEX</th>\n",
              "      <th>LogS(mols/L)</th>\n",
              "      <th>MaxAbsEStateIndex</th>\n",
              "      <th>MaxEStateIndex</th>\n",
              "      <th>MinAbsEStateIndex</th>\n",
              "      <th>MinEStateIndex</th>\n",
              "      <th>qed</th>\n",
              "      <th>SPS</th>\n",
              "      <th>MolWt</th>\n",
              "      <th>HeavyAtomMolWt</th>\n",
              "      <th>...</th>\n",
              "      <th>fr_sulfide</th>\n",
              "      <th>fr_sulfonamd</th>\n",
              "      <th>fr_sulfone</th>\n",
              "      <th>fr_term_acetylene</th>\n",
              "      <th>fr_tetrazole</th>\n",
              "      <th>fr_thiazole</th>\n",
              "      <th>fr_thiocyan</th>\n",
              "      <th>fr_thiophene</th>\n",
              "      <th>fr_unbrch_alkane</th>\n",
              "      <th>fr_urea</th>\n",
              "    </tr>\n",
              "  </thead>\n",
              "  <tbody>\n",
              "    <tr>\n",
              "      <th>count</th>\n",
              "      <td>658.000000</td>\n",
              "      <td>658.000000</td>\n",
              "      <td>658.000000</td>\n",
              "      <td>658.000000</td>\n",
              "      <td>6.580000e+02</td>\n",
              "      <td>658.000000</td>\n",
              "      <td>658.000000</td>\n",
              "      <td>658.000000</td>\n",
              "      <td>658.000000</td>\n",
              "      <td>658.000000</td>\n",
              "      <td>...</td>\n",
              "      <td>658.000000</td>\n",
              "      <td>658.000000</td>\n",
              "      <td>658.000000</td>\n",
              "      <td>658.000000</td>\n",
              "      <td>658.0</td>\n",
              "      <td>658.000000</td>\n",
              "      <td>658.0</td>\n",
              "      <td>658.000000</td>\n",
              "      <td>658.000000</td>\n",
              "      <td>658.000000</td>\n",
              "    </tr>\n",
              "    <tr>\n",
              "      <th>mean</th>\n",
              "      <td>329.500000</td>\n",
              "      <td>-3.406044</td>\n",
              "      <td>9.578249</td>\n",
              "      <td>9.578249</td>\n",
              "      <td>3.256019e-01</td>\n",
              "      <td>-0.696203</td>\n",
              "      <td>0.608217</td>\n",
              "      <td>16.355005</td>\n",
              "      <td>244.207695</td>\n",
              "      <td>231.175695</td>\n",
              "      <td>...</td>\n",
              "      <td>0.019757</td>\n",
              "      <td>0.060790</td>\n",
              "      <td>0.007599</td>\n",
              "      <td>0.009119</td>\n",
              "      <td>0.0</td>\n",
              "      <td>0.012158</td>\n",
              "      <td>0.0</td>\n",
              "      <td>0.004559</td>\n",
              "      <td>0.156535</td>\n",
              "      <td>0.091185</td>\n",
              "    </tr>\n",
              "    <tr>\n",
              "      <th>std</th>\n",
              "      <td>190.092521</td>\n",
              "      <td>2.133705</td>\n",
              "      <td>3.172725</td>\n",
              "      <td>3.172725</td>\n",
              "      <td>3.478872e-01</td>\n",
              "      <td>1.376509</td>\n",
              "      <td>0.161888</td>\n",
              "      <td>11.957976</td>\n",
              "      <td>89.941580</td>\n",
              "      <td>86.436180</td>\n",
              "      <td>...</td>\n",
              "      <td>0.139269</td>\n",
              "      <td>0.257515</td>\n",
              "      <td>0.086905</td>\n",
              "      <td>0.095127</td>\n",
              "      <td>0.0</td>\n",
              "      <td>0.109675</td>\n",
              "      <td>0.0</td>\n",
              "      <td>0.067420</td>\n",
              "      <td>0.995329</td>\n",
              "      <td>0.293327</td>\n",
              "    </tr>\n",
              "    <tr>\n",
              "      <th>min</th>\n",
              "      <td>1.000000</td>\n",
              "      <td>-10.410000</td>\n",
              "      <td>2.120370</td>\n",
              "      <td>2.120370</td>\n",
              "      <td>2.220446e-16</td>\n",
              "      <td>-5.573220</td>\n",
              "      <td>0.181540</td>\n",
              "      <td>6.000000</td>\n",
              "      <td>59.068000</td>\n",
              "      <td>54.028000</td>\n",
              "      <td>...</td>\n",
              "      <td>0.000000</td>\n",
              "      <td>0.000000</td>\n",
              "      <td>0.000000</td>\n",
              "      <td>0.000000</td>\n",
              "      <td>0.0</td>\n",
              "      <td>0.000000</td>\n",
              "      <td>0.0</td>\n",
              "      <td>0.000000</td>\n",
              "      <td>0.000000</td>\n",
              "      <td>0.000000</td>\n",
              "    </tr>\n",
              "    <tr>\n",
              "      <th>25%</th>\n",
              "      <td>165.250000</td>\n",
              "      <td>-4.625250</td>\n",
              "      <td>8.394375</td>\n",
              "      <td>8.394375</td>\n",
              "      <td>7.708709e-02</td>\n",
              "      <td>-1.106538</td>\n",
              "      <td>0.488680</td>\n",
              "      <td>10.000000</td>\n",
              "      <td>170.241500</td>\n",
              "      <td>162.080000</td>\n",
              "      <td>...</td>\n",
              "      <td>0.000000</td>\n",
              "      <td>0.000000</td>\n",
              "      <td>0.000000</td>\n",
              "      <td>0.000000</td>\n",
              "      <td>0.0</td>\n",
              "      <td>0.000000</td>\n",
              "      <td>0.0</td>\n",
              "      <td>0.000000</td>\n",
              "      <td>0.000000</td>\n",
              "      <td>0.000000</td>\n",
              "    </tr>\n",
              "    <tr>\n",
              "      <th>50%</th>\n",
              "      <td>329.500000</td>\n",
              "      <td>-3.150000</td>\n",
              "      <td>10.550718</td>\n",
              "      <td>10.550718</td>\n",
              "      <td>2.011100e-01</td>\n",
              "      <td>-0.462334</td>\n",
              "      <td>0.607288</td>\n",
              "      <td>11.269697</td>\n",
              "      <td>239.294500</td>\n",
              "      <td>226.125000</td>\n",
              "      <td>...</td>\n",
              "      <td>0.000000</td>\n",
              "      <td>0.000000</td>\n",
              "      <td>0.000000</td>\n",
              "      <td>0.000000</td>\n",
              "      <td>0.0</td>\n",
              "      <td>0.000000</td>\n",
              "      <td>0.0</td>\n",
              "      <td>0.000000</td>\n",
              "      <td>0.000000</td>\n",
              "      <td>0.000000</td>\n",
              "    </tr>\n",
              "    <tr>\n",
              "      <th>75%</th>\n",
              "      <td>493.750000</td>\n",
              "      <td>-1.942500</td>\n",
              "      <td>11.862212</td>\n",
              "      <td>11.862212</td>\n",
              "      <td>4.145602e-01</td>\n",
              "      <td>0.169408</td>\n",
              "      <td>0.745902</td>\n",
              "      <td>15.920569</td>\n",
              "      <td>300.186000</td>\n",
              "      <td>285.944000</td>\n",
              "      <td>...</td>\n",
              "      <td>0.000000</td>\n",
              "      <td>0.000000</td>\n",
              "      <td>0.000000</td>\n",
              "      <td>0.000000</td>\n",
              "      <td>0.0</td>\n",
              "      <td>0.000000</td>\n",
              "      <td>0.0</td>\n",
              "      <td>0.000000</td>\n",
              "      <td>0.000000</td>\n",
              "      <td>0.000000</td>\n",
              "    </tr>\n",
              "    <tr>\n",
              "      <th>max</th>\n",
              "      <td>658.000000</td>\n",
              "      <td>1.580000</td>\n",
              "      <td>17.262020</td>\n",
              "      <td>17.262020</td>\n",
              "      <td>1.407963e+00</td>\n",
              "      <td>1.407963</td>\n",
              "      <td>0.942938</td>\n",
              "      <td>80.952381</td>\n",
              "      <td>511.581000</td>\n",
              "      <td>490.639000</td>\n",
              "      <td>...</td>\n",
              "      <td>1.000000</td>\n",
              "      <td>2.000000</td>\n",
              "      <td>1.000000</td>\n",
              "      <td>1.000000</td>\n",
              "      <td>0.0</td>\n",
              "      <td>1.000000</td>\n",
              "      <td>0.0</td>\n",
              "      <td>1.000000</td>\n",
              "      <td>12.000000</td>\n",
              "      <td>2.000000</td>\n",
              "    </tr>\n",
              "  </tbody>\n",
              "</table>\n",
              "<p>8 rows × 212 columns</p>\n",
              "</div>\n",
              "    <div class=\"colab-df-buttons\">\n",
              "\n",
              "  <div class=\"colab-df-container\">\n",
              "    <button class=\"colab-df-convert\" onclick=\"convertToInteractive('df-c9478130-c954-418b-a8e3-abb9fe29ec9d')\"\n",
              "            title=\"Convert this dataframe to an interactive table.\"\n",
              "            style=\"display:none;\">\n",
              "\n",
              "  <svg xmlns=\"http://www.w3.org/2000/svg\" height=\"24px\" viewBox=\"0 -960 960 960\">\n",
              "    <path d=\"M120-120v-720h720v720H120Zm60-500h600v-160H180v160Zm220 220h160v-160H400v160Zm0 220h160v-160H400v160ZM180-400h160v-160H180v160Zm440 0h160v-160H620v160ZM180-180h160v-160H180v160Zm440 0h160v-160H620v160Z\"/>\n",
              "  </svg>\n",
              "    </button>\n",
              "\n",
              "  <style>\n",
              "    .colab-df-container {\n",
              "      display:flex;\n",
              "      gap: 12px;\n",
              "    }\n",
              "\n",
              "    .colab-df-convert {\n",
              "      background-color: #E8F0FE;\n",
              "      border: none;\n",
              "      border-radius: 50%;\n",
              "      cursor: pointer;\n",
              "      display: none;\n",
              "      fill: #1967D2;\n",
              "      height: 32px;\n",
              "      padding: 0 0 0 0;\n",
              "      width: 32px;\n",
              "    }\n",
              "\n",
              "    .colab-df-convert:hover {\n",
              "      background-color: #E2EBFA;\n",
              "      box-shadow: 0px 1px 2px rgba(60, 64, 67, 0.3), 0px 1px 3px 1px rgba(60, 64, 67, 0.15);\n",
              "      fill: #174EA6;\n",
              "    }\n",
              "\n",
              "    .colab-df-buttons div {\n",
              "      margin-bottom: 4px;\n",
              "    }\n",
              "\n",
              "    [theme=dark] .colab-df-convert {\n",
              "      background-color: #3B4455;\n",
              "      fill: #D2E3FC;\n",
              "    }\n",
              "\n",
              "    [theme=dark] .colab-df-convert:hover {\n",
              "      background-color: #434B5C;\n",
              "      box-shadow: 0px 1px 3px 1px rgba(0, 0, 0, 0.15);\n",
              "      filter: drop-shadow(0px 1px 2px rgba(0, 0, 0, 0.3));\n",
              "      fill: #FFFFFF;\n",
              "    }\n",
              "  </style>\n",
              "\n",
              "    <script>\n",
              "      const buttonEl =\n",
              "        document.querySelector('#df-c9478130-c954-418b-a8e3-abb9fe29ec9d button.colab-df-convert');\n",
              "      buttonEl.style.display =\n",
              "        google.colab.kernel.accessAllowed ? 'block' : 'none';\n",
              "\n",
              "      async function convertToInteractive(key) {\n",
              "        const element = document.querySelector('#df-c9478130-c954-418b-a8e3-abb9fe29ec9d');\n",
              "        const dataTable =\n",
              "          await google.colab.kernel.invokeFunction('convertToInteractive',\n",
              "                                                    [key], {});\n",
              "        if (!dataTable) return;\n",
              "\n",
              "        const docLinkHtml = 'Like what you see? Visit the ' +\n",
              "          '<a target=\"_blank\" href=https://colab.research.google.com/notebooks/data_table.ipynb>data table notebook</a>'\n",
              "          + ' to learn more about interactive tables.';\n",
              "        element.innerHTML = '';\n",
              "        dataTable['output_type'] = 'display_data';\n",
              "        await google.colab.output.renderOutput(dataTable, element);\n",
              "        const docLink = document.createElement('div');\n",
              "        docLink.innerHTML = docLinkHtml;\n",
              "        element.appendChild(docLink);\n",
              "      }\n",
              "    </script>\n",
              "  </div>\n",
              "\n",
              "\n",
              "<div id=\"df-b50fc660-e471-48b0-a648-f2ba27f06e41\">\n",
              "  <button class=\"colab-df-quickchart\" onclick=\"quickchart('df-b50fc660-e471-48b0-a648-f2ba27f06e41')\"\n",
              "            title=\"Suggest charts\"\n",
              "            style=\"display:none;\">\n",
              "\n",
              "<svg xmlns=\"http://www.w3.org/2000/svg\" height=\"24px\"viewBox=\"0 0 24 24\"\n",
              "     width=\"24px\">\n",
              "    <g>\n",
              "        <path d=\"M19 3H5c-1.1 0-2 .9-2 2v14c0 1.1.9 2 2 2h14c1.1 0 2-.9 2-2V5c0-1.1-.9-2-2-2zM9 17H7v-7h2v7zm4 0h-2V7h2v10zm4 0h-2v-4h2v4z\"/>\n",
              "    </g>\n",
              "</svg>\n",
              "  </button>\n",
              "\n",
              "<style>\n",
              "  .colab-df-quickchart {\n",
              "      --bg-color: #E8F0FE;\n",
              "      --fill-color: #1967D2;\n",
              "      --hover-bg-color: #E2EBFA;\n",
              "      --hover-fill-color: #174EA6;\n",
              "      --disabled-fill-color: #AAA;\n",
              "      --disabled-bg-color: #DDD;\n",
              "  }\n",
              "\n",
              "  [theme=dark] .colab-df-quickchart {\n",
              "      --bg-color: #3B4455;\n",
              "      --fill-color: #D2E3FC;\n",
              "      --hover-bg-color: #434B5C;\n",
              "      --hover-fill-color: #FFFFFF;\n",
              "      --disabled-bg-color: #3B4455;\n",
              "      --disabled-fill-color: #666;\n",
              "  }\n",
              "\n",
              "  .colab-df-quickchart {\n",
              "    background-color: var(--bg-color);\n",
              "    border: none;\n",
              "    border-radius: 50%;\n",
              "    cursor: pointer;\n",
              "    display: none;\n",
              "    fill: var(--fill-color);\n",
              "    height: 32px;\n",
              "    padding: 0;\n",
              "    width: 32px;\n",
              "  }\n",
              "\n",
              "  .colab-df-quickchart:hover {\n",
              "    background-color: var(--hover-bg-color);\n",
              "    box-shadow: 0 1px 2px rgba(60, 64, 67, 0.3), 0 1px 3px 1px rgba(60, 64, 67, 0.15);\n",
              "    fill: var(--button-hover-fill-color);\n",
              "  }\n",
              "\n",
              "  .colab-df-quickchart-complete:disabled,\n",
              "  .colab-df-quickchart-complete:disabled:hover {\n",
              "    background-color: var(--disabled-bg-color);\n",
              "    fill: var(--disabled-fill-color);\n",
              "    box-shadow: none;\n",
              "  }\n",
              "\n",
              "  .colab-df-spinner {\n",
              "    border: 2px solid var(--fill-color);\n",
              "    border-color: transparent;\n",
              "    border-bottom-color: var(--fill-color);\n",
              "    animation:\n",
              "      spin 1s steps(1) infinite;\n",
              "  }\n",
              "\n",
              "  @keyframes spin {\n",
              "    0% {\n",
              "      border-color: transparent;\n",
              "      border-bottom-color: var(--fill-color);\n",
              "      border-left-color: var(--fill-color);\n",
              "    }\n",
              "    20% {\n",
              "      border-color: transparent;\n",
              "      border-left-color: var(--fill-color);\n",
              "      border-top-color: var(--fill-color);\n",
              "    }\n",
              "    30% {\n",
              "      border-color: transparent;\n",
              "      border-left-color: var(--fill-color);\n",
              "      border-top-color: var(--fill-color);\n",
              "      border-right-color: var(--fill-color);\n",
              "    }\n",
              "    40% {\n",
              "      border-color: transparent;\n",
              "      border-right-color: var(--fill-color);\n",
              "      border-top-color: var(--fill-color);\n",
              "    }\n",
              "    60% {\n",
              "      border-color: transparent;\n",
              "      border-right-color: var(--fill-color);\n",
              "    }\n",
              "    80% {\n",
              "      border-color: transparent;\n",
              "      border-right-color: var(--fill-color);\n",
              "      border-bottom-color: var(--fill-color);\n",
              "    }\n",
              "    90% {\n",
              "      border-color: transparent;\n",
              "      border-bottom-color: var(--fill-color);\n",
              "    }\n",
              "  }\n",
              "</style>\n",
              "\n",
              "  <script>\n",
              "    async function quickchart(key) {\n",
              "      const quickchartButtonEl =\n",
              "        document.querySelector('#' + key + ' button');\n",
              "      quickchartButtonEl.disabled = true;  // To prevent multiple clicks.\n",
              "      quickchartButtonEl.classList.add('colab-df-spinner');\n",
              "      try {\n",
              "        const charts = await google.colab.kernel.invokeFunction(\n",
              "            'suggestCharts', [key], {});\n",
              "      } catch (error) {\n",
              "        console.error('Error during call to suggestCharts:', error);\n",
              "      }\n",
              "      quickchartButtonEl.classList.remove('colab-df-spinner');\n",
              "      quickchartButtonEl.classList.add('colab-df-quickchart-complete');\n",
              "    }\n",
              "    (() => {\n",
              "      let quickchartButtonEl =\n",
              "        document.querySelector('#df-b50fc660-e471-48b0-a648-f2ba27f06e41 button');\n",
              "      quickchartButtonEl.style.display =\n",
              "        google.colab.kernel.accessAllowed ? 'block' : 'none';\n",
              "    })();\n",
              "  </script>\n",
              "</div>\n",
              "\n",
              "    </div>\n",
              "  </div>\n"
            ],
            "application/vnd.google.colaboratory.intrinsic+json": {
              "type": "dataframe"
            }
          },
          "metadata": {},
          "execution_count": 33
        }
      ],
      "source": [
        "# describeを使った基本統計量の計算\n",
        "df.describe()"
      ]
    },
    {
      "cell_type": "markdown",
      "id": "464b3d5d",
      "metadata": {
        "id": "464b3d5d"
      },
      "source": [
        "出力された基本統計量の内容↓\n",
        "\n",
        "|  |  |\n",
        "|:-|:-|\n",
        "|count|データの数|\n",
        "|mean|平均値|\n",
        "|std|標準偏差|\n",
        "|min|最小値|\n",
        "|25%|第一四分位点（データを昇順に並び替えて小さいものから25\\%のところにある値）|\n",
        "|50%|中央値（第二四分位点）|\n",
        "|75%|第三四分位点（データを昇順に並び替えて小さいものから75\\%のところにある値）|\n",
        "|max|最大値|"
      ]
    },
    {
      "cell_type": "code",
      "execution_count": null,
      "id": "corporate-investor",
      "metadata": {
        "id": "corporate-investor",
        "colab": {
          "base_uri": "https://localhost:8080/",
          "height": 81
        },
        "outputId": "0664349e-c15b-4496-d81a-669f2ca1d252"
      },
      "outputs": [
        {
          "output_type": "execute_result",
          "data": {
            "text/plain": [
              "     0    1    2\n",
              "0  150  250  350"
            ],
            "text/html": [
              "\n",
              "  <div id=\"df-171e7383-6998-4556-88a8-1dfb621001b6\" class=\"colab-df-container\">\n",
              "    <div>\n",
              "<style scoped>\n",
              "    .dataframe tbody tr th:only-of-type {\n",
              "        vertical-align: middle;\n",
              "    }\n",
              "\n",
              "    .dataframe tbody tr th {\n",
              "        vertical-align: top;\n",
              "    }\n",
              "\n",
              "    .dataframe thead th {\n",
              "        text-align: right;\n",
              "    }\n",
              "</style>\n",
              "<table border=\"1\" class=\"dataframe\">\n",
              "  <thead>\n",
              "    <tr style=\"text-align: right;\">\n",
              "      <th></th>\n",
              "      <th>0</th>\n",
              "      <th>1</th>\n",
              "      <th>2</th>\n",
              "    </tr>\n",
              "  </thead>\n",
              "  <tbody>\n",
              "    <tr>\n",
              "      <th>0</th>\n",
              "      <td>150</td>\n",
              "      <td>250</td>\n",
              "      <td>350</td>\n",
              "    </tr>\n",
              "  </tbody>\n",
              "</table>\n",
              "</div>\n",
              "    <div class=\"colab-df-buttons\">\n",
              "\n",
              "  <div class=\"colab-df-container\">\n",
              "    <button class=\"colab-df-convert\" onclick=\"convertToInteractive('df-171e7383-6998-4556-88a8-1dfb621001b6')\"\n",
              "            title=\"Convert this dataframe to an interactive table.\"\n",
              "            style=\"display:none;\">\n",
              "\n",
              "  <svg xmlns=\"http://www.w3.org/2000/svg\" height=\"24px\" viewBox=\"0 -960 960 960\">\n",
              "    <path d=\"M120-120v-720h720v720H120Zm60-500h600v-160H180v160Zm220 220h160v-160H400v160Zm0 220h160v-160H400v160ZM180-400h160v-160H180v160Zm440 0h160v-160H620v160ZM180-180h160v-160H180v160Zm440 0h160v-160H620v160Z\"/>\n",
              "  </svg>\n",
              "    </button>\n",
              "\n",
              "  <style>\n",
              "    .colab-df-container {\n",
              "      display:flex;\n",
              "      gap: 12px;\n",
              "    }\n",
              "\n",
              "    .colab-df-convert {\n",
              "      background-color: #E8F0FE;\n",
              "      border: none;\n",
              "      border-radius: 50%;\n",
              "      cursor: pointer;\n",
              "      display: none;\n",
              "      fill: #1967D2;\n",
              "      height: 32px;\n",
              "      padding: 0 0 0 0;\n",
              "      width: 32px;\n",
              "    }\n",
              "\n",
              "    .colab-df-convert:hover {\n",
              "      background-color: #E2EBFA;\n",
              "      box-shadow: 0px 1px 2px rgba(60, 64, 67, 0.3), 0px 1px 3px 1px rgba(60, 64, 67, 0.15);\n",
              "      fill: #174EA6;\n",
              "    }\n",
              "\n",
              "    .colab-df-buttons div {\n",
              "      margin-bottom: 4px;\n",
              "    }\n",
              "\n",
              "    [theme=dark] .colab-df-convert {\n",
              "      background-color: #3B4455;\n",
              "      fill: #D2E3FC;\n",
              "    }\n",
              "\n",
              "    [theme=dark] .colab-df-convert:hover {\n",
              "      background-color: #434B5C;\n",
              "      box-shadow: 0px 1px 3px 1px rgba(0, 0, 0, 0.15);\n",
              "      filter: drop-shadow(0px 1px 2px rgba(0, 0, 0, 0.3));\n",
              "      fill: #FFFFFF;\n",
              "    }\n",
              "  </style>\n",
              "\n",
              "    <script>\n",
              "      const buttonEl =\n",
              "        document.querySelector('#df-171e7383-6998-4556-88a8-1dfb621001b6 button.colab-df-convert');\n",
              "      buttonEl.style.display =\n",
              "        google.colab.kernel.accessAllowed ? 'block' : 'none';\n",
              "\n",
              "      async function convertToInteractive(key) {\n",
              "        const element = document.querySelector('#df-171e7383-6998-4556-88a8-1dfb621001b6');\n",
              "        const dataTable =\n",
              "          await google.colab.kernel.invokeFunction('convertToInteractive',\n",
              "                                                    [key], {});\n",
              "        if (!dataTable) return;\n",
              "\n",
              "        const docLinkHtml = 'Like what you see? Visit the ' +\n",
              "          '<a target=\"_blank\" href=https://colab.research.google.com/notebooks/data_table.ipynb>data table notebook</a>'\n",
              "          + ' to learn more about interactive tables.';\n",
              "        element.innerHTML = '';\n",
              "        dataTable['output_type'] = 'display_data';\n",
              "        await google.colab.output.renderOutput(dataTable, element);\n",
              "        const docLink = document.createElement('div');\n",
              "        docLink.innerHTML = docLinkHtml;\n",
              "        element.appendChild(docLink);\n",
              "      }\n",
              "    </script>\n",
              "  </div>\n",
              "\n",
              "\n",
              "    </div>\n",
              "  </div>\n"
            ],
            "application/vnd.google.colaboratory.intrinsic+json": {
              "type": "dataframe",
              "summary": "{\n  \"name\": \"pd\",\n  \"rows\": 1,\n  \"fields\": [\n    {\n      \"column\": 0,\n      \"properties\": {\n        \"dtype\": \"number\",\n        \"std\": null,\n        \"min\": 150,\n        \"max\": 150,\n        \"num_unique_values\": 1,\n        \"samples\": [\n          150\n        ],\n        \"semantic_type\": \"\",\n        \"description\": \"\"\n      }\n    },\n    {\n      \"column\": 1,\n      \"properties\": {\n        \"dtype\": \"number\",\n        \"std\": null,\n        \"min\": 250,\n        \"max\": 250,\n        \"num_unique_values\": 1,\n        \"samples\": [\n          250\n        ],\n        \"semantic_type\": \"\",\n        \"description\": \"\"\n      }\n    },\n    {\n      \"column\": 2,\n      \"properties\": {\n        \"dtype\": \"number\",\n        \"std\": null,\n        \"min\": 350,\n        \"max\": 350,\n        \"num_unique_values\": 1,\n        \"samples\": [\n          350\n        ],\n        \"semantic_type\": \"\",\n        \"description\": \"\"\n      }\n    }\n  ]\n}"
            }
          },
          "metadata": {},
          "execution_count": 34
        }
      ],
      "source": [
        "# dataframeをndarrayに変換する\n",
        "df.values\n",
        "\n",
        "# ndarrayをdataframeに変換する\n",
        "pd.DataFrame(array2)"
      ]
    },
    {
      "cell_type": "code",
      "execution_count": null,
      "id": "productive-track",
      "metadata": {
        "id": "productive-track",
        "colab": {
          "base_uri": "https://localhost:8080/"
        },
        "outputId": "7aea9d0c-46b2-4db9-a97b-7290a660a0eb"
      },
      "outputs": [
        {
          "output_type": "stream",
          "name": "stdout",
          "text": [
            "<class 'pandas.core.frame.DataFrame'>\n",
            "<class 'pandas.core.frame.DataFrame'>\n"
          ]
        }
      ],
      "source": [
        "df1 = pd.DataFrame(list1)\n",
        "df2 = pd.DataFrame([[10, 5], [15, 7.0]])\n",
        "\n",
        "# データの構造を確認\n",
        "print(type(df1))\n",
        "print(type(df2))"
      ]
    },
    {
      "cell_type": "markdown",
      "source": [
        "### 1. 2. 4. (4) PyTorch"
      ],
      "metadata": {
        "id": "FOArYdaFpLvX"
      },
      "id": "FOArYdaFpLvX"
    },
    {
      "cell_type": "code",
      "source": [
        "import torch\n",
        "\n",
        "tensor1 = torch.tensor([[2, 4], [5, 8]])\n",
        "tensor1"
      ],
      "metadata": {
        "id": "Zemz10w0pMHV",
        "colab": {
          "base_uri": "https://localhost:8080/"
        },
        "outputId": "ebbdd487-4018-4039-f8c4-2ffe306784e9"
      },
      "id": "Zemz10w0pMHV",
      "execution_count": null,
      "outputs": [
        {
          "output_type": "execute_result",
          "data": {
            "text/plain": [
              "tensor([[2, 4],\n",
              "        [5, 8]])"
            ]
          },
          "metadata": {},
          "execution_count": 36
        }
      ]
    },
    {
      "cell_type": "code",
      "source": [
        "tensor1.size()"
      ],
      "metadata": {
        "colab": {
          "base_uri": "https://localhost:8080/"
        },
        "id": "SG9ibLT-FFNt",
        "outputId": "5b6f8c14-c09b-4542-f0be-a455b0cc086c"
      },
      "id": "SG9ibLT-FFNt",
      "execution_count": null,
      "outputs": [
        {
          "output_type": "execute_result",
          "data": {
            "text/plain": [
              "torch.Size([2, 2])"
            ]
          },
          "metadata": {},
          "execution_count": 37
        }
      ]
    },
    {
      "cell_type": "code",
      "source": [
        "tensor1[0, 0]"
      ],
      "metadata": {
        "colab": {
          "base_uri": "https://localhost:8080/"
        },
        "id": "fiMTJ5JuGcRh",
        "outputId": "317c9403-b3b7-4fa9-845f-e30788ae77c1"
      },
      "id": "fiMTJ5JuGcRh",
      "execution_count": null,
      "outputs": [
        {
          "output_type": "execute_result",
          "data": {
            "text/plain": [
              "tensor(2)"
            ]
          },
          "metadata": {},
          "execution_count": 38
        }
      ]
    },
    {
      "cell_type": "code",
      "source": [
        "tensor1[:, 1]"
      ],
      "metadata": {
        "colab": {
          "base_uri": "https://localhost:8080/"
        },
        "id": "P3tCYTo2GcPP",
        "outputId": "5f9f084d-b203-471d-e5f9-7790309937b3"
      },
      "id": "P3tCYTo2GcPP",
      "execution_count": null,
      "outputs": [
        {
          "output_type": "execute_result",
          "data": {
            "text/plain": [
              "tensor([4, 8])"
            ]
          },
          "metadata": {},
          "execution_count": 39
        }
      ]
    },
    {
      "cell_type": "code",
      "source": [
        "torch.zeros(3)"
      ],
      "metadata": {
        "colab": {
          "base_uri": "https://localhost:8080/"
        },
        "id": "MoBSxwTdGcM5",
        "outputId": "854f33f2-fe45-44c4-c0a7-db66f9789f0d"
      },
      "id": "MoBSxwTdGcM5",
      "execution_count": null,
      "outputs": [
        {
          "output_type": "execute_result",
          "data": {
            "text/plain": [
              "tensor([0., 0., 0.])"
            ]
          },
          "metadata": {},
          "execution_count": 40
        }
      ]
    },
    {
      "cell_type": "code",
      "source": [
        "torch.zeros([4, 3])"
      ],
      "metadata": {
        "colab": {
          "base_uri": "https://localhost:8080/"
        },
        "id": "mTfC-0UTGcKj",
        "outputId": "b23a0da0-60b8-4096-a559-97edb7a15c10"
      },
      "id": "mTfC-0UTGcKj",
      "execution_count": null,
      "outputs": [
        {
          "output_type": "execute_result",
          "data": {
            "text/plain": [
              "tensor([[0., 0., 0.],\n",
              "        [0., 0., 0.],\n",
              "        [0., 0., 0.],\n",
              "        [0., 0., 0.]])"
            ]
          },
          "metadata": {},
          "execution_count": 41
        }
      ]
    },
    {
      "cell_type": "code",
      "source": [
        "torch.ones([4, 3])"
      ],
      "metadata": {
        "colab": {
          "base_uri": "https://localhost:8080/"
        },
        "id": "YVi6qE4sGcH4",
        "outputId": "b2f82063-3784-4de7-fc66-b60a950ab9ec"
      },
      "id": "YVi6qE4sGcH4",
      "execution_count": null,
      "outputs": [
        {
          "output_type": "execute_result",
          "data": {
            "text/plain": [
              "tensor([[1., 1., 1.],\n",
              "        [1., 1., 1.],\n",
              "        [1., 1., 1.],\n",
              "        [1., 1., 1.]])"
            ]
          },
          "metadata": {},
          "execution_count": 42
        }
      ]
    },
    {
      "cell_type": "markdown",
      "source": [
        "tensorの配列の並びを変える"
      ],
      "metadata": {
        "id": "x_QiPQn1Pyf9"
      },
      "id": "x_QiPQn1Pyf9"
    },
    {
      "cell_type": "code",
      "source": [
        "torch.ones([4, 3]).permute(1, 0)"
      ],
      "metadata": {
        "colab": {
          "base_uri": "https://localhost:8080/"
        },
        "id": "kTb7yN8YOsun",
        "outputId": "11acb55b-ddd7-4365-8661-75609044b550"
      },
      "id": "kTb7yN8YOsun",
      "execution_count": null,
      "outputs": [
        {
          "output_type": "execute_result",
          "data": {
            "text/plain": [
              "tensor([[1., 1., 1., 1.],\n",
              "        [1., 1., 1., 1.],\n",
              "        [1., 1., 1., 1.]])"
            ]
          },
          "metadata": {},
          "execution_count": 43
        }
      ]
    },
    {
      "cell_type": "code",
      "source": [
        "torch.ones([4, 3]).view(3, 4)"
      ],
      "metadata": {
        "colab": {
          "base_uri": "https://localhost:8080/"
        },
        "id": "SkcfYl-ZyP3G",
        "outputId": "1a695817-6427-441b-f5e9-30da2101646f"
      },
      "id": "SkcfYl-ZyP3G",
      "execution_count": null,
      "outputs": [
        {
          "output_type": "execute_result",
          "data": {
            "text/plain": [
              "tensor([[1., 1., 1., 1.],\n",
              "        [1., 1., 1., 1.],\n",
              "        [1., 1., 1., 1.]])"
            ]
          },
          "metadata": {},
          "execution_count": 44
        }
      ]
    },
    {
      "cell_type": "code",
      "source": [
        "torch.ones([4, 3]).view(-1)"
      ],
      "metadata": {
        "colab": {
          "base_uri": "https://localhost:8080/"
        },
        "id": "fCGGo1q0PQ-q",
        "outputId": "fedd0301-002b-46ba-88f8-dd877f12bc41"
      },
      "id": "fCGGo1q0PQ-q",
      "execution_count": null,
      "outputs": [
        {
          "output_type": "execute_result",
          "data": {
            "text/plain": [
              "tensor([1., 1., 1., 1., 1., 1., 1., 1., 1., 1., 1., 1.])"
            ]
          },
          "metadata": {},
          "execution_count": 45
        }
      ]
    },
    {
      "cell_type": "markdown",
      "source": [
        "torch.tensorとnumpy.array()、pandas.DataFrame()の変換"
      ],
      "metadata": {
        "id": "KvpU_drYL4Rh"
      },
      "id": "KvpU_drYL4Rh"
    },
    {
      "cell_type": "code",
      "source": [
        "# array -> tensor\n",
        "print(type(array1))\n",
        "print(type(torch.tensor(array1)))"
      ],
      "metadata": {
        "colab": {
          "base_uri": "https://localhost:8080/"
        },
        "id": "eHfZpJ2oGcFh",
        "outputId": "61ff0cd4-0c59-44ea-cde7-f533584aa693"
      },
      "id": "eHfZpJ2oGcFh",
      "execution_count": null,
      "outputs": [
        {
          "output_type": "stream",
          "name": "stdout",
          "text": [
            "<class 'numpy.ndarray'>\n",
            "<class 'torch.Tensor'>\n"
          ]
        }
      ]
    },
    {
      "cell_type": "code",
      "source": [
        "# dataframe -> tensor\n",
        "print(type(df1))\n",
        "print(type(torch.tensor(df1.values)))"
      ],
      "metadata": {
        "colab": {
          "base_uri": "https://localhost:8080/"
        },
        "id": "KpIHjtBQMj2E",
        "outputId": "7793a82d-40ba-4c66-f0c7-a7935203e2b1"
      },
      "id": "KpIHjtBQMj2E",
      "execution_count": null,
      "outputs": [
        {
          "output_type": "stream",
          "name": "stdout",
          "text": [
            "<class 'pandas.core.frame.DataFrame'>\n",
            "<class 'torch.Tensor'>\n"
          ]
        }
      ]
    },
    {
      "cell_type": "code",
      "source": [
        "# tensor -> ndarray\n",
        "print(type(tensor1))\n",
        "print(type(tensor1.numpy()))"
      ],
      "metadata": {
        "colab": {
          "base_uri": "https://localhost:8080/"
        },
        "id": "gEZHHSYRL_K8",
        "outputId": "5ce06099-22dd-4923-8522-df1fdb68044c"
      },
      "id": "gEZHHSYRL_K8",
      "execution_count": null,
      "outputs": [
        {
          "output_type": "stream",
          "name": "stdout",
          "text": [
            "<class 'torch.Tensor'>\n",
            "<class 'numpy.ndarray'>\n"
          ]
        }
      ]
    },
    {
      "cell_type": "markdown",
      "source": [
        "```\n",
        "GPTを活用する場合\n",
        "\n",
        "GPTを使う場合は、ノートブックのタブ「ランタイム」より、「ランタイムのタイプを変更」をクリックし、ハードウェア アクセラレータを「T4 GPU」に変更します。\n",
        "```"
      ],
      "metadata": {
        "id": "WQ1SSOmhN2f3"
      },
      "id": "WQ1SSOmhN2f3"
    },
    {
      "cell_type": "code",
      "source": [
        "tensor2 = torch.tensor([[2, 4], [5, 8]], device=\"cuda:0\")\n",
        "tensor2"
      ],
      "metadata": {
        "colab": {
          "base_uri": "https://localhost:8080/"
        },
        "id": "SuSMMNhoL_Il",
        "outputId": "772ca931-f1be-4a51-a21b-a47e5bf4eb3b"
      },
      "id": "SuSMMNhoL_Il",
      "execution_count": null,
      "outputs": [
        {
          "output_type": "execute_result",
          "data": {
            "text/plain": [
              "tensor([[2, 4],\n",
              "        [5, 8]], device='cuda:0')"
            ]
          },
          "metadata": {},
          "execution_count": 49
        }
      ]
    },
    {
      "cell_type": "code",
      "source": [
        "torch.zeros([4, 3]).to(\"cuda:0\")"
      ],
      "metadata": {
        "colab": {
          "base_uri": "https://localhost:8080/"
        },
        "id": "APUNr0KtOYwB",
        "outputId": "ed972360-6a53-4355-ffeb-971cda42da68"
      },
      "id": "APUNr0KtOYwB",
      "execution_count": null,
      "outputs": [
        {
          "output_type": "execute_result",
          "data": {
            "text/plain": [
              "tensor([[0., 0., 0.],\n",
              "        [0., 0., 0.],\n",
              "        [0., 0., 0.],\n",
              "        [0., 0., 0.]], device='cuda:0')"
            ]
          },
          "metadata": {},
          "execution_count": 50
        }
      ]
    },
    {
      "cell_type": "code",
      "source": [
        "tensor2.numpy()"
      ],
      "metadata": {
        "colab": {
          "base_uri": "https://localhost:8080/",
          "height": 141
        },
        "id": "KbHk0RlfL_GT",
        "outputId": "e1b74e4e-45ec-40d7-f6a5-a970bd3f11ab"
      },
      "id": "KbHk0RlfL_GT",
      "execution_count": null,
      "outputs": [
        {
          "output_type": "error",
          "ename": "TypeError",
          "evalue": "can't convert cuda:0 device type tensor to numpy. Use Tensor.cpu() to copy the tensor to host memory first.",
          "traceback": [
            "\u001b[0;31m---------------------------------------------------------------------------\u001b[0m",
            "\u001b[0;31mTypeError\u001b[0m                                 Traceback (most recent call last)",
            "\u001b[0;32m<ipython-input-51-c479fd26a9ae>\u001b[0m in \u001b[0;36m<cell line: 0>\u001b[0;34m()\u001b[0m\n\u001b[0;32m----> 1\u001b[0;31m \u001b[0mtensor2\u001b[0m\u001b[0;34m.\u001b[0m\u001b[0mnumpy\u001b[0m\u001b[0;34m(\u001b[0m\u001b[0;34m)\u001b[0m\u001b[0;34m\u001b[0m\u001b[0;34m\u001b[0m\u001b[0m\n\u001b[0m",
            "\u001b[0;31mTypeError\u001b[0m: can't convert cuda:0 device type tensor to numpy. Use Tensor.cpu() to copy the tensor to host memory first."
          ]
        }
      ]
    },
    {
      "cell_type": "code",
      "source": [
        "tensor2.to(\"cpu\").numpy()"
      ],
      "metadata": {
        "id": "KH-B3g86L_D7"
      },
      "id": "KH-B3g86L_D7",
      "execution_count": null,
      "outputs": []
    },
    {
      "cell_type": "markdown",
      "id": "announced-underwear",
      "metadata": {
        "id": "announced-underwear"
      },
      "source": [
        "### 1. 2. 5 プログラムの基本"
      ]
    },
    {
      "cell_type": "markdown",
      "id": "49468ebc",
      "metadata": {
        "id": "49468ebc"
      },
      "source": [
        "#### 1 .2. 5 (1) for文（繰り返し構文）\n",
        "\n",
        "```\n",
        "# for文の例\n",
        "for i in データ集合:\n",
        "    変数iにおける処理\n",
        "\n",
        "# リスト内包表記として、1文での記述もできます。\n",
        "処理1 if 条件1 else 処理3\n",
        "```"
      ]
    },
    {
      "cell_type": "markdown",
      "id": "powerful-preserve",
      "metadata": {
        "id": "powerful-preserve"
      },
      "source": [
        "「1が入っている変数aに、5回だけ1を足して、毎回足した結果を出力するという処理」を行う"
      ]
    },
    {
      "cell_type": "code",
      "execution_count": null,
      "id": "isolated-cuisine",
      "metadata": {
        "id": "isolated-cuisine",
        "colab": {
          "base_uri": "https://localhost:8080/"
        },
        "outputId": "13a1d304-b1b3-49ed-b337-25a74b1384ee"
      },
      "outputs": [
        {
          "output_type": "stream",
          "name": "stdout",
          "text": [
            "2\n",
            "3\n",
            "4\n",
            "5\n",
            "6\n"
          ]
        }
      ],
      "source": [
        "# 1が入っている変数aの用意\n",
        "a = 1\n",
        "\n",
        "# for文で繰り返し処理を作成（足し算を5回繰り返す）\n",
        "for i in range(5):\n",
        "    # 変数aに1を足す\n",
        "    a = a + 1\n",
        "    # 足した結果を出力\n",
        "    print(a)\n",
        "\n",
        "# 補足：a = a + 1 は、a += 1 としても同様の処理ができます。"
      ]
    },
    {
      "cell_type": "markdown",
      "id": "tight-judgment",
      "metadata": {
        "id": "tight-judgment"
      },
      "source": [
        "#### 1. 2. 5 (2) if文（条件分岐処理構文）"
      ]
    },
    {
      "cell_type": "markdown",
      "id": "7907aa07",
      "metadata": {
        "id": "7907aa07"
      },
      "source": [
        "```\n",
        "# if文の例\n",
        "if 条件式1:\n",
        "    条件式1を満たしたときの処理1\n",
        "elif 条件式2：\n",
        "    条件式2を満たしたときの処理2\n",
        "else:\n",
        "    条件式1と2を満たさないときの処理3\n",
        "```"
      ]
    },
    {
      "cell_type": "markdown",
      "id": "79614cc2",
      "metadata": {
        "id": "79614cc2"
      },
      "source": [
        "条件式を指定する際の論理演算子\n",
        "\n",
        "|  |  |\n",
        "|:-|:-|\n",
        "| == | 等しい |\n",
        "| != | 等しくない |\n",
        "| < | 小なり (<) |\n",
        "| <= | 以下 (≦) |\n",
        "| > | 大なり (>) |\n",
        "| >= | 以上 (≧) |"
      ]
    },
    {
      "cell_type": "markdown",
      "id": "electric-houston",
      "metadata": {
        "id": "electric-houston"
      },
      "source": [
        "「変数aが正であれば、”正の数”と出力して、正でなければaの値を出力するという処理」を行う"
      ]
    },
    {
      "cell_type": "code",
      "execution_count": null,
      "id": "orange-federal",
      "metadata": {
        "id": "orange-federal",
        "colab": {
          "base_uri": "https://localhost:8080/"
        },
        "outputId": "f062cfa9-a5a3-459e-b787-60d0d5e3b4f0"
      },
      "outputs": [
        {
          "output_type": "stream",
          "name": "stdout",
          "text": [
            "正の数\n"
          ]
        }
      ],
      "source": [
        "# 変数aの用意（例としてa = 5としましたが、負の値など試してください。）\n",
        "a = 5\n",
        "\n",
        "# if文条件分岐\n",
        "# a > 0 のときの処理\n",
        "if a > 0:\n",
        "    # \"正の数\"と出力\n",
        "    print(\"正の数\")\n",
        "# a > 0 でないときの処理\n",
        "else:\n",
        "    # \"0以下の数\"と出力\n",
        "    print(\"0以下の数\")"
      ]
    },
    {
      "cell_type": "code",
      "execution_count": null,
      "id": "recognized-gateway",
      "metadata": {
        "id": "recognized-gateway",
        "colab": {
          "base_uri": "https://localhost:8080/"
        },
        "outputId": "0c1bf265-6705-4f66-bc6b-927485a06f05"
      },
      "outputs": [
        {
          "output_type": "stream",
          "name": "stdout",
          "text": [
            "2\n",
            "4\n",
            "6\n",
            "8\n",
            "10\n"
          ]
        }
      ],
      "source": [
        "# 1が入っている変数aの用意\n",
        "a = 1\n",
        "\n",
        "# for文で繰り返し処理を作成（足し算を5回繰り返す）\n",
        "for i in range(5):\n",
        "    # 変数aに1を足す\n",
        "    a = a + 1\n",
        "\n",
        "    # if文で条件分岐\n",
        "    # もしaが2の倍数であれば、足し算の結果を出力する\n",
        "    if a % 2 == 0:\n",
        "        print(a)"
      ]
    },
    {
      "cell_type": "markdown",
      "id": "attended-natural",
      "metadata": {
        "id": "attended-natural"
      },
      "source": [
        "### 1. 2. 6 データの可視化"
      ]
    },
    {
      "cell_type": "code",
      "execution_count": null,
      "id": "aging-might",
      "metadata": {
        "id": "aging-might"
      },
      "outputs": [],
      "source": [
        "import matplotlib.pyplot as plt\n",
        "%matplotlib inline"
      ]
    },
    {
      "cell_type": "markdown",
      "id": "accompanied-allocation",
      "metadata": {
        "id": "accompanied-allocation"
      },
      "source": [
        "matplotlib.pyplotで出力されるグラフとして代表的なもの\n",
        "\n",
        "| 関数 | グラフ | 説明 |\n",
        "| :- | :- | :- |\n",
        "| plt.hist() | ヒストグラム | 1つの連続変数の分布を調べる |\n",
        "| plt.scatter() | 散布図 | 2つの連続変数の関係を調べる |\n",
        "| plt.bar() | 棒グラフ | 1つの連続変数の分布を調べる |"
      ]
    },
    {
      "cell_type": "markdown",
      "id": "mathematical-messenger",
      "metadata": {
        "id": "mathematical-messenger"
      },
      "source": [
        "詳細については、https://matplotlib.org/ やPythonのコマンドに関する参考書を参照ください"
      ]
    },
    {
      "cell_type": "markdown",
      "id": "special-ticket",
      "metadata": {
        "id": "special-ticket"
      },
      "source": [
        "#### 1. 2. 6 (1) ヒストグラム"
      ]
    },
    {
      "cell_type": "code",
      "execution_count": null,
      "id": "described-contractor",
      "metadata": {
        "id": "described-contractor",
        "colab": {
          "base_uri": "https://localhost:8080/",
          "height": 311
        },
        "outputId": "c192369f-0eaf-4232-ca67-654ec99dad9c"
      },
      "outputs": [
        {
          "output_type": "display_data",
          "data": {
            "text/plain": [
              "<Figure size 500x300 with 1 Axes>"
            ],
            "image/png": "[encoded data removed]"
          },
          "metadata": {}
        }
      ],
      "source": [
        "# 描画するFigureのサイズを指定する\n",
        "fig = plt.figure(figsize=(5, 3))\n",
        "\n",
        "# binの数を指定する\n",
        "bins = [-12, -10, -8, -6, -4, -2, 0, 2]\n",
        "\n",
        "# LogS(mols/L)に対してヒストグラムを作成する\n",
        "plt.hist(df[\"LogS(mols/L)\"], bins=bins)\n",
        "\n",
        "# 軸の名前を指定する\n",
        "plt.xlabel(\"LogS(mols/L)\")\n",
        "plt.ylabel(\"Frequence\")\n",
        "plt.grid()\n",
        "plt.show()"
      ]
    },
    {
      "cell_type": "markdown",
      "source": [
        "#### 1. 2. 6 (2) 散布図\n",
        "\n"
      ],
      "metadata": {
        "id": "mT_2m4TKf-hA"
      },
      "id": "mT_2m4TKf-hA"
    },
    {
      "cell_type": "code",
      "source": [
        "# 描画するFigureのサイズを指定する\n",
        "fig = plt.figure(figsize=(5, 5))\n",
        "\n",
        "# MolLogPとLogS(mols/L)に対して散布図を作成する\n",
        "plt.scatter(df[\"MolLogP\"], df[\"LogS(mols/L)\"])\n",
        "\n",
        "# 軸の名前を指定する\n",
        "plt.xlabel(\"MolLogP\")\n",
        "plt.ylabel(\"LogS(mols/L)\")\n",
        "plt.grid()\n",
        "plt.show()"
      ],
      "metadata": {
        "colab": {
          "base_uri": "https://localhost:8080/",
          "height": 465
        },
        "id": "ipgao65Wf-H_",
        "outputId": "6ef76a3d-549c-44e3-cbfb-67312fa8677c"
      },
      "id": "ipgao65Wf-H_",
      "execution_count": null,
      "outputs": [
        {
          "output_type": "display_data",
          "data": {
            "text/plain": [
              "<Figure size 500x500 with 1 Axes>"
            ],
            "image/png": "[encoded data removed]"
          },
          "metadata": {}
        }
      ]
    },
    {
      "cell_type": "markdown",
      "source": [
        "### 1. 2. 7 RDKit"
      ],
      "metadata": {
        "id": "OjTzwuH-XmEE"
      },
      "id": "OjTzwuH-XmEE"
    },
    {
      "cell_type": "markdown",
      "source": [
        "rdkitのインストール"
      ],
      "metadata": {
        "id": "Yls7_uqTk_2E"
      },
      "id": "Yls7_uqTk_2E"
    },
    {
      "cell_type": "code",
      "source": [
        "pip install rdkit"
      ],
      "metadata": {
        "id": "NffrQga5t13E",
        "colab": {
          "base_uri": "https://localhost:8080/"
        },
        "outputId": "b1d19e95-6229-459e-ec6f-27cc5dbe779b"
      },
      "id": "NffrQga5t13E",
      "execution_count": 1,
      "outputs": [
        {
          "output_type": "stream",
          "name": "stdout",
          "text": [
            "Collecting rdkit\n",
            "  Downloading rdkit-2025.3.2-cp311-cp311-manylinux_2_28_x86_64.whl.metadata (4.0 kB)\n",
            "Requirement already satisfied: numpy in /usr/local/lib/python3.11/dist-packages (from rdkit) (2.0.2)\n",
            "Requirement already satisfied: Pillow in /usr/local/lib/python3.11/dist-packages (from rdkit) (11.2.1)\n",
            "Downloading rdkit-2025.3.2-cp311-cp311-manylinux_2_28_x86_64.whl (35.2 MB)\n",
            "\u001b[2K   \u001b[90m━━━━━━━━━━━━━━━━━━━━━━━━━━━━━━━━━━━━━━━━\u001b[0m \u001b[32m35.2/35.2 MB\u001b[0m \u001b[31m15.0 MB/s\u001b[0m eta \u001b[36m0:00:00\u001b[0m\n",
            "\u001b[?25hInstalling collected packages: rdkit\n",
            "Successfully installed rdkit-2025.3.2\n"
          ]
        }
      ]
    },
    {
      "cell_type": "markdown",
      "source": [
        "rdkitのインポート"
      ],
      "metadata": {
        "id": "YDM50nomk9jq"
      },
      "id": "YDM50nomk9jq"
    },
    {
      "cell_type": "code",
      "source": [
        "import rdkit\n",
        "rdkit.__version__"
      ],
      "metadata": {
        "id": "-tEULXDsXq2h",
        "colab": {
          "base_uri": "https://localhost:8080/",
          "height": 35
        },
        "outputId": "3d3b2db6-8a04-4bd4-8cd0-bc1c6ee0d988"
      },
      "id": "-tEULXDsXq2h",
      "execution_count": 2,
      "outputs": [
        {
          "output_type": "execute_result",
          "data": {
            "text/plain": [
              "'2025.03.2'"
            ],
            "application/vnd.google.colaboratory.intrinsic+json": {
              "type": "string"
            }
          },
          "metadata": {},
          "execution_count": 2
        }
      ]
    },
    {
      "cell_type": "code",
      "source": [],
      "metadata": {
        "id": "yyGGlvu3w3sc"
      },
      "id": "yyGGlvu3w3sc",
      "execution_count": null,
      "outputs": []
    }
  ],
  "metadata": {
    "kernelspec": {
      "display_name": "Python 3",
      "name": "python3"
    },
    "language_info": {
      "codemirror_mode": {
        "name": "ipython",
        "version": 3
      },
      "file_extension": ".py",
      "mimetype": "text/x-python",
      "name": "python",
      "nbconvert_exporter": "python",
      "pygments_lexer": "ipython3",
      "version": "3.9.13"
    },
    "toc": {
      "base_numbering": 1,
      "nav_menu": {},
      "number_sections": true,
      "sideBar": true,
      "skip_h1_title": false,
      "title_cell": "Table of Contents",
      "title_sidebar": "Contents",
      "toc_cell": false,
      "toc_position": {},
      "toc_section_display": true,
      "toc_window_display": false
    },
    "colab": {
      "provenance": [],
      "gpuType": "T4"
    },
    "accelerator": "GPU"
  },
  "nbformat": 4,
  "nbformat_minor": 5
}