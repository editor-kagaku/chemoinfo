{
  "cells": [
    {
      "cell_type": "markdown",
      "id": "4a41669b",
      "metadata": {
        "id": "4a41669b"
      },
      "source": [
        "# 第3章　化合物データベースを使う"
      ]
    },
    {
      "cell_type": "markdown",
      "id": "eff2ef67",
      "metadata": {
        "id": "eff2ef67"
      },
      "source": [
        "## 3-1. 代表的な化合物データベース\n",
        "\n",
        "\n",
        "\n"
      ]
    },
    {
      "cell_type": "markdown",
      "metadata": {
        "id": "viUIo51L4icv"
      },
      "source": [
        "## 3-2. データベースへのアクセス"
      ],
      "id": "viUIo51L4icv"
    },
    {
      "cell_type": "markdown",
      "source": [
        "### 3-2-1. ウェブサイト経由でアクセスする方法"
      ],
      "metadata": {
        "id": "E9An-PIF5P6r"
      },
      "id": "E9An-PIF5P6r"
    },
    {
      "cell_type": "markdown",
      "source": [
        "## 3-2-2. APIを利用する方法"
      ],
      "metadata": {
        "id": "yd9CZV0z7mw6"
      },
      "id": "yd9CZV0z7mw6"
    },
    {
      "cell_type": "code",
      "source": [
        "import requests\n",
        "\n",
        "chembl_id = 'CHEMBL941'\n",
        "url = f\"https://www.ebi.ac.uk/chembl/api/data/molecule/{chembl_id}.json\"\n",
        "\n",
        "response = requests.get(url)\n",
        "data = response.json()\n",
        "\n",
        "pref_name = data.get(\"pref_name\")\n",
        "mw_freebase = data.get(\"molecule_properties\", {}).get(\"mw_freebase\")\n",
        "alogp = data.get(\"molecule_properties\", {}).get(\"alogp\")\n",
        "max_phase = data.get(\"max_phase\")\n",
        "\n",
        "print(f\"Compound Name: {pref_name}\")\n",
        "print(f\"Molecular Weight: {mw_freebase}\")\n",
        "print(f\"AlogP: {alogp}\")\n",
        "print(f\"Max Phase: {max_phase}\")"
      ],
      "metadata": {
        "colab": {
          "base_uri": "https://localhost:8080/"
        },
        "id": "a-6yhtbSXRHS",
        "outputId": "9d9f60e2-7cf7-46b8-d95f-cc32b741563b"
      },
      "id": "a-6yhtbSXRHS",
      "execution_count": 2,
      "outputs": [
        {
          "output_type": "stream",
          "name": "stdout",
          "text": [
            "Compound Name: IMATINIB\n",
            "Molecular Weight: 493.62\n",
            "AlogP: 4.59\n",
            "Max Phase: 4.0\n"
          ]
        }
      ]
    },
    {
      "cell_type": "code",
      "source": [
        "import requests\n",
        "\n",
        "chembl_id = \"CHEMBL941\"\n",
        "assay_url = f\"https://www.ebi.ac.uk/chembl/api/data/activity.json?molecule_chembl_id={chembl_id}\"\n",
        "assay_response = requests.get(assay_url)\n",
        "assay_data = assay_response.json()\n",
        "\n",
        "for activity in assay_data.get(\"activities\", []):\n",
        " print(\" アッセイID:\", activity.get(\"assay_chembl_id\", \" 情報なし\"))\n",
        " print(\" 実験名:\", activity.get(\"assay_description\", \" 情報なし\"))\n",
        " print(\" 標的名:\", activity.get(\"target_pref_name\", \" 情報なし\"))\n",
        " print(\" 活性値(pChEMBL):\", activity.get(\"pchembl_value\", \" 情報なし\"))"
      ],
      "metadata": {
        "colab": {
          "base_uri": "https://localhost:8080/"
        },
        "id": "kBvSndw08CUy",
        "outputId": "28ea0b3d-1a57-4924-a044-c4957e09e224"
      },
      "id": "kBvSndw08CUy",
      "execution_count": 6,
      "outputs": [
        {
          "output_type": "stream",
          "name": "stdout",
          "text": [
            " アッセイID: CHEMBL846551\n",
            " 実験名: Inhibition of Abl tyrosine kinase\n",
            " 標的名: Tyrosine-protein kinase ABL\n",
            " 活性値(pChEMBL): 7.40\n",
            " アッセイID: CHEMBL705013\n",
            " 実験名: Cytotoxic effect in K562 cells\n",
            " 標的名: K562\n",
            " 活性値(pChEMBL): 6.96\n",
            " アッセイID: CHEMBL700211\n",
            " 実験名: Inhibitory activity against human K562 cells growth using MTT assay\n",
            " 標的名: K562\n",
            " 活性値(pChEMBL): 6.40\n",
            " アッセイID: CHEMBL845556\n",
            " 実験名: Relative resistance is the ratio of IC50 values of drug with JTV-519 to that without the reversing agent\n",
            " 標的名: Unchecked\n",
            " 活性値(pChEMBL): None\n",
            " アッセイID: CHEMBL763440\n",
            " 実験名: Inhibition of wild type Platelet-derived growth factor receptor beta phosphorylation in CHO cells\n",
            " 標的名: Platelet-derived growth factor receptor beta\n",
            " 活性値(pChEMBL): 6.62\n",
            " アッセイID: CHEMBL766073\n",
            " 実験名: Inhibition of chimeric PDGF receptor with c-kit cytoplasmic domain phosphorylation in CHO cells\n",
            " 標的名: Stem cell growth factor receptor\n",
            " 活性値(pChEMBL): 6.58\n",
            " アッセイID: CHEMBL766072\n",
            " 実験名: Inhibition of chimeric PDGF receptor with FLT-3 cytoplasmic domain phosphorylation in CHO cells\n",
            " 標的名: Tyrosine-protein kinase receptor FLT3\n",
            " 活性値(pChEMBL): None\n",
            " アッセイID: CHEMBL766070\n",
            " 実験名: Inhibition of chimeric PDGF receptor with CSF-1R cytoplasmic domain phosphorylation in CHO cells\n",
            " 標的名: Macrophage colony stimulating factor receptor\n",
            " 活性値(pChEMBL): 6.02\n",
            " アッセイID: CHEMBL846547\n",
            " 実験名: Inhibition of v-Abl tyrosine kinase.\n",
            " 標的名: Tyrosine-protein kinase ABL\n",
            " 活性値(pChEMBL): 7.42\n",
            " アッセイID: CHEMBL675386\n",
            " 実験名: Inhibition of the epidermal growth factor receptor.\n",
            " 標的名: Epidermal growth factor receptor erbB1\n",
            " 活性値(pChEMBL): None\n",
            " アッセイID: CHEMBL822803\n",
            " 実験名: Inhibition of c-Src-tyrosine kinase.\n",
            " 標的名: Tyrosine-protein kinase SRC\n",
            " 活性値(pChEMBL): None\n",
            " アッセイID: CHEMBL765715\n",
            " 実験名: Inhibition of the platelet-derived growth factor receptor.\n",
            " 標的名: Platelet-derived growth factor receptor\n",
            " 活性値(pChEMBL): 7.30\n",
            " アッセイID: CHEMBL767982\n",
            " 実験名: Inhibition of protein kinase A.\n",
            " 標的名: cAMP-dependent protein kinase (PKA)\n",
            " 活性値(pChEMBL): None\n",
            " アッセイID: CHEMBL767025\n",
            " 実験名: Inhibition of protein kinase C alpha.\n",
            " 標的名: Protein kinase C alpha\n",
            " 活性値(pChEMBL): None\n",
            " アッセイID: CHEMBL766318\n",
            " 実験名: Inhibition of protein kinase C delta.\n",
            " 標的名: Protein kinase C delta\n",
            " 活性値(pChEMBL): None\n",
            " アッセイID: CHEMBL874484\n",
            " 実験名: Partition coefficient (logP)\n",
            " 標的名: No relevant target\n",
            " 活性値(pChEMBL): None\n",
            " アッセイID: CHEMBL632404\n",
            " 実験名: Dissociation constant pKa was determined\n",
            " 標的名: No relevant target\n",
            " 活性値(pChEMBL): None\n",
            " アッセイID: CHEMBL880421\n",
            " 実験名: Inhibitory concentration against c-Kit wild type expressed in recombinant baculovirus\n",
            " 標的名: Stem cell growth factor receptor\n",
            " 活性値(pChEMBL): 7.00\n",
            " アッセイID: CHEMBL873572\n",
            " 実験名: Inhibitory concentration against c-Kit D816V type expressed in recombinant baculovirus\n",
            " 標的名: Stem cell growth factor receptor\n",
            " 活性値(pChEMBL): 5.00\n",
            " アッセイID: CHEMBL883395\n",
            " 実験名: Inhibitory concentration against IL-3 independent Ba/F3 Kit cell line with SCF (kit-ligand)\n",
            " 標的名: Stem cell growth factor receptor\n",
            " 活性値(pChEMBL): 6.40\n"
          ]
        }
      ]
    },
    {
      "cell_type": "code",
      "source": [
        "import requests\n",
        "\n",
        "chembl_id = \"CHEMBL941\"\n",
        "assay_url = f\"https://www.ebi.ac.uk/chembl/api/data/activity.json?molecule_chembl_id={chembl_id}\"\n",
        "\n",
        "assay_response = requests.get(assay_url)\n",
        "assay_data = assay_response.json()\n",
        "\n",
        "for activity in assay_data.get(\"activities\", []):\n",
        " print(\"アッセイID:\", activity.get(\"assay_chembl_id\", \"情報なし\"))\n",
        " print(\"実験名:\", activity.get(\"assay_description\", \"情報なし\"))\n",
        " print(\"標的名:\", activity.get(\"target_pref_name\", \"情報なし\"))\n",
        " print(\"活性値(pChEMBL値):\", activity.get(\"pchembl_value\", \"情報なし\"))\n",
        "\n"
      ],
      "metadata": {
        "colab": {
          "base_uri": "https://localhost:8080/"
        },
        "id": "Y1BMLdDr9JjI",
        "outputId": "fcaf63cf-4834-466e-fa64-d4b6586260d4"
      },
      "id": "Y1BMLdDr9JjI",
      "execution_count": null,
      "outputs": [
        {
          "output_type": "stream",
          "name": "stdout",
          "text": [
            "アッセイID: CHEMBL846551\n",
            "実験名: Inhibition of Abl tyrosine kinase\n",
            "標的名: Tyrosine-protein kinase ABL\n",
            "活性値(pChEMBL値): 7.40\n",
            "アッセイID: CHEMBL705013\n",
            "実験名: Cytotoxic effect in K562 cells\n",
            "標的名: K562\n",
            "活性値(pChEMBL値): 6.96\n",
            "アッセイID: CHEMBL700211\n",
            "実験名: Inhibitory activity against human K562 cells growth using MTT assay\n",
            "標的名: K562\n",
            "活性値(pChEMBL値): 6.40\n",
            "アッセイID: CHEMBL845556\n",
            "実験名: Relative resistance is the ratio of IC50 values of drug with JTV-519 to that without the reversing agent\n",
            "標的名: Unchecked\n",
            "活性値(pChEMBL値): None\n",
            "アッセイID: CHEMBL763440\n",
            "実験名: Inhibition of wild type Platelet-derived growth factor receptor beta phosphorylation in CHO cells\n",
            "標的名: Platelet-derived growth factor receptor beta\n",
            "活性値(pChEMBL値): 6.62\n",
            "アッセイID: CHEMBL766073\n",
            "実験名: Inhibition of chimeric PDGF receptor with c-kit cytoplasmic domain phosphorylation in CHO cells\n",
            "標的名: Stem cell growth factor receptor\n",
            "活性値(pChEMBL値): 6.58\n",
            "アッセイID: CHEMBL766072\n",
            "実験名: Inhibition of chimeric PDGF receptor with FLT-3 cytoplasmic domain phosphorylation in CHO cells\n",
            "標的名: Tyrosine-protein kinase receptor FLT3\n",
            "活性値(pChEMBL値): None\n",
            "アッセイID: CHEMBL766070\n",
            "実験名: Inhibition of chimeric PDGF receptor with CSF-1R cytoplasmic domain phosphorylation in CHO cells\n",
            "標的名: Macrophage colony stimulating factor receptor\n",
            "活性値(pChEMBL値): 6.02\n",
            "アッセイID: CHEMBL846547\n",
            "実験名: Inhibition of v-Abl tyrosine kinase.\n",
            "標的名: Tyrosine-protein kinase ABL\n",
            "活性値(pChEMBL値): 7.42\n",
            "アッセイID: CHEMBL675386\n",
            "実験名: Inhibition of the epidermal growth factor receptor.\n",
            "標的名: Epidermal growth factor receptor erbB1\n",
            "活性値(pChEMBL値): None\n",
            "アッセイID: CHEMBL822803\n",
            "実験名: Inhibition of c-Src-tyrosine kinase.\n",
            "標的名: Tyrosine-protein kinase SRC\n",
            "活性値(pChEMBL値): None\n",
            "アッセイID: CHEMBL765715\n",
            "実験名: Inhibition of the platelet-derived growth factor receptor.\n",
            "標的名: Platelet-derived growth factor receptor\n",
            "活性値(pChEMBL値): 7.30\n",
            "アッセイID: CHEMBL767982\n",
            "実験名: Inhibition of protein kinase A.\n",
            "標的名: cAMP-dependent protein kinase (PKA)\n",
            "活性値(pChEMBL値): None\n",
            "アッセイID: CHEMBL767025\n",
            "実験名: Inhibition of protein kinase C alpha.\n",
            "標的名: Protein kinase C alpha\n",
            "活性値(pChEMBL値): None\n",
            "アッセイID: CHEMBL766318\n",
            "実験名: Inhibition of protein kinase C delta.\n",
            "標的名: Protein kinase C delta\n",
            "活性値(pChEMBL値): None\n",
            "アッセイID: CHEMBL874484\n",
            "実験名: Partition coefficient (logP)\n",
            "標的名: No relevant target\n",
            "活性値(pChEMBL値): None\n",
            "アッセイID: CHEMBL632404\n",
            "実験名: Dissociation constant pKa was determined\n",
            "標的名: No relevant target\n",
            "活性値(pChEMBL値): None\n",
            "アッセイID: CHEMBL880421\n",
            "実験名: Inhibitory concentration against c-Kit wild type expressed in recombinant baculovirus\n",
            "標的名: Stem cell growth factor receptor\n",
            "活性値(pChEMBL値): 7.00\n",
            "アッセイID: CHEMBL873572\n",
            "実験名: Inhibitory concentration against c-Kit D816V type expressed in recombinant baculovirus\n",
            "標的名: Stem cell growth factor receptor\n",
            "活性値(pChEMBL値): 5.00\n",
            "アッセイID: CHEMBL883395\n",
            "実験名: Inhibitory concentration against IL-3 independent Ba/F3 Kit cell line with SCF (kit-ligand)\n",
            "標的名: Stem cell growth factor receptor\n",
            "活性値(pChEMBL値): 6.40\n"
          ]
        }
      ]
    },
    {
      "cell_type": "markdown",
      "id": "7dd50c3f",
      "metadata": {
        "id": "7dd50c3f"
      },
      "source": [
        "### 3-2-3. ローカルPCで利用する方法"
      ]
    },
    {
      "cell_type": "markdown",
      "source": [],
      "metadata": {
        "id": "g8KySRs_hqbA"
      },
      "id": "g8KySRs_hqbA"
    },
    {
      "cell_type": "markdown",
      "source": [
        "## 3-3. 応用編"
      ],
      "metadata": {
        "id": "Oh4s6CZBBeE3"
      },
      "id": "Oh4s6CZBBeE3"
    },
    {
      "cell_type": "markdown",
      "source": [
        "### 3-3-1. PubChem APIを用いた化合物の類似性検索"
      ],
      "metadata": {
        "id": "nMT5eJVhgjcy"
      },
      "id": "nMT5eJVhgjcy"
    },
    {
      "cell_type": "code",
      "source": [
        "import requests\n",
        "\n",
        "def get_similar_compounds(smiles, threshold=90):\n",
        "    url = f\"https://pubchem.ncbi.nlm.nih.gov/rest/pug/compound/fastsimilarity_2d/smiles/{smiles}/cids/JSON?Threshold={threshold}\"\n",
        "    response = requests.get(url)\n",
        "\n",
        "    if response.status_code == 200:\n",
        "        data = response.json()\n",
        "        return data.get('IdentifierList', {}).get('CID', [])\n",
        "    else:\n",
        "        print(\"データ取得に失敗しました。\")\n",
        "        return []\n",
        "\n",
        "def get_smiles_from_cid(cid):\n",
        "    url = f\"https://pubchem.ncbi.nlm.nih.gov/rest/pug/compound/cid/{cid}/property/CanonicalSMILES/JSON\"\n",
        "    response = requests.get(url)\n",
        "\n",
        "    if response.status_code == 200:\n",
        "        data = response.json()\n",
        "        return data['PropertyTable']['Properties'][0]['CanonicalSMILES']\n",
        "    else:\n",
        "        print(\"データ取得に失敗しました。\")\n",
        "        return []\n",
        "\n",
        "#Abrocitinib のSMILES ： \"CCCS(=O)(=O)NC1CC(C1)N(C)C2=NC=NC3=C2C=CN3\"\n",
        "query = \"CCCS(=O)(=O)NC1CC(C1)N(C)C2=NC=NC3=C2C=CN3\"\n",
        "similar_cids = get_similar_compounds(query, threshold=90)\n",
        "\n",
        "for cid in similar_cids[:10]:\n",
        "    smiles = get_smiles_from_cid(cid)\n",
        "    print(f\"CID: {cid}, SMILES: {smiles}\")"
      ],
      "metadata": {
        "colab": {
          "base_uri": "https://localhost:8080/"
        },
        "id": "6SKk0rzWVGHq",
        "outputId": "3ada8393-89d2-4ed6-f5f4-82f72e4eee28"
      },
      "id": "6SKk0rzWVGHq",
      "execution_count": 7,
      "outputs": [
        {
          "output_type": "stream",
          "name": "stdout",
          "text": [
            "CID: 78323835, SMILES: CCCS(=O)(=O)NC1CC(C1)N(C)C2=NC=NC3=C2C=CN3\n",
            "CID: 44631938, SMILES: CNS(=O)(=O)CC1CCC(CC1)N(C)C2=NC=NC3=C2C=CN3\n",
            "CID: 122199230, SMILES: CN(C1CC(C1)NS(=O)(=O)C)C2=NC=NC3=C2C=CN3\n",
            "CID: 78320046, SMILES: CCCS(=O)(=O)CC1CC(C1)N(C)C2=NC=NC3=C2C=CN3\n",
            "CID: 78320048, SMILES: CCCCS(=O)(=O)CC1CC(C1)N(C)C2=NC=NC3=C2C=CN3\n",
            "CID: 78323836, SMILES: CN(C1CC(C1)NS(=O)(=O)CC(F)(F)F)C2=NC=NC3=C2C=CN3\n",
            "CID: 78323837, SMILES: CC(C)CS(=O)(=O)NC1CC(C1)N(C)C2=NC=NC3=C2C=CN3\n",
            "CID: 78324132, SMILES: CN(C1CC(C1)NS(=O)(=O)CC2COC2)C3=NC=NC4=C3C=CN4\n",
            "CID: 78324136, SMILES: CN(C1CC(C1)NS(=O)(=O)CC2CC2)C3=NC=NC4=C3C=CN4\n",
            "CID: 78324435, SMILES: CN(C1CC(C1)NS(=O)(=O)NCC2CC2)C3=NC=NC4=C3C=CN4\n"
          ]
        }
      ]
    },
    {
      "cell_type": "code",
      "source": [
        "### 3-3-2. 化合物データベースを使う上で注意する点"
      ],
      "metadata": {
        "id": "QzPypkNEhWYr"
      },
      "id": "QzPypkNEhWYr",
      "execution_count": null,
      "outputs": []
    },
    {
      "cell_type": "markdown",
      "source": [
        "## 3-4. この章で使用したPythonコード"
      ],
      "metadata": {
        "id": "PQhtiuhZNczR"
      },
      "id": "PQhtiuhZNczR"
    },
    {
      "cell_type": "markdown",
      "source": [
        "本章では、化合物データベースについてその基本的な使い方を学びました。化合物データベースは、創薬や化学研究において非常に有用なツールです。しかし、データベースは頻繁に更新され、新たな化合物情報や生物活性データが追加されます。また、既存のデータが修正・整理されることもよくあります。そのため、古いデータベースの情報をそのまま利用すると、実際の研究や解析結果に誤差が生じる可能性があります。常にデータベースの更新履歴を確認し、最新のバージョンを用いて分析することが重要です。また、化学データベースを使った解析では、「標準化」と呼ばれるプロセスが非常に重要です。PubChemやChEMBLのような大規模データベースには、化合物情報が多様な形式で保存されているため、データの一貫性を保つために標準化を行う必要があります。この標準化作業は、RDKitやChEMBL Structure Pipelineなどのツールを使うことで、効率的に行えます。さらに、データベースから取得する情報には、化合物の構造情報だけでなく、生物活性の実験条件、測定手法、ターゲット情報といった「メタデータ」も含まれています。これらのメタデータを適切に整理し活用することで、機械学習や解析結果の精度が向上します。"
      ],
      "metadata": {
        "id": "lZ5wG2ViNsyY"
      },
      "id": "lZ5wG2ViNsyY"
    }
  ],
  "metadata": {
    "colab": {
      "provenance": [],
      "toc_visible": true
    },
    "language_info": {
      "name": "python"
    },
    "kernelspec": {
      "name": "python3",
      "display_name": "Python 3"
    }
  },
  "nbformat": 4,
  "nbformat_minor": 5
}